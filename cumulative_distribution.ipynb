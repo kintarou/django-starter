{
  "nbformat": 4,
  "nbformat_minor": 0,
  "metadata": {
    "colab": {
      "name": "cumulative_distribution.ipynb",
      "version": "0.3.2",
      "provenance": [],
      "include_colab_link": true
    },
    "kernelspec": {
      "name": "python3",
      "display_name": "Python 3"
    }
  },
  "cells": [
    {
      "cell_type": "markdown",
      "metadata": {
        "id": "view-in-github",
        "colab_type": "text"
      },
      "source": [
        "[View in Colaboratory](https://colab.research.google.com/github/kintarou/django-starter/blob/master/cumulative_distribution.ipynb)"
      ]
    },
    {
      "metadata": {
        "id": "Smy40lXuBToy",
        "colab_type": "code",
        "colab": {}
      },
      "cell_type": "code",
      "source": [
        "import numpy as np\n",
        "import pandas as pd\n",
        "import scipy as sp\n",
        "from scipy import stats\n",
        "from matplotlib import pyplot as plt\n",
        "import seaborn as sns\n",
        "sns.set()\n",
        "%precision 3\n",
        "%matplotlib inline"
      ],
      "execution_count": 0,
      "outputs": []
    },
    {
      "metadata": {
        "id": "FnXR97vGBizF",
        "colab_type": "code",
        "colab": {
          "base_uri": "https://localhost:8080/",
          "height": 34
        },
        "outputId": "99ac4b8a-85eb-4b5a-aca4-c54c21693216"
      },
      "cell_type": "code",
      "source": [
        "sp.pi"
      ],
      "execution_count": 2,
      "outputs": [
        {
          "output_type": "execute_result",
          "data": {
            "text/plain": [
              "3.142"
            ]
          },
          "metadata": {
            "tags": []
          },
          "execution_count": 2
        }
      ]
    },
    {
      "metadata": {
        "id": "mDtI86fFBlXP",
        "colab_type": "code",
        "colab": {
          "base_uri": "https://localhost:8080/",
          "height": 34
        },
        "outputId": "1470ceb6-95a3-431e-cd10-be193d20f46f"
      },
      "cell_type": "code",
      "source": [
        "sp.exp(1)"
      ],
      "execution_count": 3,
      "outputs": [
        {
          "output_type": "execute_result",
          "data": {
            "text/plain": [
              "2.718"
            ]
          },
          "metadata": {
            "tags": []
          },
          "execution_count": 3
        }
      ]
    },
    {
      "metadata": {
        "id": "L_9X3-qeIG4t",
        "colab_type": "code",
        "colab": {
          "base_uri": "https://localhost:8080/",
          "height": 34
        },
        "outputId": "178cf13e-84a6-40b7-9bff-14a67b59223d"
      },
      "cell_type": "code",
      "source": [
        "x=3\n",
        "mu=4\n",
        "sigma=0.8\n",
        "1/(sp.sqrt(2*sp.pi*sigma**2))*sp.exp(-((x-mu)**2)/(2*sigma**2))"
      ],
      "execution_count": 4,
      "outputs": [
        {
          "output_type": "execute_result",
          "data": {
            "text/plain": [
              "0.228"
            ]
          },
          "metadata": {
            "tags": []
          },
          "execution_count": 4
        }
      ]
    },
    {
      "metadata": {
        "id": "v_UeNBH3ImMP",
        "colab_type": "code",
        "colab": {
          "base_uri": "https://localhost:8080/",
          "height": 34
        },
        "outputId": "40eaf991-dfb5-4b01-b593-d1527540d7bd"
      },
      "cell_type": "code",
      "source": [
        "stats.norm.pdf(loc=4,scale=0.8,x=3)"
      ],
      "execution_count": 5,
      "outputs": [
        {
          "output_type": "execute_result",
          "data": {
            "text/plain": [
              "0.228"
            ]
          },
          "metadata": {
            "tags": []
          },
          "execution_count": 5
        }
      ]
    },
    {
      "metadata": {
        "id": "nSkMgbNCIuNA",
        "colab_type": "code",
        "colab": {
          "base_uri": "https://localhost:8080/",
          "height": 34
        },
        "outputId": "d4837374-4634-4a4b-e591-7d9fd087549e"
      },
      "cell_type": "code",
      "source": [
        "norm_dist=stats.norm(loc=4,scale=0.8)\n",
        "norm_dist.pdf(x=3)"
      ],
      "execution_count": 6,
      "outputs": [
        {
          "output_type": "execute_result",
          "data": {
            "text/plain": [
              "0.228"
            ]
          },
          "metadata": {
            "tags": []
          },
          "execution_count": 6
        }
      ]
    },
    {
      "metadata": {
        "id": "IImaUuDsI7QX",
        "colab_type": "code",
        "colab": {
          "base_uri": "https://localhost:8080/",
          "height": 282
        },
        "outputId": "42fb219f-42d7-4fcd-fbf8-3414bd5fcbfe"
      },
      "cell_type": "code",
      "source": [
        "x_plot=np.arange(start=1,stop=7.1,step=0.1)\n",
        "plt.plot(x_plot,stats.norm.pdf(x=x_plot,loc=4,scale=0.8),color='blue')"
      ],
      "execution_count": 7,
      "outputs": [
        {
          "output_type": "execute_result",
          "data": {
            "text/plain": [
              "[<matplotlib.lines.Line2D at 0x7f19234d2c88>]"
            ]
          },
          "metadata": {
            "tags": []
          },
          "execution_count": 7
        },
        {
          "output_type": "display_data",
          "data": {
            "image/png": "[encoded data removed]",
            "text/plain": [
              "<matplotlib.figure.Figure at 0x7f19235e3518>"
            ]
          },
          "metadata": {
            "tags": []
          }
        }
      ]
    },
    {
      "metadata": {
        "id": "Lq1Vzp6oK7E0",
        "colab_type": "code",
        "colab": {
          "base_uri": "https://localhost:8080/",
          "height": 34
        },
        "outputId": "71dc37f1-478b-408a-920f-cda0d73db97c"
      },
      "cell_type": "code",
      "source": [
        "np.random.seed(1)\n",
        "simulated_sample=stats.norm.rvs(loc=4,scale=0.8,size=100000)\n",
        "simulated_sample"
      ],
      "execution_count": 8,
      "outputs": [
        {
          "output_type": "execute_result",
          "data": {
            "text/plain": [
              "array([5.299, 3.511, 3.577, ..., 4.065, 4.275, 3.402])"
            ]
          },
          "metadata": {
            "tags": []
          },
          "execution_count": 8
        }
      ]
    },
    {
      "metadata": {
        "id": "WRmN9V6VLL6D",
        "colab_type": "code",
        "colab": {
          "base_uri": "https://localhost:8080/",
          "height": 34
        },
        "outputId": "78987334-71df-4ee6-e293-ab3851a8dc49"
      },
      "cell_type": "code",
      "source": [
        "sp.sum(simulated_sample<=3)"
      ],
      "execution_count": 9,
      "outputs": [
        {
          "output_type": "execute_result",
          "data": {
            "text/plain": [
              "10371"
            ]
          },
          "metadata": {
            "tags": []
          },
          "execution_count": 9
        }
      ]
    },
    {
      "metadata": {
        "id": "RDF5wa5aLT00",
        "colab_type": "code",
        "colab": {
          "base_uri": "https://localhost:8080/",
          "height": 34
        },
        "outputId": "723d040a-ca53-4197-a461-fbf3bac9dfa4"
      },
      "cell_type": "code",
      "source": [
        "sp.sum(simulated_sample<=3)/len(simulated_sample)"
      ],
      "execution_count": 10,
      "outputs": [
        {
          "output_type": "execute_result",
          "data": {
            "text/plain": [
              "0.104"
            ]
          },
          "metadata": {
            "tags": []
          },
          "execution_count": 10
        }
      ]
    },
    {
      "metadata": {
        "id": "M0hU4NXTBigT",
        "colab_type": "code",
        "colab": {
          "base_uri": "https://localhost:8080/",
          "height": 34
        },
        "outputId": "8826d531-060d-475d-e41e-61bf52958235"
      },
      "cell_type": "code",
      "source": [
        "stats.norm.cdf(loc=4,scale=0.8,x=3)"
      ],
      "execution_count": 14,
      "outputs": [
        {
          "output_type": "execute_result",
          "data": {
            "text/plain": [
              "0.106"
            ]
          },
          "metadata": {
            "tags": []
          },
          "execution_count": 14
        }
      ]
    },
    {
      "metadata": {
        "id": "wN1miYbQB20F",
        "colab_type": "code",
        "colab": {
          "base_uri": "https://localhost:8080/",
          "height": 34
        },
        "outputId": "bb40527e-ec18-4cb0-b3b4-01a3090ee335"
      },
      "cell_type": "code",
      "source": [
        "stats.norm.cdf(loc=4,scale=0.8,x=4)"
      ],
      "execution_count": 15,
      "outputs": [
        {
          "output_type": "execute_result",
          "data": {
            "text/plain": [
              "0.500"
            ]
          },
          "metadata": {
            "tags": []
          },
          "execution_count": 15
        }
      ]
    },
    {
      "metadata": {
        "id": "Me-T3wPVMZu4",
        "colab_type": "code",
        "colab": {
          "base_uri": "https://localhost:8080/",
          "height": 34
        },
        "outputId": "e81d76f8-12ee-4838-99b3-26999f740b94"
      },
      "cell_type": "code",
      "source": [
        "stats.norm.ppf(loc=4,scale=0.8,q=0.025)"
      ],
      "execution_count": 16,
      "outputs": [
        {
          "output_type": "execute_result",
          "data": {
            "text/plain": [
              "2.432"
            ]
          },
          "metadata": {
            "tags": []
          },
          "execution_count": 16
        }
      ]
    },
    {
      "metadata": {
        "id": "y9B1ImycMo1t",
        "colab_type": "code",
        "colab": {
          "base_uri": "https://localhost:8080/",
          "height": 34
        },
        "outputId": "54ab7c9a-aec6-4d15-fadc-77053f39a89a"
      },
      "cell_type": "code",
      "source": [
        "shitagawa=stats.norm.cdf(loc=4,scale=0.8,x=3)\n",
        "stats.norm.ppf(loc=4,scale=0.8,q=shitagawa)"
      ],
      "execution_count": 17,
      "outputs": [
        {
          "output_type": "execute_result",
          "data": {
            "text/plain": [
              "3.000"
            ]
          },
          "metadata": {
            "tags": []
          },
          "execution_count": 17
        }
      ]
    },
    {
      "metadata": {
        "id": "PdwQAH18NCl4",
        "colab_type": "code",
        "colab": {
          "base_uri": "https://localhost:8080/",
          "height": 34
        },
        "outputId": "45eeabee-bfb4-4c41-91d9-e2cc828df4b9"
      },
      "cell_type": "code",
      "source": [
        "stats.norm.ppf(loc=4,scale=0.8,q=0.5)"
      ],
      "execution_count": 19,
      "outputs": [
        {
          "output_type": "execute_result",
          "data": {
            "text/plain": [
              "4.000"
            ]
          },
          "metadata": {
            "tags": []
          },
          "execution_count": 19
        }
      ]
    },
    {
      "metadata": {
        "id": "_hW-1Rl1NTuR",
        "colab_type": "code",
        "colab": {}
      },
      "cell_type": "code",
      "source": [
        "np.random.seed(1)\n",
        "t_value_array=np.zeros(10000)\n",
        "norm_dist=stats.norm(loc=4,scale=0.8)\n",
        "for i in range(0,10000):\n",
        "  sample=norm_dist.rvs(size=10)\n",
        "  sample_mean=sp.mean(sample)\n",
        "  sample_std=sp.std(sample,ddof=1)\n",
        "  sample_se=sample_std/sp.sqrt(len(sample))\n",
        "  t_value_array[i]=(sample_mean-4)/sample_se"
      ],
      "execution_count": 0,
      "outputs": []
    },
    {
      "metadata": {
        "id": "xDHMGQrhOLJY",
        "colab_type": "code",
        "colab": {
          "base_uri": "https://localhost:8080/",
          "height": 282
        },
        "outputId": "4ab11839-e22d-43b1-818a-9eb1ec6fa781"
      },
      "cell_type": "code",
      "source": [
        "sns.distplot(t_value_array,color='blue')\n",
        "x=np.arange(start=-8,stop=8.1,step=0.1)\n",
        "plt.plot(x,stats.norm.pdf(x=x),color='red',linestyle='dotted')"
      ],
      "execution_count": 22,
      "outputs": [
        {
          "output_type": "execute_result",
          "data": {
            "text/plain": [
              "[<matplotlib.lines.Line2D at 0x7f19213dd7b8>]"
            ]
          },
          "metadata": {
            "tags": []
          },
          "execution_count": 22
        },
        {
          "output_type": "display_data",
          "data": {
            "image/png": "[encoded data removed]",
            "text/plain": [
              "<matplotlib.figure.Figure at 0x7f19213ddb70>"
            ]
          },
          "metadata": {
            "tags": []
          }
        }
      ]
    },
    {
      "metadata": {
        "id": "5ZZHLRySQQRK",
        "colab_type": "code",
        "colab": {
          "base_uri": "https://localhost:8080/",
          "height": 282
        },
        "outputId": "afbe4171-5853-4c1f-eeb1-3dbab4a15445"
      },
      "cell_type": "code",
      "source": [
        "plt.plot(x,stats.norm.pdf(x=x),color='red',linestyle='dotted')\n",
        "plt.plot(x,stats.t.pdf(x=x,df=9),color='blue')"
      ],
      "execution_count": 23,
      "outputs": [
        {
          "output_type": "execute_result",
          "data": {
            "text/plain": [
              "[<matplotlib.lines.Line2D at 0x7f19234e0400>]"
            ]
          },
          "metadata": {
            "tags": []
          },
          "execution_count": 23
        },
        {
          "output_type": "display_data",
          "data": {
            "image/png": "[encoded data removed]",
            "text/plain": [
              "<matplotlib.figure.Figure at 0x7f19234e0eb8>"
            ]
          },
          "metadata": {
            "tags": []
          }
        }
      ]
    },
    {
      "metadata": {
        "id": "ynYaXiUQQtuT",
        "colab_type": "code",
        "colab": {
          "base_uri": "https://localhost:8080/",
          "height": 282
        },
        "outputId": "328da98c-58e5-4e3c-b0c6-e0a54f476916"
      },
      "cell_type": "code",
      "source": [
        "sns.distplot(t_value_array,color='red',norm_hist=True)\n",
        "plt.plot(x,stats.t.pdf(x=x,df=9),color='blue',linestyle='dotted',linewidth=3)"
      ],
      "execution_count": 27,
      "outputs": [
        {
          "output_type": "execute_result",
          "data": {
            "text/plain": [
              "[<matplotlib.lines.Line2D at 0x7f1920ead160>]"
            ]
          },
          "metadata": {
            "tags": []
          },
          "execution_count": 27
        },
        {
          "output_type": "display_data",
          "data": {
            "image/png": "[encoded data removed]",
            "text/plain": [
              "<matplotlib.figure.Figure at 0x7f1920eadcf8>"
            ]
          },
          "metadata": {
            "tags": []
          }
        }
      ]
    }
  ]
}