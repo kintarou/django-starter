{
  "nbformat": 4,
  "nbformat_minor": 0,
  "metadata": {
    "colab": {
      "name": "Untitled0.ipynb",
      "version": "0.3.2",
      "provenance": [],
      "collapsed_sections": []
    },
    "kernelspec": {
      "name": "python3",
      "display_name": "Python 3"
    }
  },
  "cells": [
    {
      "cell_type": "markdown",
      "metadata": {
        "id": "view-in-github",
        "colab_type": "text"
      },
      "source": [
        "[View in Colaboratory](https://colab.research.google.com/github/kintarou/django-starter/blob/dark-theme/fraction.ipynb)"
      ]
    },
    {
      "metadata": {
        "id": "AHOFHAKcWS1Z",
        "colab_type": "code",
        "colab": {}
      },
      "cell_type": "code",
      "source": [
        "import math\n",
        "import matplotlib.pyplot as plt\n",
        "g = 9.8\n",
        "\n",
        "def draw_graph(x,y):\n",
        "  plt.plot(x,y)\n",
        "  plt.xlabel('x-coordinate')\n",
        "  plt.ylabel('y-coordinate')\n",
        "  plt.title('Projectile motion at different initiak velocities and angles')\n",
        "  \n",
        "def frange(start, final, interval):\n",
        "  numbers=[]\n",
        "  while start<final:\n",
        "    numbers.append(start)\n",
        "    start=start+interval\n",
        "  return numbers\n",
        "\n",
        "def draw_trajectory(u,theta,t_flight):\n",
        "  x=[]\n",
        "  y=[]\n",
        "  intervals=frange(0,t_flight,0.001)\n",
        "  for t in intervals:\n",
        "    x.append(u*math.cos(theta)*t)\n",
        "    y.append(u*math.sin(theta)*t-0.5*g*t*t)\n",
        "  draw_graph(x,y)\n",
        "             \n",
        "if __name__ == '__main__':\n",
        "  num_trajectories=int(input('How many trajectories? '))\n",
        "  \n",
        "  velocities=[]\n",
        "  angles=[]\n",
        "  for i in range(1,num_trajectories+1):\n",
        "    v=input('Enter the initial velocity for trajectory {0}(m/s): '.format(i))\n",
        "    theta=input('Enter the angle of projection for trajectory {0} (degrees):'.format(i))\n",
        "    velocities.append(float(v))\n",
        "    angles.append(math.radians(float(theta)))\n",
        "    \n",
        "  for i in range(num_trajectories):\n",
        "    t_flight=2*velocities[i]*math.sin(angles[i])/g\n",
        "    S_x=velocities[i]*math.cos(angles[i])*t_flight\n",
        "    S_y=velocities[i]*math.sin(angles[i])*(t_flight/2)-(1/2)*g*(t_flight/2)**2\n",
        "    print('Initial velocity: {0}Angle of Projection: {1}'.format(velocities[i],math.degrees(angles[i])))\n",
        "    print('T: {0} S_x: {1} S_y: {2}'.format(t_flight, S_x, S_y))\n",
        "    print()\n",
        "    draw_trajectory(velocities[i], angles[i], t_flight)\n",
        "    \n",
        "  legends=[]\n",
        "  for i in range(0, num_trajectories):\n",
        "    legends.append('{0}-{1}'.format(velocities[i],math.degrees(angles[i])))\n",
        "  plt.legend(legends)\n",
        "  plt.show\n",
        "    "
      ],
      "execution_count": 0,
      "outputs": []
    },
    {
      "metadata": {
        "id": "ejIg7d1l4WO5",
        "colab_type": "code",
        "colab": {}
      },
      "cell_type": "code",
      "source": [
        "from fractions import Fraction\n",
        "\n",
        "def add(a, b):\n",
        "  print('Result of adding {} and {} is {}'.format(a, b, a+b))\n",
        "def subtract(a,b):\n",
        "  print('Result of subtravting {} from {} is {}'.format(a, b, a-b))\n",
        "def divide(a, b):\n",
        "  print('Result of dividing {} by {} is {}'.format(a, b, a/b))\n",
        "def multiply(a, b):\n",
        "  print('Result of multiplying {} and {} is {}'.format(a, b, a*b))\n",
        "  \n",
        "if __name__ == '__main__':\n",
        "  try:\n",
        "    a = Fraction(input('Enter first fraction: '))\n",
        "    b = Fraction(input('Enter second fraction: '))\n",
        "    op = input('Operation to perform - Add, Subtract, Divide, Multiply: ')\n",
        "    if op == 'Add':\n",
        "      add(a, b)\n",
        "    if op == 'Subtract':\n",
        "      subtract(a, b)\n",
        "    if op == 'Divide':\n",
        "      divide(a, b)\n",
        "    if op == 'Multiply':\n",
        "      multiply(a, b)\n",
        "  except ValueError:\n",
        "    print('Invalid fraction entered')"
      ],
      "execution_count": 0,
      "outputs": []
    },
    {
      "metadata": {
        "id": "GrIMS0mRcch9",
        "colab_type": "code",
        "colab": {}
      },
      "cell_type": "code",
      "source": [
        "import matplotlib.pyplot as plt\n",
        "\n",
        "def create_bar_chart(data, labels):\n",
        "  num_bars=len(data)\n",
        "  positions=range(1,num_bars+1)\n",
        "  plt.barh(positions,data,align='center')\n",
        "  plt.yticks(positions,labels)\n",
        "  plt.xlabel('Amount')\n",
        "  plt.ylabel('Categories')\n",
        "  plt.title('Weekly expenditures')\n",
        "  plt.grid()\n",
        "  plt.show()\n",
        "  \n",
        "if __name__ == '__main__':\n",
        "  n=int(input('Enter the number of categories: '))\n",
        "  labels=[]\n",
        "  expenditures=[]\n",
        "  for i in range(n):\n",
        "    category=input('Enter category: ')\n",
        "    expenditure=float(input('Expenditure: '))\n",
        "    \n",
        "    labels.append(category)\n",
        "    expenditures.append(expenditure)\n",
        "  create_bar_chart(expenditures, labels)  "
      ],
      "execution_count": 0,
      "outputs": []
    },
    {
      "metadata": {
        "id": "rPZAWKst1Fhx",
        "colab_type": "code",
        "colab": {}
      },
      "cell_type": "code",
      "source": [
        "import matplotlib.pyplot as plt\n",
        "\n",
        "def fibo(n):\n",
        "  if n == 1:\n",
        "    return [1]\n",
        "  if n == 2:\n",
        "    return[1,1]\n",
        "  a = 1\n",
        "  b = 1\n",
        "  series=[a,b]\n",
        "  for i in range(n):\n",
        "    c = a + b\n",
        "    series.append(c)\n",
        "    a = b\n",
        "    b = c\n",
        "  return series\n",
        "\n",
        "def plot_ratio(series):\n",
        "  ratios=[]\n",
        "  for i in range(len(series)-1):\n",
        "    ratios.append(series[i+1]/series[i])\n",
        "    plt.plot(ratios)\n",
        "    plt.title('Ratio between Fibonacci numbers & golden ratio')\n",
        "    plt.ylabel('Ratio')\n",
        "    plt.xlabel('No.')\n",
        "    plt.show()\n",
        "    \n",
        "if __name__ == '__main__':\n",
        "  num=100\n",
        "  series=fibo(num)\n",
        "  plot_ratio(series)\n",
        "    "
      ],
      "execution_count": 0,
      "outputs": []
    },
    {
      "metadata": {
        "id": "hHOs8C19PTUF",
        "colab_type": "code",
        "colab": {}
      },
      "cell_type": "code",
      "source": [
        "import random\n",
        "\n",
        "for i in range(10):\n",
        "  x = random.randint(1,10)\n",
        "  print(x)"
      ],
      "execution_count": 0,
      "outputs": []
    },
    {
      "metadata": {
        "id": "29M8jaWldTFM",
        "colab_type": "code",
        "colab": {}
      },
      "cell_type": "code",
      "source": [
        "from sympy import factor, sympify, SympifyError\n",
        "\n",
        "def factorize(expr):\n",
        "  return factor(expr)\n",
        "\n",
        "if __name__== '__main__':\n",
        "  expr=input('Enter an expression to factorize: ')\n",
        "  try:\n",
        "    expr_obj=sympify(expr)\n",
        "  except SympifyError:\n",
        "    print('Invalid expression entered as input')\n",
        "  else:\n",
        "    print(factorize(expr_obj))"
      ],
      "execution_count": 0,
      "outputs": []
    }
  ]
}