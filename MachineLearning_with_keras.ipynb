{
  "nbformat": 4,
  "nbformat_minor": 0,
  "metadata": {
    "colab": {
      "name": "MachineLearning_with_keras.ipynb",
      "version": "0.3.2",
      "provenance": [],
      "include_colab_link": true
    },
    "kernelspec": {
      "name": "python3",
      "display_name": "Python 3"
    }
  },
  "cells": [
    {
      "cell_type": "markdown",
      "metadata": {
        "id": "view-in-github",
        "colab_type": "text"
      },
      "source": [
        "[View in Colaboratory](https://colab.research.google.com/github/kintarou/django-starter/blob/master/MachineLearning_with_keras.ipynb)"
      ]
    },
    {
      "metadata": {
        "id": "b5S8nlTsCwv8",
        "colab_type": "code",
        "colab": {
          "base_uri": "https://localhost:8080/",
          "height": 34
        },
        "outputId": "0efd00ce-4aec-4641-e865-863b524b47c0"
      },
      "cell_type": "code",
      "source": [
        "from sklearn import datasets, svm\n",
        "from sklearn.externals import joblib\n",
        "iris=datasets.load_iris()\n",
        "clf=svm.SVC()\n",
        "clf.fit(iris.data, iris.target)\n",
        "joblib.dump(clf, 'iris.pkl',compress=True)"
      ],
      "execution_count": 1,
      "outputs": [
        {
          "output_type": "execute_result",
          "data": {
            "text/plain": [
              "['iris.pkl']"
            ]
          },
          "metadata": {
            "tags": []
          },
          "execution_count": 1
        }
      ]
    },
    {
      "metadata": {
        "id": "UxTNE6umDoV6",
        "colab_type": "code",
        "colab": {
          "base_uri": "https://localhost:8080/",
          "height": 34
        },
        "outputId": "2b14d822-af8c-450d-97ba-f8ecbb4e155a"
      },
      "cell_type": "code",
      "source": [
        "from sklearn import datasets, svm\n",
        "from sklearn.externals import joblib\n",
        "from sklearn.metrics import accuracy_score\n",
        "clf=joblib.load('iris.pkl')\n",
        "iris=datasets.load_iris()\n",
        "pre=clf.predict(iris.data)\n",
        "print(accuracy_score(iris.target, pre))"
      ],
      "execution_count": 2,
      "outputs": [
        {
          "output_type": "stream",
          "text": [
            "0.9866666666666667\n"
          ],
          "name": "stdout"
        }
      ]
    },
    {
      "metadata": {
        "id": "w1RWdJm9ErhS",
        "colab_type": "code",
        "colab": {
          "base_uri": "https://localhost:8080/",
          "height": 1794
        },
        "outputId": "d951412e-6afe-456a-f03f-f6594ca789c6"
      },
      "cell_type": "code",
      "source": [
        "from sklearn import datasets\n",
        "import keras\n",
        "from keras.models import Sequential\n",
        "from keras.layers import Dense, Dropout\n",
        "from keras.utils.np_utils import to_categorical\n",
        "iris=datasets.load_iris()\n",
        "in_size=4\n",
        "nb_classes=3\n",
        "x=iris.data\n",
        "y=to_categorical(iris.target,nb_classes)\n",
        "model=Sequential()\n",
        "model.add(Dense(512, activation='relu',input_shape=(in_size,)))\n",
        "model.add(Dense(512, activation='relu'))\n",
        "model.add(Dropout(0.2))\n",
        "model.add(Dense(nb_classes,activation='softmax'))\n",
        "model.compile(loss='categorical_crossentropy',optimizer='adam',metrics=['accuracy'])\n",
        "model.fit(x, y, batch_size=20, epochs=50)\n",
        "\n",
        "model.save('iris.model.h5')\n",
        "model.save_weights('iris_weight.h5')"
      ],
      "execution_count": 8,
      "outputs": [
        {
          "output_type": "stream",
          "text": [
            "Epoch 1/50\n",
            "150/150 [==============================] - 0s 2ms/step - loss: 0.9094 - acc: 0.5333\n",
            "Epoch 2/50\n",
            "150/150 [==============================] - 0s 376us/step - loss: 0.6510 - acc: 0.7067\n",
            "Epoch 3/50\n",
            "150/150 [==============================] - 0s 378us/step - loss: 0.4446 - acc: 0.7600\n",
            "Epoch 4/50\n",
            "150/150 [==============================] - 0s 343us/step - loss: 0.4010 - acc: 0.7600\n",
            "Epoch 5/50\n",
            "150/150 [==============================] - 0s 342us/step - loss: 0.2871 - acc: 0.9133\n",
            "Epoch 6/50\n",
            "150/150 [==============================] - 0s 351us/step - loss: 0.2429 - acc: 0.9467\n",
            "Epoch 7/50\n",
            "150/150 [==============================] - 0s 440us/step - loss: 0.2238 - acc: 0.9200\n",
            "Epoch 8/50\n",
            "150/150 [==============================] - 0s 368us/step - loss: 0.2319 - acc: 0.8933\n",
            "Epoch 9/50\n",
            "150/150 [==============================] - 0s 382us/step - loss: 0.1760 - acc: 0.9533\n",
            "Epoch 10/50\n",
            "150/150 [==============================] - 0s 372us/step - loss: 0.1442 - acc: 0.9533\n",
            "Epoch 11/50\n",
            "150/150 [==============================] - 0s 377us/step - loss: 0.1361 - acc: 0.9667\n",
            "Epoch 12/50\n",
            "150/150 [==============================] - 0s 357us/step - loss: 0.1229 - acc: 0.9800\n",
            "Epoch 13/50\n",
            "150/150 [==============================] - 0s 366us/step - loss: 0.1135 - acc: 0.9600\n",
            "Epoch 14/50\n",
            "150/150 [==============================] - 0s 374us/step - loss: 0.1311 - acc: 0.9333\n",
            "Epoch 15/50\n",
            "150/150 [==============================] - 0s 359us/step - loss: 0.1093 - acc: 0.9533\n",
            "Epoch 16/50\n",
            "150/150 [==============================] - 0s 350us/step - loss: 0.1012 - acc: 0.9667\n",
            "Epoch 17/50\n",
            "150/150 [==============================] - 0s 370us/step - loss: 0.0911 - acc: 0.9867\n",
            "Epoch 18/50\n",
            "150/150 [==============================] - 0s 372us/step - loss: 0.0912 - acc: 0.9733\n",
            "Epoch 19/50\n",
            "150/150 [==============================] - 0s 372us/step - loss: 0.0895 - acc: 0.9667\n",
            "Epoch 20/50\n",
            "150/150 [==============================] - 0s 374us/step - loss: 0.0812 - acc: 0.9800\n",
            "Epoch 21/50\n",
            "150/150 [==============================] - 0s 374us/step - loss: 0.1658 - acc: 0.9267\n",
            "Epoch 22/50\n",
            "150/150 [==============================] - 0s 347us/step - loss: 0.1092 - acc: 0.9467\n",
            "Epoch 23/50\n",
            "150/150 [==============================] - 0s 354us/step - loss: 0.1002 - acc: 0.9600\n",
            "Epoch 24/50\n",
            "150/150 [==============================] - 0s 374us/step - loss: 0.0884 - acc: 0.9600\n",
            "Epoch 25/50\n",
            "150/150 [==============================] - 0s 360us/step - loss: 0.0743 - acc: 0.9667\n",
            "Epoch 26/50\n",
            "150/150 [==============================] - 0s 373us/step - loss: 0.1287 - acc: 0.9467\n",
            "Epoch 27/50\n",
            "150/150 [==============================] - 0s 370us/step - loss: 0.0805 - acc: 0.9667\n",
            "Epoch 28/50\n",
            "150/150 [==============================] - 0s 347us/step - loss: 0.1299 - acc: 0.9333\n",
            "Epoch 29/50\n",
            "150/150 [==============================] - 0s 347us/step - loss: 0.1299 - acc: 0.9333\n",
            "Epoch 30/50\n",
            "150/150 [==============================] - 0s 353us/step - loss: 0.0870 - acc: 0.9667\n",
            "Epoch 31/50\n",
            "150/150 [==============================] - 0s 379us/step - loss: 0.0721 - acc: 0.9800\n",
            "Epoch 32/50\n",
            "150/150 [==============================] - 0s 358us/step - loss: 0.0731 - acc: 0.9733\n",
            "Epoch 33/50\n",
            "150/150 [==============================] - 0s 376us/step - loss: 0.0615 - acc: 0.9867\n",
            "Epoch 34/50\n",
            "150/150 [==============================] - 0s 377us/step - loss: 0.0974 - acc: 0.9600\n",
            "Epoch 35/50\n",
            "150/150 [==============================] - 0s 390us/step - loss: 0.1135 - acc: 0.9533\n",
            "Epoch 36/50\n",
            "150/150 [==============================] - 0s 369us/step - loss: 0.0919 - acc: 0.9600\n",
            "Epoch 37/50\n",
            "150/150 [==============================] - 0s 369us/step - loss: 0.0987 - acc: 0.9467\n",
            "Epoch 38/50\n",
            "150/150 [==============================] - 0s 373us/step - loss: 0.0621 - acc: 0.9800\n",
            "Epoch 39/50\n",
            "150/150 [==============================] - 0s 371us/step - loss: 0.0704 - acc: 0.9733\n",
            "Epoch 40/50\n",
            "150/150 [==============================] - 0s 353us/step - loss: 0.0890 - acc: 0.9667\n",
            "Epoch 41/50\n",
            "150/150 [==============================] - 0s 365us/step - loss: 0.0666 - acc: 0.9733\n",
            "Epoch 42/50\n",
            "150/150 [==============================] - 0s 392us/step - loss: 0.0765 - acc: 0.9600\n",
            "Epoch 43/50\n",
            "150/150 [==============================] - 0s 349us/step - loss: 0.0718 - acc: 0.9667\n",
            "Epoch 44/50\n",
            "150/150 [==============================] - 0s 364us/step - loss: 0.0628 - acc: 0.9800\n",
            "Epoch 45/50\n",
            "150/150 [==============================] - 0s 362us/step - loss: 0.0624 - acc: 0.9800\n",
            "Epoch 46/50\n",
            "150/150 [==============================] - 0s 368us/step - loss: 0.0633 - acc: 0.9733\n",
            "Epoch 47/50\n",
            "150/150 [==============================] - 0s 357us/step - loss: 0.0817 - acc: 0.9733\n",
            "Epoch 48/50\n",
            "150/150 [==============================] - 0s 362us/step - loss: 0.0662 - acc: 0.9667\n",
            "Epoch 49/50\n",
            "150/150 [==============================] - 0s 352us/step - loss: 0.0699 - acc: 0.9733\n",
            "Epoch 50/50\n",
            "150/150 [==============================] - 0s 394us/step - loss: 0.1075 - acc: 0.9667\n"
          ],
          "name": "stdout"
        }
      ]
    }
  ]
}