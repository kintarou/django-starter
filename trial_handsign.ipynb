{
  "nbformat": 4,
  "nbformat_minor": 0,
  "metadata": {
    "colab": {
      "name": "trial_handsign.ipynb",
      "version": "0.3.2",
      "provenance": [],
      "include_colab_link": true
    },
    "kernelspec": {
      "name": "python3",
      "display_name": "Python 3"
    }
  },
  "cells": [
    {
      "cell_type": "markdown",
      "metadata": {
        "id": "view-in-github",
        "colab_type": "text"
      },
      "source": [
        "[View in Colaboratory](https://colab.research.google.com/github/kintarou/django-starter/blob/master/trial_handsign.ipynb)"
      ]
    },
    {
      "metadata": {
        "id": "yf_kJqDj5abo",
        "colab_type": "code",
        "colab": {}
      },
      "cell_type": "code",
      "source": [
        "import os\n",
        "import sys\n",
        "import glob\n",
        "import numpy as np\n",
        "from skimage import io\n",
        "from sklearn import datasets\n",
        "IMAGE_SIZE=40\n",
        "COLOR_BYTE=3\n",
        "CATEGORY_NUM=6\n",
        "def load_handimage(path):\n",
        "  files=glob.glob(os.path.join(path,'*/*.png'))\n",
        "  images=np.adarray((len(files),IMAGE_SIZE,IMAGE_SIZE,COLOR_BYTE),dtype=uint8)\n",
        "  labels=np.ndarray(len(files),dtype=np.int)\n",
        "  for idx,file in enumerate(files):\n",
        "    image=io.imread(file)\n",
        "    images[idx]=image\n",
        "    label=os.path.split(os.path.dtrname(file))[-1]\n",
        "    labels[idx]=int(label)\n",
        "  flat_data=images.reshape((-1,IMAGE_SIZE*IMAGE_SIZE*COLOR_BYTE))\n",
        "  images=flat_data.view()\n",
        "  return datasets.base.Bunch(data=flat_data,target_names=np.arange(CATEGORY_NUM),images=images,DESCR=None)\n",
        "from sklearn import svm,metrics\n",
        "if __name__ == 'main':\n",
        "  argvs=sys.argv\n",
        "  train_path=argvs[1]\n",
        "  test_path=argvs[2]\n",
        "  train=load_handimage(train_path)\n",
        "  classifier=svm.LinearSVC()\n",
        "  classifier.fit(train.data,train.target)\n",
        "  test=load_handimage(test_path)\n",
        "  predicted=classifier.predict(test.data)\n",
        "  print(\"Accuracy:\\n%s\" % metrics.accuracy_score(test.target, predicted))\n",
        "  "
      ],
      "execution_count": 0,
      "outputs": []
    }
  ]
}