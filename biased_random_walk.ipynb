{
  "nbformat": 4,
  "nbformat_minor": 0,
  "metadata": {
    "colab": {
      "name": "biased_random_walk.ipynb",
      "version": "0.3.2",
      "provenance": [],
      "include_colab_link": true
    },
    "kernelspec": {
      "name": "python3",
      "display_name": "Python 3"
    }
  },
  "cells": [
    {
      "cell_type": "markdown",
      "metadata": {
        "id": "view-in-github",
        "colab_type": "text"
      },
      "source": [
        "[View in Colaboratory](https://colab.research.google.com/github/kintarou/django-starter/blob/master/biased_random_walk.ipynb)"
      ]
    },
    {
      "metadata": {
        "id": "kIu3pSDEGsjp",
        "colab_type": "code",
        "colab": {}
      },
      "cell_type": "code",
      "source": [
        "class Location(object):\n",
        "  def __init__(self, x, y):\n",
        "    self.x, self.y = x, y\n",
        "  def move(self, deltaX, deltaY):\n",
        "    return Location(self.x + deltaX, self.y + deltaY)\n",
        "  def getX(self):\n",
        "    return self.x\n",
        "  def getY(self):\n",
        "    return self.y\n",
        "  def distFrom(self, other):\n",
        "    ox, oy = other.x, other.y\n",
        "    xDist, yDist = self.x - ox, self.y - oy\n",
        "    return(xDist**2 + yDist**2)**0.5\n",
        "  def __str__(self):\n",
        "    return '<' + str(self.x) + ', ' + str(self.y) + '>'\n",
        "  \n",
        "class Field(object):\n",
        "  def __init__(self):\n",
        "    self.drunks = {}\n",
        "  def addDrunk(self, drunk, loc):\n",
        "    if drunk in self.drunks:\n",
        "      raise ValueError('Duplicate drunk')\n",
        "    else:\n",
        "      self.drunks[drunk] = loc\n",
        "  def moveDrunk(self, drunk):\n",
        "    if drunk not in self.drunks:\n",
        "      raise ValueError('Drunk not in field')\n",
        "    xDist, yDist = drunk.takeStep()\n",
        "    currentLocation = self.drunks[drunk]\n",
        "    self.drunks[drunk] = currentLocation.move(xDist, yDist)\n",
        "  def getLoc(self, drunk):\n",
        "    if drunk not in self.drunks:\n",
        "      raise ValueError('Drunk not in field')\n",
        "    return self.drunks[drunk]  "
      ],
      "execution_count": 0,
      "outputs": []
    },
    {
      "metadata": {
        "id": "2_6aR1B_LIIr",
        "colab_type": "code",
        "colab": {}
      },
      "cell_type": "code",
      "source": [
        "import random\n",
        "\n",
        "class Drunk(object):\n",
        "  def __init__(self, name=None):\n",
        "    self.name = name\n",
        "  def __str__(self):\n",
        "    if self != None:\n",
        "      return self.name\n",
        "    return 'Anonymous'\n",
        "class UsualDrunk(Drunk):\n",
        "  def takeStep(self):\n",
        "    stepChoices = [(0,1),(0,-1),(1,0),(-1,0)]\n",
        "    return random.choice(stepChoices)\n",
        "    return random.choice(stepChoices)"
      ],
      "execution_count": 0,
      "outputs": []
    },
    {
      "metadata": {
        "id": "gSTmNmszLI-z",
        "colab_type": "code",
        "colab": {}
      },
      "cell_type": "code",
      "source": [
        "def walk(f, d, numSteps):\n",
        "  start = f.getLoc(d)\n",
        "  for i in range(numSteps):\n",
        "    f.moveDrunk(d)\n",
        "  return start.distFrom(f.getLoc(d))\n",
        "\n",
        "def simWalks(numSteps, numTrials, dClass):\n",
        "  Homer = dClass()\n",
        "  origin = Location(0,0)\n",
        "  distances = []\n",
        "  for t in range(numTrials):\n",
        "    f = Field()\n",
        "    f.addDrunk(Homer, origin)\n",
        "    distances.append(round(walk(f, Homer, numSteps), 1))\n",
        "  return distances\n",
        "\n",
        "def drunkTest(walkLengths, numTrials, dClass):\n",
        "  for numSteps in walkLengths:\n",
        "    distances = simWalks(numSteps, numTrials, dClass)\n",
        "    print(dClass.__name__, 'random of', numSteps, 'steps')\n",
        "    print(' Mean =', round(sum(distances)/len(distances), 4))\n",
        "    print(' Max =', max(distances), 'Min =', min(distances))"
      ],
      "execution_count": 0,
      "outputs": []
    },
    {
      "metadata": {
        "id": "G8eAdwvyKPGW",
        "colab_type": "code",
        "colab": {}
      },
      "cell_type": "code",
      "source": [
        "class ColdDrunk(Drunk):\n",
        "  def takeStep(self):\n",
        "    stepChoices = [(0.0,1.0),(0.0,-2.0),(1.0,0.0),(-1.0,0.0)]\n",
        "    return random.choice(stepChoices)\n",
        "class EWDrunk(Drunk):\n",
        "  def takeStep(self):\n",
        "    stepChoices = [(1.0,0.0),(-1.0,0.0)]\n",
        "    return random.choice(stepChoices)\n",
        "def simAll(drunkKinds, walkLengths, numTrials):\n",
        "  for dClass in drunkKinds:\n",
        "    drunkTest(walkLengths, numTrials, dClass)"
      ],
      "execution_count": 0,
      "outputs": []
    },
    {
      "metadata": {
        "id": "Bc1tA5cSJilD",
        "colab_type": "code",
        "colab": {
          "base_uri": "https://localhost:8080/",
          "height": 323
        },
        "outputId": "436ffad3-e21b-4fc2-d464-347e733a456d"
      },
      "cell_type": "code",
      "source": [
        "simAll((UsualDrunk, ColdDrunk, EWDrunk),(100,1000),10)"
      ],
      "execution_count": 12,
      "outputs": [
        {
          "output_type": "stream",
          "text": [
            "UsualDrunk random of 100 steps\n",
            " Mean = 9.5\n",
            " Max = 23.4 Min = 1.4\n",
            "UsualDrunk random of 1000 steps\n",
            " Mean = 22.87\n",
            " Max = 49.4 Min = 6.0\n",
            "ColdDrunk random of 100 steps\n",
            " Mean = 27.75\n",
            " Max = 57.6 Min = 14.0\n",
            "ColdDrunk random of 1000 steps\n",
            " Mean = 253.76\n",
            " Max = 333.5 Min = 200.6\n",
            "EWDrunk random of 100 steps\n",
            " Mean = 11.4\n",
            " Max = 18.0 Min = 4.0\n",
            "EWDrunk random of 1000 steps\n",
            " Mean = 23.8\n",
            " Max = 38.0 Min = 4.0\n"
          ],
          "name": "stdout"
        }
      ]
    },
    {
      "metadata": {
        "id": "EfcidRrILnrI",
        "colab_type": "code",
        "colab": {}
      },
      "cell_type": "code",
      "source": [
        "class styleIterator(object):\n",
        "  def __init__(self, styles):\n",
        "    self.index = 0\n",
        "    self.styles = styles\n",
        "  def nextStyle(self):\n",
        "    result = self.styles[self.index]\n",
        "    if self.index == len(self.styles)-1:\n",
        "      self.index = 0\n",
        "    else:\n",
        "      self.index += 1\n",
        "    return result  "
      ],
      "execution_count": 0,
      "outputs": []
    },
    {
      "metadata": {
        "id": "wrMJTy2fMTkp",
        "colab_type": "code",
        "colab": {
          "base_uri": "https://localhost:8080/",
          "height": 686
        },
        "outputId": "81719fc9-fab8-462a-90b0-f9cdf0d757bf"
      },
      "cell_type": "code",
      "source": [
        "import pylab\n",
        "def simDrunk(numTrials, dClass, walkLengths):\n",
        "  meanDistances = []\n",
        "  for numSteps in walkLengths:\n",
        "    print('Starting simulation of', numSteps, 'steps ')\n",
        "    trials = simWalks(numSteps, numTrials, dClass)\n",
        "    mean = sum(trials)/len(trials)\n",
        "    meanDistances.append(mean)\n",
        "  return meanDistances\n",
        "def simAll(drunkKinds, walkLengths, numTrials):\n",
        "  styleChoice = styleIterator(('m-', 'r:', 'k-,'))\n",
        "  for dClass in drunkKinds:\n",
        "    curStyle = styleChoice.nextStyle()\n",
        "    print('Starting simulations of' , dClass.__name__)\n",
        "    means = simDrunk(numTrials, dClass, walkLengths)\n",
        "    pylab.plot(walkLengths, means, curStyle, label=dClass.__name__)\n",
        "    pylab.title('Mean Distance from Origin('+str(numTrials)+'trials)')\n",
        "    pylab.xlabel('Number of Steps')\n",
        "    pylab.ylabel('Distance from Origin')\n",
        "    pylab.legend(loc = 'best')\n",
        "    pylab.semilogx()\n",
        "    pylab.semilogy()\n",
        "simAll((UsualDrunk, ColdDrunk, EWDrunk),(10,100,1000,10000,100000),100)    "
      ],
      "execution_count": 18,
      "outputs": [
        {
          "output_type": "stream",
          "text": [
            "Starting simulations of UsualDrunk\n",
            "Starting simulation of 10 steps \n",
            "Starting simulation of 100 steps \n",
            "Starting simulation of 1000 steps \n",
            "Starting simulation of 10000 steps \n",
            "Starting simulation of 100000 steps \n",
            "Starting simulations of ColdDrunk\n",
            "Starting simulation of 10 steps \n",
            "Starting simulation of 100 steps \n",
            "Starting simulation of 1000 steps \n",
            "Starting simulation of 10000 steps \n",
            "Starting simulation of 100000 steps \n",
            "Starting simulations of EWDrunk\n",
            "Starting simulation of 10 steps \n",
            "Starting simulation of 100 steps \n",
            "Starting simulation of 1000 steps \n",
            "Starting simulation of 10000 steps \n",
            "Starting simulation of 100000 steps \n"
          ],
          "name": "stdout"
        },
        {
          "output_type": "display_data",
          "data": {
            "image/png": "[encoded data removed]",
            "text/plain": [
              "<matplotlib.figure.Figure at 0x7f594af5ab00>"
            ]
          },
          "metadata": {
            "tags": []
          }
        }
      ]
    }
  ]
}