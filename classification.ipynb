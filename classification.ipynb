{
  "nbformat": 4,
  "nbformat_minor": 0,
  "metadata": {
    "colab": {
      "name": "classification.ipynb",
      "version": "0.3.2",
      "provenance": [],
      "include_colab_link": true
    },
    "kernelspec": {
      "name": "python3",
      "display_name": "Python 3"
    }
  },
  "cells": [
    {
      "cell_type": "markdown",
      "metadata": {
        "id": "view-in-github",
        "colab_type": "text"
      },
      "source": [
        "[View in Colaboratory](https://colab.research.google.com/github/kintarou/django-starter/blob/master/classification.ipynb)"
      ]
    },
    {
      "metadata": {
        "id": "Qn9npfWZPMdR",
        "colab_type": "code",
        "colab": {
          "base_uri": "https://localhost:8080/",
          "height": 302
        },
        "outputId": "41afa576-0cfa-4272-a24d-d8c75f83e727"
      },
      "cell_type": "code",
      "source": [
        "from matplotlib import pyplot as plt\n",
        "from sklearn import datasets\n",
        "digits=datasets.load_digits()\n",
        "\n",
        "for label, img in zip(digits.target[:10],digits.images[:10]):\n",
        "  plt.subplot(2,5,label+1)\n",
        "  plt.axis('off')\n",
        "  plt.imshow(img,cmap=plt.cm.gray_r,interpolation='nearest')\n",
        "  plt.title('Digit: {0}'.format(label))\n",
        "  \n",
        "plt.show()  "
      ],
      "execution_count": 6,
      "outputs": [
        {
          "output_type": "display_data",
          "data": {
            "image/png": "[encoded data removed]",
            "text/plain": [
              "<matplotlib.figure.Figure at 0x7f355a3ce470>"
            ]
          },
          "metadata": {
            "tags": []
          }
        }
      ]
    },
    {
      "metadata": {
        "id": "3ZVaEO-DVfu4",
        "colab_type": "code",
        "colab": {
          "base_uri": "https://localhost:8080/",
          "height": 212
        },
        "outputId": "bd07591b-0a56-4d2d-92b1-de0b81329653"
      },
      "cell_type": "code",
      "source": [
        "import numpy as np\n",
        "from sklearn import datasets\n",
        "digits=datasets.load_digits()\n",
        "flag_3_8=(digits.target==3)+(digits.target==8)\n",
        "images=digits.target[flag_3_8]\n",
        "labels=digits.target[flag_3_8]\n",
        "images=images.reshape(images.shape[0],-1)\n",
        "from sklearn import tree\n",
        "images=images.reshape(images.shape[0],-1)\n",
        "n_samples=len(flag_3_8[flag_3_8])\n",
        "train_size=int(n_samples*3/5)\n",
        "classifier=tree.DecisionTreeClassifier()\n",
        "classifier.fit(images[:train_size],labels[:train_size])\n",
        "from sklearn import metrics\n",
        "expected=labels[train_size:]\n",
        "predicted=classifier.predict(images[train_size:])\n",
        "print('Accuracy:\\n',metrics.accuracy_score(expected,predicted))\n",
        "print('Confusion matrix:\\n',metrics.confusion_matrix(expected,predicted))\n",
        "print('Precision:\\n',metrics.recall_score(expected,predicted,pos_label=3))\n",
        "print('Recall:\\n',metrics.recall_score(expected,predicted,pos_label=3))\n",
        "print('F-measure:\\n',metrics.f1_score(expected,predicted,pos_label=3))"
      ],
      "execution_count": 13,
      "outputs": [
        {
          "output_type": "stream",
          "text": [
            "Accuracy:\n",
            " 1.0\n",
            "Confusion matrix:\n",
            " [[75  0]\n",
            " [ 0 68]]\n",
            "Precision:\n",
            " 1.0\n",
            "Recall:\n",
            " 1.0\n",
            "F-measure:\n",
            " 1.0\n"
          ],
          "name": "stdout"
        }
      ]
    }
  ]
}