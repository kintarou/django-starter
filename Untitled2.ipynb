{
  "nbformat": 4,
  "nbformat_minor": 0,
  "metadata": {
    "colab": {
      "name": "Untitled2.ipynb",
      "version": "0.3.2",
      "provenance": []
    },
    "kernelspec": {
      "name": "python3",
      "display_name": "Python 3"
    }
  },
  "cells": [
    {
      "cell_type": "markdown",
      "metadata": {
        "id": "view-in-github",
        "colab_type": "text"
      },
      "source": [
        "[View in Colaboratory](https://colab.research.google.com/github/kintarou/django-starter/blob/dark-theme/Untitled2.ipynb)"
      ]
    },
    {
      "metadata": {
        "id": "xDbSMAy7iTHD",
        "colab_type": "code",
        "colab": {
          "base_uri": "https://localhost:8080/",
          "height": 53
        },
        "outputId": "944b9edd-90be-40b6-c4d2-a6e9e0a342ac"
      },
      "cell_type": "code",
      "source": [
        "import re\n",
        "mobile_num_regex = re.compile(r\"(\\d{3}-\\d{4}-\\d{4})\")\n",
        "fixed_num_regex = re.compile(r\"(\\d{4}-\\d{2}-\\d{4})\")\n",
        "m1 = mobile_num_regex.search('my mobile phone number is 090-6922-2713')\n",
        "m2 = fixed_num_regex.search('my fixed phone number is 0422-36-5773')\n",
        "print('find phone number: '+ m1.group())\n",
        "print('find phone number: '+ m2.group())"
      ],
      "execution_count": 29,
      "outputs": [
        {
          "output_type": "stream",
          "text": [
            "find phone number: 090-6922-2713\n",
            "find phone number: 0422-36-5773\n"
          ],
          "name": "stdout"
        }
      ]
    },
    {
      "metadata": {
        "id": "rUIVeU_-lIgM",
        "colab_type": "code",
        "colab": {}
      },
      "cell_type": "code",
      "source": [
        "str_org = \"pYthon iS a gooD proGramming laNguage\"\n",
        "print(str_org.swapcase()[::-1])"
      ],
      "execution_count": 0,
      "outputs": []
    },
    {
      "metadata": {
        "id": "zBxv7QlrlkeL",
        "colab_type": "code",
        "colab": {
          "base_uri": "https://localhost:8080/",
          "height": 87
        },
        "outputId": "19e1e6e7-ce38-4c47-82fe-0184abc55adc"
      },
      "cell_type": "code",
      "source": [
        "def print_table(table_data):\n",
        "  cols = len(table_data)\n",
        "  col_width = [0] * cols\n",
        "  for i in range(cols):\n",
        "    col_width[i] = len(max(table_data[i], key=len))\n",
        "  for i in range(4):\n",
        "    for j in range(cols):\n",
        "      print(table_data[j][i].ljust(col_width[j]) + ' ', end='')\n",
        "    print('')\n",
        "    \n",
        "table_data = [\n",
        "    ['apples', 'oranges', 'cherries', 'bananas'],\n",
        "    ['Alice', 'Bob', 'Carol', 'David'],\n",
        "    ['dogs', 'cats', 'moose', 'goose']\n",
        "]\n",
        "\n",
        "print_table(table_data)    \n",
        "    "
      ],
      "execution_count": 12,
      "outputs": [
        {
          "output_type": "stream",
          "text": [
            "apples   Alice dogs  \n",
            "oranges  Bob   cats  \n",
            "cherries Carol moose \n",
            "bananas  David goose \n"
          ],
          "name": "stdout"
        }
      ]
    }
  ]
}