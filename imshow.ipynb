{
  "nbformat": 4,
  "nbformat_minor": 0,
  "metadata": {
    "colab": {
      "name": "imshow.ipynb",
      "version": "0.3.2",
      "provenance": []
    },
    "kernelspec": {
      "name": "python3",
      "display_name": "Python 3"
    },
    "accelerator": "GPU"
  },
  "cells": [
    {
      "cell_type": "markdown",
      "metadata": {
        "id": "view-in-github",
        "colab_type": "text"
      },
      "source": [
        "[View in Colaboratory](https://colab.research.google.com/github/kintarou/django-starter/blob/master/imshow.ipynb)"
      ]
    },
    {
      "metadata": {
        "id": "AG0DG0qHUAMa",
        "colab_type": "code",
        "colab": {}
      },
      "cell_type": "code",
      "source": [
        "import numpy as np\n",
        "from matplotlib import pyplot as plt"
      ],
      "execution_count": 0,
      "outputs": []
    },
    {
      "metadata": {
        "id": "YhJZp15lUVRC",
        "colab_type": "code",
        "colab": {}
      },
      "cell_type": "code",
      "source": [
        "def f(x, y):\n",
        "  return (1-x/2 + x**5 + y**3)*np.exp(-x**2-y**2)"
      ],
      "execution_count": 0,
      "outputs": []
    },
    {
      "metadata": {
        "id": "Cl0msdhPUnEI",
        "colab_type": "code",
        "colab": {
          "base_uri": "https://localhost:8080/",
          "height": 474
        },
        "outputId": "979bc234-c1aa-449e-8027-f53b66cdb2ac"
      },
      "cell_type": "code",
      "source": [
        "n = 10\n",
        "x = np.linspace(-3,3,3.5*n)\n",
        "y = np.linspace(-3,3,3.0*n)\n",
        "X,Y = np.meshgrid(x,y)\n",
        "Z = f(X,Y)\n",
        "plt.axes([0.025, 0.025, 0.95, 0.95])\n",
        "plt.imshow(Z, interpolation='nearest',cmap='bone',origin='lower')\n",
        "plt.colorbar(shrink=.92)\n",
        "plt.xticks(())\n",
        "plt.yticks(())\n",
        "plt.show()"
      ],
      "execution_count": 3,
      "outputs": [
        {
          "output_type": "stream",
          "text": [
            "/usr/local/lib/python3.6/dist-packages/ipykernel_launcher.py:2: DeprecationWarning: object of type <class 'float'> cannot be safely interpreted as an integer.\n",
            "  \n",
            "/usr/local/lib/python3.6/dist-packages/ipykernel_launcher.py:3: DeprecationWarning: object of type <class 'float'> cannot be safely interpreted as an integer.\n",
            "  This is separate from the ipykernel package so we can avoid doing imports until\n"
          ],
          "name": "stderr"
        },
        {
          "output_type": "display_data",
          "data": {
            "image/png": "[encoded data removed]",
            "text/plain": [
              "<matplotlib.figure.Figure at 0x7f1c22a25e10>"
            ]
          },
          "metadata": {
            "tags": []
          }
        }
      ]
    }
  ]
}