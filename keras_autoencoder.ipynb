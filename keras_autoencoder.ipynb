{
  "nbformat": 4,
  "nbformat_minor": 0,
  "metadata": {
    "colab": {
      "name": "keras-autoencoder.ipynb",
      "version": "0.3.2",
      "provenance": []
    },
    "kernelspec": {
      "name": "python3",
      "display_name": "Python 3"
    },
    "accelerator": "GPU"
  },
  "cells": [
    {
      "cell_type": "markdown",
      "metadata": {
        "id": "view-in-github",
        "colab_type": "text"
      },
      "source": [
        "[View in Colaboratory](https://colab.research.google.com/github/kintarou/django-starter/blob/master/keras_autoencoder.ipynb)"
      ]
    },
    {
      "metadata": {
        "id": "pRCwwiG_Y4rd",
        "colab_type": "code",
        "colab": {
          "base_uri": "https://localhost:8080/",
          "height": 68
        },
        "outputId": "8e3ed55b-63f9-4702-c4ec-794c1365c083"
      },
      "cell_type": "code",
      "source": [
        "from keras.layers import Input, Dense\n",
        "from keras.models import Model\n",
        "from keras.datasets import mnist\n",
        "import numpy as np\n",
        "\n",
        "encoding_dim = 32\n",
        "input_img = Input(shape=(784,))\n",
        "encoded = Dense(encoding_dim, activation='relu')(input_img)\n",
        "decoded = Dense(784, activation='sigmoid')(encoded)\n",
        "autoencoder = Model(input=input_img, output=decoded)\n",
        "\n",
        "autoencoder.compile(optimizer='adadelta', loss='binary_crossentropy')"
      ],
      "execution_count": 1,
      "outputs": [
        {
          "output_type": "stream",
          "text": [
            "Using TensorFlow backend.\n",
            "/usr/local/lib/python3.6/dist-packages/ipykernel_launcher.py:10: UserWarning: Update your `Model` call to the Keras 2 API: `Model(inputs=Tensor(\"in..., outputs=Tensor(\"de...)`\n",
            "  # Remove the CWD from sys.path while we load stuff.\n"
          ],
          "name": "stderr"
        }
      ]
    },
    {
      "metadata": {
        "id": "mfzY-66BZRjq",
        "colab_type": "code",
        "colab": {
          "base_uri": "https://localhost:8080/",
          "height": 1819
        },
        "outputId": "d6fbcac7-cd52-424a-badf-573fced4d96a"
      },
      "cell_type": "code",
      "source": [
        "from keras.datasets import mnist\n",
        "import numpy as np\n",
        "\n",
        "(x_train, _), (x_test, _) = mnist.load_data()\n",
        "x_train = x_train.astype('float32') / 255.\n",
        "x_test = x_test.astype('float32') / 255.\n",
        "x_train = x_train.reshape((len(x_train), np.prod(x_train.shape[1:])))\n",
        "x_test = x_test.reshape((len(x_test), np.prod(x_test.shape[1:])))\n",
        "\n",
        "autoencoder.fit(x_train, x_train,\n",
        "                nb_epoch=50,\n",
        "                batch_size=256,\n",
        "                shuffle=True,\n",
        "                validation_data=(x_test, x_test))"
      ],
      "execution_count": 2,
      "outputs": [
        {
          "output_type": "stream",
          "text": [
            "Downloading data from https://s3.amazonaws.com/img-datasets/mnist.npz\n",
            "11493376/11490434 [==============================] - 1s 0us/step\n"
          ],
          "name": "stdout"
        },
        {
          "output_type": "stream",
          "text": [
            "/usr/local/lib/python3.6/dist-packages/ipykernel_launcher.py:14: UserWarning: The `nb_epoch` argument in `fit` has been renamed `epochs`.\n",
            "  \n"
          ],
          "name": "stderr"
        },
        {
          "output_type": "stream",
          "text": [
            "Train on 60000 samples, validate on 10000 samples\n",
            "Epoch 1/50\n",
            "60000/60000 [==============================] - 3s 47us/step - loss: 0.3548 - val_loss: 0.2709\n",
            "Epoch 2/50\n",
            "60000/60000 [==============================] - 2s 29us/step - loss: 0.2635 - val_loss: 0.2527\n",
            "Epoch 3/50\n",
            "60000/60000 [==============================] - 2s 29us/step - loss: 0.2430 - val_loss: 0.2304\n",
            "Epoch 4/50\n",
            "60000/60000 [==============================] - 2s 28us/step - loss: 0.2220 - val_loss: 0.2111\n",
            "Epoch 5/50\n",
            "60000/60000 [==============================] - 2s 28us/step - loss: 0.2058 - val_loss: 0.1978\n",
            "Epoch 6/50\n",
            "60000/60000 [==============================] - 2s 28us/step - loss: 0.1945 - val_loss: 0.1883\n",
            "Epoch 7/50\n",
            "60000/60000 [==============================] - 2s 28us/step - loss: 0.1862 - val_loss: 0.1810\n"
          ],
          "name": "stdout"
        },
        {
          "output_type": "stream",
          "text": [
            "Epoch 8/50\n",
            "60000/60000 [==============================] - 2s 28us/step - loss: 0.1795 - val_loss: 0.1747\n",
            "Epoch 9/50\n",
            "60000/60000 [==============================] - 2s 28us/step - loss: 0.1736 - val_loss: 0.1694\n",
            "Epoch 10/50\n",
            "60000/60000 [==============================] - 2s 28us/step - loss: 0.1684 - val_loss: 0.1644\n",
            "Epoch 11/50\n",
            "60000/60000 [==============================] - 2s 28us/step - loss: 0.1637 - val_loss: 0.1601\n",
            "Epoch 12/50\n",
            "60000/60000 [==============================] - 2s 29us/step - loss: 0.1595 - val_loss: 0.1560\n",
            "Epoch 13/50\n",
            "60000/60000 [==============================] - 2s 28us/step - loss: 0.1556 - val_loss: 0.1524\n",
            "Epoch 14/50\n",
            "60000/60000 [==============================] - 2s 28us/step - loss: 0.1522 - val_loss: 0.1491\n",
            "Epoch 15/50\n",
            "23808/60000 [==========>...................] - ETA: 0s - loss: 0.1498"
          ],
          "name": "stdout"
        },
        {
          "output_type": "stream",
          "text": [
            "60000/60000 [==============================] - 2s 28us/step - loss: 0.1490 - val_loss: 0.1462\n",
            "Epoch 16/50\n",
            "60000/60000 [==============================] - 2s 29us/step - loss: 0.1462 - val_loss: 0.1433\n",
            "Epoch 17/50\n",
            "60000/60000 [==============================] - 2s 28us/step - loss: 0.1435 - val_loss: 0.1409\n",
            "Epoch 18/50\n",
            "60000/60000 [==============================] - 2s 28us/step - loss: 0.1411 - val_loss: 0.1385\n",
            "Epoch 19/50\n",
            "60000/60000 [==============================] - 2s 28us/step - loss: 0.1388 - val_loss: 0.1363\n",
            "Epoch 20/50\n",
            "60000/60000 [==============================] - 2s 28us/step - loss: 0.1366 - val_loss: 0.1341\n",
            "Epoch 21/50\n",
            "60000/60000 [==============================] - 2s 28us/step - loss: 0.1345 - val_loss: 0.1321\n",
            "Epoch 22/50\n",
            "34304/60000 [================>.............] - ETA: 0s - loss: 0.1330"
          ],
          "name": "stdout"
        },
        {
          "output_type": "stream",
          "text": [
            "60000/60000 [==============================] - 2s 28us/step - loss: 0.1326 - val_loss: 0.1301\n",
            "Epoch 23/50\n",
            "60000/60000 [==============================] - 2s 28us/step - loss: 0.1307 - val_loss: 0.1283\n",
            "Epoch 24/50\n",
            "60000/60000 [==============================] - 2s 28us/step - loss: 0.1288 - val_loss: 0.1265\n",
            "Epoch 25/50\n",
            "60000/60000 [==============================] - 2s 28us/step - loss: 0.1271 - val_loss: 0.1248\n",
            "Epoch 26/50\n",
            "60000/60000 [==============================] - 2s 28us/step - loss: 0.1254 - val_loss: 0.1230\n",
            "Epoch 27/50\n",
            "60000/60000 [==============================] - 2s 28us/step - loss: 0.1238 - val_loss: 0.1214\n",
            "Epoch 28/50\n",
            "60000/60000 [==============================] - 2s 28us/step - loss: 0.1222 - val_loss: 0.1201\n",
            "Epoch 29/50\n",
            "36096/60000 [=================>............] - ETA: 0s - loss: 0.1210"
          ],
          "name": "stdout"
        },
        {
          "output_type": "stream",
          "text": [
            "60000/60000 [==============================] - 2s 28us/step - loss: 0.1207 - val_loss: 0.1185\n",
            "Epoch 30/50\n",
            "60000/60000 [==============================] - 2s 28us/step - loss: 0.1193 - val_loss: 0.1171\n",
            "Epoch 31/50\n",
            "60000/60000 [==============================] - 2s 28us/step - loss: 0.1180 - val_loss: 0.1158\n",
            "Epoch 32/50\n",
            "60000/60000 [==============================] - 2s 28us/step - loss: 0.1167 - val_loss: 0.1146\n",
            "Epoch 33/50\n",
            "60000/60000 [==============================] - 2s 28us/step - loss: 0.1155 - val_loss: 0.1134\n",
            "Epoch 34/50\n",
            "60000/60000 [==============================] - 2s 28us/step - loss: 0.1144 - val_loss: 0.1124\n",
            "Epoch 35/50\n",
            "60000/60000 [==============================] - 2s 28us/step - loss: 0.1134 - val_loss: 0.1113\n",
            "Epoch 36/50\n",
            "36096/60000 [=================>............] - ETA: 0s - loss: 0.1125"
          ],
          "name": "stdout"
        },
        {
          "output_type": "stream",
          "text": [
            "60000/60000 [==============================] - 2s 28us/step - loss: 0.1124 - val_loss: 0.1104\n",
            "Epoch 37/50\n",
            "60000/60000 [==============================] - 2s 28us/step - loss: 0.1115 - val_loss: 0.1095\n",
            "Epoch 38/50\n",
            "60000/60000 [==============================] - 2s 28us/step - loss: 0.1107 - val_loss: 0.1087\n",
            "Epoch 39/50\n",
            "60000/60000 [==============================] - 2s 28us/step - loss: 0.1099 - val_loss: 0.1079\n",
            "Epoch 40/50\n",
            "60000/60000 [==============================] - 2s 28us/step - loss: 0.1092 - val_loss: 0.1072\n",
            "Epoch 41/50\n",
            "60000/60000 [==============================] - 2s 28us/step - loss: 0.1085 - val_loss: 0.1066\n",
            "Epoch 42/50\n",
            "60000/60000 [==============================] - 2s 28us/step - loss: 0.1079 - val_loss: 0.1060\n",
            "Epoch 43/50\n",
            "34304/60000 [================>.............] - ETA: 0s - loss: 0.1075"
          ],
          "name": "stdout"
        },
        {
          "output_type": "stream",
          "text": [
            "60000/60000 [==============================] - 2s 28us/step - loss: 0.1073 - val_loss: 0.1055\n",
            "Epoch 44/50\n",
            "60000/60000 [==============================] - 2s 28us/step - loss: 0.1068 - val_loss: 0.1050\n",
            "Epoch 45/50\n",
            "60000/60000 [==============================] - 2s 28us/step - loss: 0.1063 - val_loss: 0.1045\n",
            "Epoch 46/50\n",
            "60000/60000 [==============================] - 2s 28us/step - loss: 0.1059 - val_loss: 0.1041\n",
            "Epoch 47/50\n",
            "60000/60000 [==============================] - 2s 28us/step - loss: 0.1055 - val_loss: 0.1037\n",
            "Epoch 48/50\n",
            "60000/60000 [==============================] - 2s 28us/step - loss: 0.1051 - val_loss: 0.1033\n",
            "Epoch 49/50\n",
            "60000/60000 [==============================] - 2s 28us/step - loss: 0.1048 - val_loss: 0.1030\n",
            "Epoch 50/50\n",
            "32256/60000 [===============>..............] - ETA: 0s - loss: 0.1046"
          ],
          "name": "stdout"
        },
        {
          "output_type": "stream",
          "text": [
            "60000/60000 [==============================] - 2s 28us/step - loss: 0.1044 - val_loss: 0.1027\n"
          ],
          "name": "stdout"
        },
        {
          "output_type": "execute_result",
          "data": {
            "text/plain": [
              "<keras.callbacks.History at 0x7fe68232cb38>"
            ]
          },
          "metadata": {
            "tags": []
          },
          "execution_count": 2
        }
      ]
    },
    {
      "metadata": {
        "id": "DS_K1-YmoumS",
        "colab_type": "code",
        "colab": {
          "base_uri": "https://localhost:8080/",
          "height": 244
        },
        "outputId": "88ad8735-7dfa-4a04-a9b9-1118265db531"
      },
      "cell_type": "code",
      "source": [
        "import matplotlib.pyplot as plt\n",
        "\n",
        "# テスト画像を変換\n",
        "decoded_imgs = autoencoder.predict(x_test)\n",
        "\n",
        "# 何個表示するか\n",
        "n = 10\n",
        "plt.figure(figsize=(20, 4))\n",
        "for i in range(n):\n",
        "    # オリジナルのテスト画像を表示\n",
        "    ax = plt.subplot(2, n, i+1)\n",
        "    plt.imshow(x_test[i].reshape(28, 28))\n",
        "    plt.gray()\n",
        "    ax.get_xaxis().set_visible(False)\n",
        "    ax.get_yaxis().set_visible(False)\n",
        "\n",
        "    # 変換された画像を表示\n",
        "    ax = plt.subplot(2, n, i+1+n)\n",
        "    plt.imshow(decoded_imgs[i].reshape(28, 28))\n",
        "    plt.gray()\n",
        "    ax.get_xaxis().set_visible(False)\n",
        "    ax.get_yaxis().set_visible(False)\n",
        "plt.show()"
      ],
      "execution_count": 3,
      "outputs": [
        {
          "output_type": "display_data",
          "data": {
            "image/png": "[encoded data removed]",
            "text/plain": [
              "<matplotlib.figure.Figure at 0x7fe668292a58>"
            ]
          },
          "metadata": {
            "tags": []
          }
        }
      ]
    },
    {
      "metadata": {
        "id": "Bdqog1RgpWWF",
        "colab_type": "code",
        "colab": {
          "base_uri": "https://localhost:8080/",
          "height": 3502
        },
        "outputId": "9b13ac85-1754-4d66-f3d5-0703b1d89f13"
      },
      "cell_type": "code",
      "source": [
        "encoding_dim = 32\n",
        "input_img = Input(shape=(784,))\n",
        "\n",
        "encoded = Dense(128, activation='relu')(input_img)\n",
        "encoded = Dense(64, activation='relu')(encoded)\n",
        "encoded = Dense(32, activation='relu')(encoded)\n",
        "\n",
        "decoded = Dense(64, activation='relu')(encoded)\n",
        "decoded = Dense(128, activation='relu')(decoded)\n",
        "decoded = Dense(784, activation='sigmoid')(decoded)\n",
        "\n",
        "autoencoder = Model(input=input_img, output=decoded)\n",
        "autoencoder.compile(optimizer='adam', loss='binary_crossentropy')\n",
        "autoencoder.fit(x_train, x_train,\n",
        "                nb_epoch=100,\n",
        "                batch_size=256,\n",
        "                shuffle=True,\n",
        "                validation_data=(x_test, x_test))"
      ],
      "execution_count": 6,
      "outputs": [
        {
          "output_type": "stream",
          "text": [
            "/usr/local/lib/python3.6/dist-packages/ipykernel_launcher.py:12: UserWarning: Update your `Model` call to the Keras 2 API: `Model(inputs=Tensor(\"in..., outputs=Tensor(\"de...)`\n",
            "  if sys.path[0] == '':\n",
            "/usr/local/lib/python3.6/dist-packages/ipykernel_launcher.py:18: UserWarning: The `nb_epoch` argument in `fit` has been renamed `epochs`.\n"
          ],
          "name": "stderr"
        },
        {
          "output_type": "stream",
          "text": [
            "Train on 60000 samples, validate on 10000 samples\n",
            "Epoch 1/100\n",
            "60000/60000 [==============================] - 3s 45us/step - loss: 0.2455 - val_loss: 0.1672\n",
            "Epoch 2/100\n",
            "60000/60000 [==============================] - 2s 39us/step - loss: 0.1498 - val_loss: 0.1360\n",
            "Epoch 3/100\n",
            "60000/60000 [==============================] - 2s 39us/step - loss: 0.1316 - val_loss: 0.1246\n",
            "Epoch 4/100\n",
            "60000/60000 [==============================] - 2s 39us/step - loss: 0.1227 - val_loss: 0.1178\n",
            "Epoch 5/100\n",
            "60000/60000 [==============================] - 2s 39us/step - loss: 0.1169 - val_loss: 0.1130\n",
            "Epoch 6/100\n",
            "58112/60000 [============================>.] - ETA: 0s - loss: 0.1121"
          ],
          "name": "stdout"
        },
        {
          "output_type": "stream",
          "text": [
            "60000/60000 [==============================] - 2s 39us/step - loss: 0.1120 - val_loss: 0.1085\n",
            "Epoch 7/100\n",
            "60000/60000 [==============================] - 2s 39us/step - loss: 0.1080 - val_loss: 0.1051\n",
            "Epoch 8/100\n",
            "60000/60000 [==============================] - 2s 39us/step - loss: 0.1050 - val_loss: 0.1028\n",
            "Epoch 9/100\n",
            "60000/60000 [==============================] - 2s 39us/step - loss: 0.1027 - val_loss: 0.1014\n",
            "Epoch 10/100\n",
            "60000/60000 [==============================] - 2s 39us/step - loss: 0.1007 - val_loss: 0.0986\n",
            "Epoch 11/100\n",
            "60000/60000 [==============================] - 2s 39us/step - loss: 0.0992 - val_loss: 0.0974\n",
            "Epoch 12/100\n",
            "35584/60000 [================>.............] - ETA: 0s - loss: 0.0982"
          ],
          "name": "stdout"
        },
        {
          "output_type": "stream",
          "text": [
            "60000/60000 [==============================] - 2s 39us/step - loss: 0.0979 - val_loss: 0.0964\n",
            "Epoch 13/100\n",
            "60000/60000 [==============================] - 2s 40us/step - loss: 0.0969 - val_loss: 0.0955\n",
            "Epoch 14/100\n",
            "60000/60000 [==============================] - 2s 39us/step - loss: 0.0960 - val_loss: 0.0947\n",
            "Epoch 15/100\n",
            "60000/60000 [==============================] - 2s 39us/step - loss: 0.0952 - val_loss: 0.0938\n",
            "Epoch 16/100\n",
            "60000/60000 [==============================] - 2s 39us/step - loss: 0.0944 - val_loss: 0.0932\n",
            "Epoch 17/100\n",
            "60000/60000 [==============================] - 2s 39us/step - loss: 0.0937 - val_loss: 0.0929\n",
            "Epoch 18/100\n",
            "31744/60000 [==============>...............] - ETA: 1s - loss: 0.0932"
          ],
          "name": "stdout"
        },
        {
          "output_type": "stream",
          "text": [
            "60000/60000 [==============================] - 2s 39us/step - loss: 0.0931 - val_loss: 0.0921\n",
            "Epoch 19/100\n",
            "60000/60000 [==============================] - 2s 39us/step - loss: 0.0924 - val_loss: 0.0913\n",
            "Epoch 20/100\n",
            "60000/60000 [==============================] - 2s 39us/step - loss: 0.0920 - val_loss: 0.0909\n",
            "Epoch 21/100\n",
            "60000/60000 [==============================] - 2s 39us/step - loss: 0.0915 - val_loss: 0.0907\n",
            "Epoch 22/100\n",
            "60000/60000 [==============================] - 2s 39us/step - loss: 0.0909 - val_loss: 0.0899\n",
            "Epoch 23/100\n",
            "60000/60000 [==============================] - 2s 39us/step - loss: 0.0905 - val_loss: 0.0897\n",
            "Epoch 24/100\n",
            "29696/60000 [=============>................] - ETA: 1s - loss: 0.0902"
          ],
          "name": "stdout"
        },
        {
          "output_type": "stream",
          "text": [
            "60000/60000 [==============================] - 2s 39us/step - loss: 0.0902 - val_loss: 0.0892\n",
            "Epoch 25/100\n",
            "60000/60000 [==============================] - 2s 39us/step - loss: 0.0897 - val_loss: 0.0887\n",
            "Epoch 26/100\n",
            "60000/60000 [==============================] - 2s 39us/step - loss: 0.0894 - val_loss: 0.0887\n",
            "Epoch 27/100\n",
            "60000/60000 [==============================] - 2s 39us/step - loss: 0.0889 - val_loss: 0.0879\n",
            "Epoch 28/100\n",
            "60000/60000 [==============================] - 2s 39us/step - loss: 0.0886 - val_loss: 0.0876\n",
            "Epoch 29/100\n",
            "60000/60000 [==============================] - 2s 39us/step - loss: 0.0883 - val_loss: 0.0877\n",
            "Epoch 30/100\n",
            "30720/60000 [==============>...............] - ETA: 1s - loss: 0.0880"
          ],
          "name": "stdout"
        },
        {
          "output_type": "stream",
          "text": [
            "60000/60000 [==============================] - 2s 40us/step - loss: 0.0880 - val_loss: 0.0873\n",
            "Epoch 31/100\n",
            "60000/60000 [==============================] - 2s 39us/step - loss: 0.0877 - val_loss: 0.0870\n",
            "Epoch 32/100\n",
            "60000/60000 [==============================] - 2s 39us/step - loss: 0.0874 - val_loss: 0.0867\n",
            "Epoch 33/100\n",
            "60000/60000 [==============================] - 2s 39us/step - loss: 0.0871 - val_loss: 0.0863\n",
            "Epoch 34/100\n",
            "60000/60000 [==============================] - 2s 39us/step - loss: 0.0868 - val_loss: 0.0860\n",
            "Epoch 35/100\n",
            "60000/60000 [==============================] - 2s 39us/step - loss: 0.0865 - val_loss: 0.0859\n",
            "Epoch 36/100\n",
            "31488/60000 [==============>...............] - ETA: 1s - loss: 0.0863"
          ],
          "name": "stdout"
        },
        {
          "output_type": "stream",
          "text": [
            "60000/60000 [==============================] - 2s 39us/step - loss: 0.0863 - val_loss: 0.0859\n",
            "Epoch 37/100\n",
            "60000/60000 [==============================] - 2s 39us/step - loss: 0.0860 - val_loss: 0.0856\n",
            "Epoch 38/100\n",
            "60000/60000 [==============================] - 2s 39us/step - loss: 0.0858 - val_loss: 0.0852\n",
            "Epoch 39/100\n",
            "60000/60000 [==============================] - 2s 39us/step - loss: 0.0856 - val_loss: 0.0849\n",
            "Epoch 40/100\n",
            "60000/60000 [==============================] - 2s 39us/step - loss: 0.0854 - val_loss: 0.0847\n",
            "Epoch 41/100\n",
            "60000/60000 [==============================] - 2s 39us/step - loss: 0.0853 - val_loss: 0.0847\n",
            "Epoch 42/100\n",
            "29696/60000 [=============>................] - ETA: 1s - loss: 0.0852"
          ],
          "name": "stdout"
        },
        {
          "output_type": "stream",
          "text": [
            "60000/60000 [==============================] - 2s 39us/step - loss: 0.0851 - val_loss: 0.0843\n",
            "Epoch 43/100\n",
            "60000/60000 [==============================] - 2s 39us/step - loss: 0.0849 - val_loss: 0.0842\n",
            "Epoch 44/100\n",
            "60000/60000 [==============================] - 2s 39us/step - loss: 0.0847 - val_loss: 0.0843\n",
            "Epoch 45/100\n",
            "60000/60000 [==============================] - 2s 39us/step - loss: 0.0845 - val_loss: 0.0841\n",
            "Epoch 46/100\n",
            "60000/60000 [==============================] - 2s 39us/step - loss: 0.0843 - val_loss: 0.0839\n",
            "Epoch 47/100\n",
            "60000/60000 [==============================] - 2s 39us/step - loss: 0.0842 - val_loss: 0.0839\n",
            "Epoch 48/100\n",
            "31488/60000 [==============>...............] - ETA: 1s - loss: 0.0842"
          ],
          "name": "stdout"
        },
        {
          "output_type": "stream",
          "text": [
            "60000/60000 [==============================] - 2s 39us/step - loss: 0.0840 - val_loss: 0.0838\n",
            "Epoch 49/100\n",
            "60000/60000 [==============================] - 2s 39us/step - loss: 0.0839 - val_loss: 0.0834\n",
            "Epoch 50/100\n",
            "60000/60000 [==============================] - 2s 39us/step - loss: 0.0837 - val_loss: 0.0831\n",
            "Epoch 51/100\n",
            "60000/60000 [==============================] - 2s 39us/step - loss: 0.0836 - val_loss: 0.0833\n",
            "Epoch 52/100\n",
            "60000/60000 [==============================] - 2s 39us/step - loss: 0.0835 - val_loss: 0.0835\n",
            "Epoch 53/100\n",
            "60000/60000 [==============================] - 2s 39us/step - loss: 0.0834 - val_loss: 0.0829\n",
            "Epoch 54/100\n",
            "31488/60000 [==============>...............] - ETA: 1s - loss: 0.0832"
          ],
          "name": "stdout"
        },
        {
          "output_type": "stream",
          "text": [
            "60000/60000 [==============================] - 2s 39us/step - loss: 0.0833 - val_loss: 0.0829\n",
            "Epoch 55/100\n",
            "60000/60000 [==============================] - 2s 39us/step - loss: 0.0832 - val_loss: 0.0831\n",
            "Epoch 56/100\n",
            "60000/60000 [==============================] - 2s 39us/step - loss: 0.0831 - val_loss: 0.0827\n",
            "Epoch 57/100\n",
            "60000/60000 [==============================] - 2s 39us/step - loss: 0.0830 - val_loss: 0.0827\n",
            "Epoch 58/100\n",
            "60000/60000 [==============================] - 2s 39us/step - loss: 0.0829 - val_loss: 0.0824\n",
            "Epoch 59/100\n",
            "60000/60000 [==============================] - 2s 39us/step - loss: 0.0828 - val_loss: 0.0822\n",
            "Epoch 60/100\n",
            "29696/60000 [=============>................] - ETA: 1s - loss: 0.0828"
          ],
          "name": "stdout"
        },
        {
          "output_type": "stream",
          "text": [
            "60000/60000 [==============================] - 2s 39us/step - loss: 0.0828 - val_loss: 0.0823\n",
            "Epoch 61/100\n",
            "60000/60000 [==============================] - 2s 39us/step - loss: 0.0827 - val_loss: 0.0822\n",
            "Epoch 62/100\n",
            "60000/60000 [==============================] - 2s 39us/step - loss: 0.0826 - val_loss: 0.0821\n",
            "Epoch 63/100\n",
            "60000/60000 [==============================] - 2s 39us/step - loss: 0.0825 - val_loss: 0.0822\n",
            "Epoch 64/100\n",
            "60000/60000 [==============================] - 2s 39us/step - loss: 0.0824 - val_loss: 0.0824\n",
            "Epoch 65/100\n",
            "60000/60000 [==============================] - 2s 39us/step - loss: 0.0823 - val_loss: 0.0823\n",
            "Epoch 66/100\n",
            "32768/60000 [===============>..............] - ETA: 1s - loss: 0.0824"
          ],
          "name": "stdout"
        },
        {
          "output_type": "stream",
          "text": [
            "60000/60000 [==============================] - 2s 40us/step - loss: 0.0823 - val_loss: 0.0819\n",
            "Epoch 67/100\n",
            "60000/60000 [==============================] - 2s 39us/step - loss: 0.0822 - val_loss: 0.0818\n",
            "Epoch 68/100\n",
            "60000/60000 [==============================] - 2s 39us/step - loss: 0.0822 - val_loss: 0.0819\n",
            "Epoch 69/100\n",
            "60000/60000 [==============================] - 2s 39us/step - loss: 0.0821 - val_loss: 0.0821\n",
            "Epoch 70/100\n",
            "60000/60000 [==============================] - 2s 39us/step - loss: 0.0820 - val_loss: 0.0816\n",
            "Epoch 71/100\n",
            "60000/60000 [==============================] - 2s 39us/step - loss: 0.0820 - val_loss: 0.0815\n",
            "Epoch 72/100\n",
            "29696/60000 [=============>................] - ETA: 1s - loss: 0.0819"
          ],
          "name": "stdout"
        },
        {
          "output_type": "stream",
          "text": [
            "60000/60000 [==============================] - 2s 39us/step - loss: 0.0819 - val_loss: 0.0815\n",
            "Epoch 73/100\n",
            "60000/60000 [==============================] - 2s 39us/step - loss: 0.0818 - val_loss: 0.0816\n",
            "Epoch 74/100\n",
            "60000/60000 [==============================] - 2s 39us/step - loss: 0.0818 - val_loss: 0.0819\n",
            "Epoch 75/100\n",
            "60000/60000 [==============================] - 2s 40us/step - loss: 0.0817 - val_loss: 0.0814\n",
            "Epoch 76/100\n",
            "60000/60000 [==============================] - 2s 39us/step - loss: 0.0817 - val_loss: 0.0813\n",
            "Epoch 77/100\n",
            "60000/60000 [==============================] - 2s 39us/step - loss: 0.0816 - val_loss: 0.0814\n",
            "Epoch 78/100\n",
            "31232/60000 [==============>...............] - ETA: 1s - loss: 0.0815"
          ],
          "name": "stdout"
        },
        {
          "output_type": "stream",
          "text": [
            "60000/60000 [==============================] - 2s 39us/step - loss: 0.0815 - val_loss: 0.0812\n",
            "Epoch 79/100\n",
            "60000/60000 [==============================] - 2s 39us/step - loss: 0.0816 - val_loss: 0.0814\n",
            "Epoch 80/100\n",
            "60000/60000 [==============================] - 2s 39us/step - loss: 0.0815 - val_loss: 0.0811\n",
            "Epoch 81/100\n",
            "60000/60000 [==============================] - 2s 39us/step - loss: 0.0814 - val_loss: 0.0811\n",
            "Epoch 82/100\n",
            "60000/60000 [==============================] - 2s 39us/step - loss: 0.0814 - val_loss: 0.0813\n",
            "Epoch 83/100\n",
            "60000/60000 [==============================] - 2s 39us/step - loss: 0.0814 - val_loss: 0.0810\n",
            "Epoch 84/100\n",
            "32768/60000 [===============>..............] - ETA: 1s - loss: 0.0813"
          ],
          "name": "stdout"
        },
        {
          "output_type": "stream",
          "text": [
            "60000/60000 [==============================] - 2s 39us/step - loss: 0.0813 - val_loss: 0.0812\n",
            "Epoch 85/100\n",
            "60000/60000 [==============================] - 2s 39us/step - loss: 0.0812 - val_loss: 0.0810\n",
            "Epoch 86/100\n",
            "60000/60000 [==============================] - 2s 39us/step - loss: 0.0812 - val_loss: 0.0809\n",
            "Epoch 87/100\n",
            "60000/60000 [==============================] - 2s 38us/step - loss: 0.0811 - val_loss: 0.0809\n",
            "Epoch 88/100\n",
            "60000/60000 [==============================] - 2s 39us/step - loss: 0.0811 - val_loss: 0.0806\n",
            "Epoch 89/100\n",
            "60000/60000 [==============================] - 2s 39us/step - loss: 0.0811 - val_loss: 0.0809\n",
            "Epoch 90/100\n",
            "31232/60000 [==============>...............] - ETA: 1s - loss: 0.0810"
          ],
          "name": "stdout"
        },
        {
          "output_type": "stream",
          "text": [
            "60000/60000 [==============================] - 2s 40us/step - loss: 0.0810 - val_loss: 0.0808\n",
            "Epoch 91/100\n",
            "60000/60000 [==============================] - 2s 39us/step - loss: 0.0810 - val_loss: 0.0809\n",
            "Epoch 92/100\n",
            "60000/60000 [==============================] - 2s 39us/step - loss: 0.0810 - val_loss: 0.0808\n",
            "Epoch 93/100\n",
            "60000/60000 [==============================] - 2s 39us/step - loss: 0.0809 - val_loss: 0.0809\n",
            "Epoch 94/100\n",
            "60000/60000 [==============================] - 2s 39us/step - loss: 0.0809 - val_loss: 0.0808\n",
            "Epoch 95/100\n",
            "60000/60000 [==============================] - 2s 39us/step - loss: 0.0808 - val_loss: 0.0808\n",
            "Epoch 96/100\n",
            "29696/60000 [=============>................] - ETA: 1s - loss: 0.0808"
          ],
          "name": "stdout"
        },
        {
          "output_type": "stream",
          "text": [
            "60000/60000 [==============================] - 2s 39us/step - loss: 0.0808 - val_loss: 0.0806\n",
            "Epoch 97/100\n",
            "60000/60000 [==============================] - 2s 39us/step - loss: 0.0808 - val_loss: 0.0806\n",
            "Epoch 98/100\n",
            "60000/60000 [==============================] - 2s 39us/step - loss: 0.0808 - val_loss: 0.0806\n",
            "Epoch 99/100\n",
            "60000/60000 [==============================] - 2s 39us/step - loss: 0.0807 - val_loss: 0.0804\n",
            "Epoch 100/100\n",
            "60000/60000 [==============================] - 2s 39us/step - loss: 0.0807 - val_loss: 0.0805\n"
          ],
          "name": "stdout"
        },
        {
          "output_type": "execute_result",
          "data": {
            "text/plain": [
              "<keras.callbacks.History at 0x7fe65f005ba8>"
            ]
          },
          "metadata": {
            "tags": []
          },
          "execution_count": 6
        }
      ]
    },
    {
      "metadata": {
        "id": "zeEQNY0PqWRg",
        "colab_type": "code",
        "colab": {
          "base_uri": "https://localhost:8080/",
          "height": 323
        },
        "outputId": "39f10e46-49c0-4d64-d0d9-a1d9171e9c9f"
      },
      "cell_type": "code",
      "source": [
        "from keras.layers import Input, Convolution2D, MaxPooling2D, UpSampling2D\n",
        "from keras.models import Model\n",
        "\n",
        "input_img = Input(shape=(1, 28, 28))\n",
        "\n",
        "x = Convolution2D(16, 3, 3, activation='relu', border_mode='same')(input_img)\n",
        "x = MaxPooling2D((2, 2), border_mode='same')(x)\n",
        "x = Convolution2D(8, 3, 3, activation='relu', border_mode='same')(x)\n",
        "x = MaxPooling2D((2, 2), border_mode='same')(x)\n",
        "x = Convolution2D(8, 3, 3, activation='relu', border_mode='same')(x)\n",
        "encoded = MaxPooling2D((2, 2), border_mode='same')(x)\n",
        "\n",
        "x = Convolution2D(8, 3, 3, activation='relu', border_mode='same')(encoded)\n",
        "x = UpSampling2D((2, 2))(x)\n",
        "x = Convolution2D(8, 3, 3, activation='relu', border_mode='same')(x)\n",
        "x = UpSampling2D((2, 2))(x)\n",
        "x = Convolution2D(16, 3, 3, activation='relu')(x)\n",
        "x = UpSampling2D((2, 2))(x)\n",
        "decoded = Convolution2D(1, 3, 3, activation='sigmoid', border_mode='same')(x)\n",
        "\n",
        "autoencoder = Model(input_img, decoded)\n",
        "autoencoder.compile(optimizer='adam', loss='binary_crossentropy')"
      ],
      "execution_count": 7,
      "outputs": [
        {
          "output_type": "stream",
          "text": [
            "/usr/local/lib/python3.6/dist-packages/ipykernel_launcher.py:6: UserWarning: Update your `Conv2D` call to the Keras 2 API: `Conv2D(16, (3, 3), activation=\"relu\", padding=\"same\")`\n",
            "  \n",
            "/usr/local/lib/python3.6/dist-packages/ipykernel_launcher.py:7: UserWarning: Update your `MaxPooling2D` call to the Keras 2 API: `MaxPooling2D((2, 2), padding=\"same\")`\n",
            "  import sys\n",
            "/usr/local/lib/python3.6/dist-packages/ipykernel_launcher.py:8: UserWarning: Update your `Conv2D` call to the Keras 2 API: `Conv2D(8, (3, 3), activation=\"relu\", padding=\"same\")`\n",
            "  \n",
            "/usr/local/lib/python3.6/dist-packages/ipykernel_launcher.py:9: UserWarning: Update your `MaxPooling2D` call to the Keras 2 API: `MaxPooling2D((2, 2), padding=\"same\")`\n",
            "  if __name__ == '__main__':\n",
            "/usr/local/lib/python3.6/dist-packages/ipykernel_launcher.py:10: UserWarning: Update your `Conv2D` call to the Keras 2 API: `Conv2D(8, (3, 3), activation=\"relu\", padding=\"same\")`\n",
            "  # Remove the CWD from sys.path while we load stuff.\n",
            "/usr/local/lib/python3.6/dist-packages/ipykernel_launcher.py:11: UserWarning: Update your `MaxPooling2D` call to the Keras 2 API: `MaxPooling2D((2, 2), padding=\"same\")`\n",
            "  # This is added back by InteractiveShellApp.init_path()\n",
            "/usr/local/lib/python3.6/dist-packages/ipykernel_launcher.py:13: UserWarning: Update your `Conv2D` call to the Keras 2 API: `Conv2D(8, (3, 3), activation=\"relu\", padding=\"same\")`\n",
            "  del sys.path[0]\n",
            "/usr/local/lib/python3.6/dist-packages/ipykernel_launcher.py:15: UserWarning: Update your `Conv2D` call to the Keras 2 API: `Conv2D(8, (3, 3), activation=\"relu\", padding=\"same\")`\n",
            "  from ipykernel import kernelapp as app\n",
            "/usr/local/lib/python3.6/dist-packages/ipykernel_launcher.py:17: UserWarning: Update your `Conv2D` call to the Keras 2 API: `Conv2D(16, (3, 3), activation=\"relu\")`\n",
            "/usr/local/lib/python3.6/dist-packages/ipykernel_launcher.py:19: UserWarning: Update your `Conv2D` call to the Keras 2 API: `Conv2D(1, (3, 3), activation=\"sigmoid\", padding=\"same\")`\n"
          ],
          "name": "stderr"
        }
      ]
    },
    {
      "metadata": {
        "id": "ae7iVXsrqpCw",
        "colab_type": "code",
        "colab": {}
      },
      "cell_type": "code",
      "source": [
        "from keras.datasets import mnist\n",
        "import numpy as np\n",
        "\n",
        "(x_train, _), (x_test, _) = mnist.load_data()\n",
        "\n",
        "x_train = x_train.astype('float32') / 255.\n",
        "x_test = x_test.astype('float32') / 255.\n",
        "x_train = np.reshape(x_train, (len(x_train), 1, 28, 28))\n",
        "x_test = np.reshape(x_test, (len(x_test), 1, 28, 28))"
      ],
      "execution_count": 0,
      "outputs": []
    },
    {
      "metadata": {
        "id": "ZkvLO92vqx72",
        "colab_type": "code",
        "colab": {
          "base_uri": "https://localhost:8080/",
          "height": 85
        },
        "outputId": "604286b0-9b81-45c9-9638-43c511f04efc"
      },
      "cell_type": "code",
      "source": [
        "{\n",
        "    \"image_dim_ordering\": \"th\",\n",
        "    \"epsilon\": 1e-07,\n",
        "    \"floatx\": \"float32\",\n",
        "    \"backend\": \"tensorflow\"\n",
        "}"
      ],
      "execution_count": 10,
      "outputs": [
        {
          "output_type": "execute_result",
          "data": {
            "text/plain": [
              "{'backend': 'tensorflow',\n",
              " 'epsilon': 1e-07,\n",
              " 'floatx': 'float32',\n",
              " 'image_dim_ordering': 'th'}"
            ]
          },
          "metadata": {
            "tags": []
          },
          "execution_count": 10
        }
      ]
    },
    {
      "metadata": {
        "id": "7o7QlW_WrBYo",
        "colab_type": "code",
        "colab": {}
      },
      "cell_type": "code",
      "source": [
        "from keras.datasets import mnist\n",
        "import numpy as np\n",
        "\n",
        "(x_train, _), (x_test, _) = mnist.load_data()\n",
        "\n",
        "x_train = x_train.astype('float32') / 255.\n",
        "x_test = x_test.astype('float32') / 255.\n",
        "x_train = np.reshape(x_train, (len(x_train), 1, 28, 28))\n",
        "x_test = np.reshape(x_test, (len(x_test), 1, 28, 28))\n",
        "\n",
        "noise_factor = 0.5\n",
        "# 平均0、標準偏差1の正規分布\n",
        "x_train_noisy = x_train + noise_factor * np.random.normal(loc=0., scale=1., size=x_train.shape)\n",
        "x_test_noisy = x_test + noise_factor * np.random.normal(loc=0., scale=1., size=x_test.shape)\n",
        "\n",
        "x_train_noisy = np.clip(x_train_noisy, 0., 1.)\n",
        "x_test_noisy = np.clip(x_test_noisy, 0., 1.)"
      ],
      "execution_count": 0,
      "outputs": []
    },
    {
      "metadata": {
        "id": "221Y_E5yrVDU",
        "colab_type": "code",
        "colab": {
          "base_uri": "https://localhost:8080/",
          "height": 125
        },
        "outputId": "fe098db7-f9fd-4bd7-b56d-bb696ecef6e0"
      },
      "cell_type": "code",
      "source": [
        "import matplotlib.pyplot as plt\n",
        "\n",
        "n = 10\n",
        "plt.figure(figsize=(20, 2))\n",
        "for i in range(n):\n",
        "    ax = plt.subplot(1, n, i+1)\n",
        "    plt.imshow(x_test_noisy[i].reshape(28, 28))\n",
        "    plt.gray()\n",
        "    ax.get_xaxis().set_visible(False)\n",
        "    ax.get_yaxis().set_visible(False)\n",
        "plt.show()\n"
      ],
      "execution_count": 14,
      "outputs": [
        {
          "output_type": "display_data",
          "data": {
            "image/png": "[encoded data removed]",
            "text/plain": [
              "<matplotlib.figure.Figure at 0x7fe64dcd4e10>"
            ]
          },
          "metadata": {
            "tags": []
          }
        }
      ]
    },
    {
      "metadata": {
        "id": "u5fZHN2ArbGO",
        "colab_type": "code",
        "colab": {
          "base_uri": "https://localhost:8080/",
          "height": 255
        },
        "outputId": "ddd27898-9ee3-4cb7-f075-a45ce01a360d"
      },
      "cell_type": "code",
      "source": [
        "from keras.layers import Input, Convolution2D, MaxPooling2D, UpSampling2D\n",
        "from keras.models import Model\n",
        "\n",
        "input_img = Input(shape=(1, 28, 28))\n",
        "x = Convolution2D(32, 3, 3, activation='relu', border_mode='same')(input_img)\n",
        "x = MaxPooling2D((2, 2), border_mode='same')(x)\n",
        "x = Convolution2D(32, 3, 3, activation='relu', border_mode='same')(x)\n",
        "encoded = MaxPooling2D((2, 2), border_mode='same')(x)\n",
        "\n",
        "x = Convolution2D(32, 3, 3, activation='relu', border_mode='same')(encoded)\n",
        "x = UpSampling2D((2, 2))(x)\n",
        "x = Convolution2D(32, 3, 3, activation='relu', border_mode='same')(x)\n",
        "x = UpSampling2D((2, 2))(x)\n",
        "decoded = Convolution2D(1, 3, 3, activation='sigmoid', border_mode='same')(x)\n",
        "\n",
        "autoencoder = Model(input_img, decoded)\n",
        "autoencoder.compile(optimizer='adam', loss='binary_crossentropy')"
      ],
      "execution_count": 15,
      "outputs": [
        {
          "output_type": "stream",
          "text": [
            "/usr/local/lib/python3.6/dist-packages/ipykernel_launcher.py:5: UserWarning: Update your `Conv2D` call to the Keras 2 API: `Conv2D(32, (3, 3), activation=\"relu\", padding=\"same\")`\n",
            "  \"\"\"\n",
            "/usr/local/lib/python3.6/dist-packages/ipykernel_launcher.py:6: UserWarning: Update your `MaxPooling2D` call to the Keras 2 API: `MaxPooling2D((2, 2), padding=\"same\")`\n",
            "  \n",
            "/usr/local/lib/python3.6/dist-packages/ipykernel_launcher.py:7: UserWarning: Update your `Conv2D` call to the Keras 2 API: `Conv2D(32, (3, 3), activation=\"relu\", padding=\"same\")`\n",
            "  import sys\n",
            "/usr/local/lib/python3.6/dist-packages/ipykernel_launcher.py:8: UserWarning: Update your `MaxPooling2D` call to the Keras 2 API: `MaxPooling2D((2, 2), padding=\"same\")`\n",
            "  \n",
            "/usr/local/lib/python3.6/dist-packages/ipykernel_launcher.py:10: UserWarning: Update your `Conv2D` call to the Keras 2 API: `Conv2D(32, (3, 3), activation=\"relu\", padding=\"same\")`\n",
            "  # Remove the CWD from sys.path while we load stuff.\n",
            "/usr/local/lib/python3.6/dist-packages/ipykernel_launcher.py:12: UserWarning: Update your `Conv2D` call to the Keras 2 API: `Conv2D(32, (3, 3), activation=\"relu\", padding=\"same\")`\n",
            "  if sys.path[0] == '':\n",
            "/usr/local/lib/python3.6/dist-packages/ipykernel_launcher.py:14: UserWarning: Update your `Conv2D` call to the Keras 2 API: `Conv2D(1, (3, 3), activation=\"sigmoid\", padding=\"same\")`\n",
            "  \n"
          ],
          "name": "stderr"
        }
      ]
    }
  ]
}