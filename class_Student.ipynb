{
  "nbformat": 4,
  "nbformat_minor": 0,
  "metadata": {
    "colab": {
      "name": "class Student.ipynb",
      "version": "0.3.2",
      "provenance": []
    },
    "kernelspec": {
      "name": "python3",
      "display_name": "Python 3"
    },
    "accelerator": "GPU"
  },
  "cells": [
    {
      "cell_type": "markdown",
      "metadata": {
        "id": "view-in-github",
        "colab_type": "text"
      },
      "source": [
        "[View in Colaboratory](https://colab.research.google.com/github/kintarou/django-starter/blob/master/class_Student.ipynb)"
      ]
    },
    {
      "metadata": {
        "id": "L0c4C1DPtpH_",
        "colab_type": "code",
        "colab": {}
      },
      "cell_type": "code",
      "source": [
        "import datetime\n",
        "\n",
        "class Person(object):\n",
        "  \n",
        "  def __init__(self, name):\n",
        "    self.name = name\n",
        "    try:\n",
        "      lastBlock = name.rindex(' ')\n",
        "      self.lastName = name[lastBlank + 1:]\n",
        "    except:\n",
        "      self.lastName = name\n",
        "    self.birthday = None\n",
        "    \n",
        "  def getName(self):\n",
        "    return self.name\n",
        "  \n",
        "  def getLastName(self):\n",
        "    return self.lastName\n",
        "  \n",
        "  def setBirthday(self, birthdate):\n",
        "    self.birthday = birthdate\n",
        "    \n",
        "  def getAge(self):\n",
        "    if self.birthday == None:\n",
        "      raise ValueError\n",
        "    return (datetime.date.today() - self.birthday).days\n",
        "  \n",
        "  def __It__(self, other):\n",
        "    if self.lastName == other.lastName:\n",
        "      return self.name < other.name\n",
        "    return self.lastName < other.lastName\n",
        "  \n",
        "  def __str__(self):\n",
        "    return self.name"
      ],
      "execution_count": 0,
      "outputs": []
    },
    {
      "metadata": {
        "id": "SDn9GMZGtiu8",
        "colab_type": "code",
        "colab": {
          "base_uri": "https://localhost:8080/",
          "height": 51
        },
        "outputId": "fcfaa99f-cdc8-4520-fb4c-a21e2dcb40cd"
      },
      "cell_type": "code",
      "source": [
        "me = Person('Michael Guttag')\n",
        "him = Person('Barack Husssain Obama')\n",
        "her = Person('Madonna')\n",
        "print(him.getLastName())\n",
        "him.setBirthday(datetime.date(1961, 8, 4))\n",
        "her.setBirthday(datetime.date(1958, 8, 16))\n",
        "print(him.getName(),'is',him.getAge(), 'days old')"
      ],
      "execution_count": 20,
      "outputs": [
        {
          "output_type": "stream",
          "text": [
            "Barack Husssain Obama\n",
            "Barack Husssain Obama is 20766 days old\n"
          ],
          "name": "stdout"
        }
      ]
    },
    {
      "metadata": {
        "id": "jh6D0cT7AlOa",
        "colab_type": "code",
        "colab": {
          "base_uri": "https://localhost:8080/",
          "height": 68
        },
        "outputId": "19983f5f-4591-4824-ab55-606b25872547"
      },
      "cell_type": "code",
      "source": [
        "pList = [me, him, her]\n",
        "for p in pList:\n",
        "  print(p)\n",
        "  \n"
      ],
      "execution_count": 22,
      "outputs": [
        {
          "output_type": "stream",
          "text": [
            "Michael Guttag\n",
            "Barack Husssain Obama\n",
            "Madonna\n"
          ],
          "name": "stdout"
        }
      ]
    },
    {
      "metadata": {
        "id": "aGNPlhm24EXk",
        "colab_type": "code",
        "colab": {}
      },
      "cell_type": "code",
      "source": [
        "class MITPerson(Person):\n",
        "  nextIdNum = 0\n",
        "  def __init__(self, name):\n",
        "    Person.__init__(self, name)\n",
        "    self.idNum = MITPerson.nextIdNum\n",
        "    MITPerson.nextIdNum += 1\n",
        "    \n",
        "  def getIdNum(self):\n",
        "    return self.idNum\n",
        "  \n",
        "  def __It__(self,other):\n",
        "    return self,idNum < other.idNum"
      ],
      "execution_count": 0,
      "outputs": []
    },
    {
      "metadata": {
        "id": "NG8KO0mO5_vx",
        "colab_type": "code",
        "colab": {
          "base_uri": "https://localhost:8080/",
          "height": 34
        },
        "outputId": "f8c19fb0-9cf8-4d27-8172-18f75b7bff55"
      },
      "cell_type": "code",
      "source": [
        "p1 = MITPerson('Barbara Beaver')\n",
        "print(str(p1) + '\\'s id number is ' + str(p1.getIdNum()))"
      ],
      "execution_count": 25,
      "outputs": [
        {
          "output_type": "stream",
          "text": [
            "Barbara Beaver's id number is 0\n"
          ],
          "name": "stdout"
        }
      ]
    },
    {
      "metadata": {
        "id": "ctH5DjMxFThJ",
        "colab_type": "code",
        "colab": {}
      },
      "cell_type": "code",
      "source": [
        "p1 = MITPerson('Mark Guttag')\n",
        "p2 = MITPerson('Billy Bob Beaver')\n",
        "p3 = MITPerson('Billy Bob Beaver')\n",
        "p4 = Person('Billy Bob Beaver')"
      ],
      "execution_count": 0,
      "outputs": []
    },
    {
      "metadata": {
        "id": "L_u52m2w7J8S",
        "colab_type": "code",
        "colab": {}
      },
      "cell_type": "code",
      "source": [
        "class Student(MITPerson):\n",
        "  def isStudent(self):\n",
        "    return isinstance(self, Student)\n",
        "class UG(Student):\n",
        "  def __init__(self, name, classYear):\n",
        "    MITPerson.__init__(self, name)\n",
        "    self.year = classYear\n",
        "  def getClass(self):\n",
        "    return self.year\n",
        "class Grad(Student):\n",
        "  pass"
      ],
      "execution_count": 0,
      "outputs": []
    },
    {
      "metadata": {
        "id": "2eTtg0dN9yDC",
        "colab_type": "code",
        "colab": {
          "base_uri": "https://localhost:8080/",
          "height": 51
        },
        "outputId": "7599ab4d-f718-4982-c903-77ff529c6548"
      },
      "cell_type": "code",
      "source": [
        "p5 = Grad('Buzz Aldrin')\n",
        "p6 = UG('Billy Beaver', 1984)\n",
        "print(p5,'is a graduate student is', type(p5)==Grad)\n",
        "print(p5,'is an undergraduate student is', type(p5)==UG)"
      ],
      "execution_count": 27,
      "outputs": [
        {
          "output_type": "stream",
          "text": [
            "Buzz Aldrin is a graduate student is True\n",
            "Buzz Aldrin is an undergraduate student is False\n"
          ],
          "name": "stdout"
        }
      ]
    }
  ]
}