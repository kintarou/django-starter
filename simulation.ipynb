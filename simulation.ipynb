{
  "nbformat": 4,
  "nbformat_minor": 0,
  "metadata": {
    "colab": {
      "name": "simulation.ipynb",
      "version": "0.3.2",
      "provenance": [],
      "include_colab_link": true
    },
    "kernelspec": {
      "name": "python3",
      "display_name": "Python 3"
    },
    "accelerator": "GPU"
  },
  "cells": [
    {
      "cell_type": "markdown",
      "metadata": {
        "id": "view-in-github",
        "colab_type": "text"
      },
      "source": [
        "[View in Colaboratory](https://colab.research.google.com/github/kintarou/django-starter/blob/master/simulation.ipynb)"
      ]
    },
    {
      "metadata": {
        "id": "nWSvpG9y23LP",
        "colab_type": "code",
        "colab": {}
      },
      "cell_type": "code",
      "source": [
        "import numpy as np\n",
        "import pandas as pd\n",
        "import scipy as sp\n",
        "from scipy import stats\n",
        "from matplotlib import pyplot as plt\n",
        "import seaborn as sns\n",
        "sns.set()\n",
        "%precision 3\n",
        "%matplotlib inline"
      ],
      "execution_count": 0,
      "outputs": []
    },
    {
      "metadata": {
        "id": "WRiw1oHD3N69",
        "colab_type": "code",
        "colab": {}
      },
      "cell_type": "code",
      "source": [
        "population=stats.norm(loc=4,scale=0.8)"
      ],
      "execution_count": 0,
      "outputs": []
    },
    {
      "metadata": {
        "id": "52_nEiHj6V5t",
        "colab_type": "code",
        "colab": {}
      },
      "cell_type": "code",
      "source": [
        "sample_mean_array=np.zeros(10000)"
      ],
      "execution_count": 0,
      "outputs": []
    },
    {
      "metadata": {
        "id": "aKF9pKVz5zT8",
        "colab_type": "code",
        "colab": {
          "base_uri": "https://localhost:8080/",
          "height": 34
        },
        "outputId": "40318b78-b220-4b1e-98c9-e762e3876837"
      },
      "cell_type": "code",
      "source": [
        "np.random.seed(1)\n",
        "for i in range(0,10000):\n",
        "  sample=population.rvs(size=10)\n",
        "  sample_mean_array[i]=sp.mean(sample)\n",
        "sample_mean_array  "
      ],
      "execution_count": 4,
      "outputs": [
        {
          "output_type": "execute_result",
          "data": {
            "text/plain": [
              "array([3.922, 3.864, 4.07 , ..., 4.136, 4.575, 4.099])"
            ]
          },
          "metadata": {
            "tags": []
          },
          "execution_count": 4
        }
      ]
    },
    {
      "metadata": {
        "id": "zMWxZMJ7BPsV",
        "colab_type": "code",
        "colab": {
          "base_uri": "https://localhost:8080/",
          "height": 34
        },
        "outputId": "d8569caa-f50f-4a8b-cfb8-7a56a1aa0868"
      },
      "cell_type": "code",
      "source": [
        "sp.mean(sample_mean_array)"
      ],
      "execution_count": 5,
      "outputs": [
        {
          "output_type": "execute_result",
          "data": {
            "text/plain": [
              "4.004"
            ]
          },
          "metadata": {
            "tags": []
          },
          "execution_count": 5
        }
      ]
    },
    {
      "metadata": {
        "id": "LU3ypbdBBUr_",
        "colab_type": "code",
        "colab": {
          "base_uri": "https://localhost:8080/",
          "height": 34
        },
        "outputId": "99326eb9-58ca-4f23-ee23-a522179b1376"
      },
      "cell_type": "code",
      "source": [
        "sp.std(sample_mean_array,ddof=1)"
      ],
      "execution_count": 6,
      "outputs": [
        {
          "output_type": "execute_result",
          "data": {
            "text/plain": [
              "0.251"
            ]
          },
          "metadata": {
            "tags": []
          },
          "execution_count": 6
        }
      ]
    },
    {
      "metadata": {
        "id": "o3Q-zKtnBeYk",
        "colab_type": "code",
        "colab": {
          "base_uri": "https://localhost:8080/",
          "height": 282
        },
        "outputId": "d02be7dc-931d-460b-c5ce-74addd7f54a4"
      },
      "cell_type": "code",
      "source": [
        "sns.distplot(sample_mean_array,color='blue')"
      ],
      "execution_count": 7,
      "outputs": [
        {
          "output_type": "execute_result",
          "data": {
            "text/plain": [
              "<matplotlib.axes._subplots.AxesSubplot at 0x7f287c70ec88>"
            ]
          },
          "metadata": {
            "tags": []
          },
          "execution_count": 7
        },
        {
          "output_type": "display_data",
          "data": {
            "image/png": "[encoded data removed]",
            "text/plain": [
              "<matplotlib.figure.Figure at 0x7f287c70e6d8>"
            ]
          },
          "metadata": {
            "tags": []
          }
        }
      ]
    },
    {
      "metadata": {
        "id": "jvv9H_XqETXr",
        "colab_type": "code",
        "colab": {
          "base_uri": "https://localhost:8080/",
          "height": 34
        },
        "outputId": "fb3067a1-899f-480a-950d-c9dbad811b30"
      },
      "cell_type": "code",
      "source": [
        "size_array=np.arange(start=10,stop=100100,step=100)\n",
        "size_array"
      ],
      "execution_count": 8,
      "outputs": [
        {
          "output_type": "execute_result",
          "data": {
            "text/plain": [
              "array([    10,    110,    210, ...,  99810,  99910, 100010])"
            ]
          },
          "metadata": {
            "tags": []
          },
          "execution_count": 8
        }
      ]
    },
    {
      "metadata": {
        "id": "T-ExIPLEEnWU",
        "colab_type": "code",
        "colab": {}
      },
      "cell_type": "code",
      "source": [
        "sample_mean_array_size=np.zeros(len(size_array))\n",
        "np.random.seed(1)\n",
        "for i in range(0,len(size_array)):\n",
        "  sample=population.rvs(size=size_array[i])\n",
        "  sample_mean_array_size[i]=sp.mean(sample)"
      ],
      "execution_count": 0,
      "outputs": []
    },
    {
      "metadata": {
        "id": "uIBUmeJtFL30",
        "colab_type": "code",
        "colab": {
          "base_uri": "https://localhost:8080/",
          "height": 300
        },
        "outputId": "8856580d-2321-47c8-95c7-5fb29b890e70"
      },
      "cell_type": "code",
      "source": [
        "plt.plot(size_array,sample_mean_array_size,color='green')\n",
        "plt.xlabel('sample size')\n",
        "plt.ylabel('sample mean')"
      ],
      "execution_count": 10,
      "outputs": [
        {
          "output_type": "execute_result",
          "data": {
            "text/plain": [
              "Text(0,0.5,'sample mean')"
            ]
          },
          "metadata": {
            "tags": []
          },
          "execution_count": 10
        },
        {
          "output_type": "display_data",
          "data": {
            "image/png": "[encoded data removed]",
            "text/plain": [
              "<matplotlib.figure.Figure at 0x7f287c70ec50>"
            ]
          },
          "metadata": {
            "tags": []
          }
        }
      ]
    },
    {
      "metadata": {
        "id": "HpT658edIdyi",
        "colab_type": "code",
        "colab": {}
      },
      "cell_type": "code",
      "source": [
        "def calc_sample_mean(size, n_trial):\n",
        "  sample_mean_array=np.zeros(n_trial)\n",
        "  for i in range(0,n_trial):\n",
        "    sample=population.rvs(size=size)\n",
        "    sample_mean_array[i]=sp.mean(sample)\n",
        "  return(sample_mean_array)  "
      ],
      "execution_count": 0,
      "outputs": []
    },
    {
      "metadata": {
        "id": "EyrGbNjeJDRT",
        "colab_type": "code",
        "colab": {
          "base_uri": "https://localhost:8080/",
          "height": 34
        },
        "outputId": "bdcc9e93-b299-4b8c-d61f-5cb5a32ce29e"
      },
      "cell_type": "code",
      "source": [
        "np.random.seed(1)\n",
        "sp.mean(calc_sample_mean(size=10,n_trial=10000))"
      ],
      "execution_count": 12,
      "outputs": [
        {
          "output_type": "execute_result",
          "data": {
            "text/plain": [
              "4.004"
            ]
          },
          "metadata": {
            "tags": []
          },
          "execution_count": 12
        }
      ]
    },
    {
      "metadata": {
        "id": "H48u60cSSehx",
        "colab_type": "code",
        "colab": {
          "base_uri": "https://localhost:8080/",
          "height": 230
        },
        "outputId": "60e8f247-e2fb-4d27-d426-7eb2434a932e"
      },
      "cell_type": "code",
      "source": [
        "np.random.seed(1)\n",
        "size_10=calc_sample_mean(size=10,n_trial=10000)\n",
        "size_10_df=pd.DataFrame({\"sample_mean\":size_10,\"size\":np.tile(\"size_10\",10000)})\n",
        "size_20=calc_sample_mean(size=20,n_trial=10000)\n",
        "size_20_df=pd.DataFrame({\"sample_mean\":size_20,\"size\":np.tile(\"size_20\",10000)})\n",
        "size_30=calc_sample_mean(size=30,n_trial=10000)\n",
        "size_30_df=pd.DataFrame({\"sample_mean\":size_30,\"size\":np.tile(\"size_30\",10000)})\n",
        "sim_result=pd.concat([size_10_df,size_20_df,size_30_df])\n",
        "print(sim_result[:5])\n",
        "print(sim_result[-5:])"
      ],
      "execution_count": 20,
      "outputs": [
        {
          "output_type": "stream",
          "text": [
            "   sample_mean     size\n",
            "0     3.922287  size_10\n",
            "1     3.864329  size_10\n",
            "2     4.069530  size_10\n",
            "3     3.857140  size_10\n",
            "4     4.184654  size_10\n",
            "      sample_mean     size\n",
            "9995     3.980022  size_30\n",
            "9996     3.770016  size_30\n",
            "9997     3.930151  size_30\n",
            "9998     4.075567  size_30\n",
            "9999     3.976259  size_30\n"
          ],
          "name": "stdout"
        }
      ]
    },
    {
      "metadata": {
        "id": "NPQQSI4ffAyA",
        "colab_type": "code",
        "colab": {
          "base_uri": "https://localhost:8080/",
          "height": 367
        },
        "outputId": "be3a916f-1b01-4b49-82ef-1d1863491dd3"
      },
      "cell_type": "code",
      "source": [
        "sns.violinplot(x=\"size\",y=\"sample_mean\",data=sim_result,color=\"blue\")"
      ],
      "execution_count": 21,
      "outputs": [
        {
          "output_type": "stream",
          "text": [
            "/usr/local/lib/python3.6/dist-packages/seaborn/categorical.py:588: FutureWarning: remove_na is deprecated and is a private function. Do not use.\n",
            "  kde_data = remove_na(group_data)\n",
            "/usr/local/lib/python3.6/dist-packages/seaborn/categorical.py:816: FutureWarning: remove_na is deprecated and is a private function. Do not use.\n",
            "  violin_data = remove_na(group_data)\n"
          ],
          "name": "stderr"
        },
        {
          "output_type": "execute_result",
          "data": {
            "text/plain": [
              "<matplotlib.axes._subplots.AxesSubplot at 0x7f287a1fe7f0>"
            ]
          },
          "metadata": {
            "tags": []
          },
          "execution_count": 21
        },
        {
          "output_type": "display_data",
          "data": {
            "image/png": "[encoded data removed]",
            "text/plain": [
              "<matplotlib.figure.Figure at 0x7f287c61e080>"
            ]
          },
          "metadata": {
            "tags": []
          }
        }
      ]
    },
    {
      "metadata": {
        "id": "biIWPpCWfTzl",
        "colab_type": "code",
        "colab": {
          "base_uri": "https://localhost:8080/",
          "height": 87
        },
        "outputId": "5d393e43-bbe0-412a-b5ff-5e579b7dbc15"
      },
      "cell_type": "code",
      "source": [
        "size_array=np.arange(start=2,stop=102,step=2)\n",
        "size_array"
      ],
      "execution_count": 22,
      "outputs": [
        {
          "output_type": "execute_result",
          "data": {
            "text/plain": [
              "array([  2,   4,   6,   8,  10,  12,  14,  16,  18,  20,  22,  24,  26,\n",
              "        28,  30,  32,  34,  36,  38,  40,  42,  44,  46,  48,  50,  52,\n",
              "        54,  56,  58,  60,  62,  64,  66,  68,  70,  72,  74,  76,  78,\n",
              "        80,  82,  84,  86,  88,  90,  92,  94,  96,  98, 100])"
            ]
          },
          "metadata": {
            "tags": []
          },
          "execution_count": 22
        }
      ]
    },
    {
      "metadata": {
        "id": "ZEX-UlIUfi5t",
        "colab_type": "code",
        "colab": {}
      },
      "cell_type": "code",
      "source": [
        "sample_mean_std_array=np.ones(len(size_array))"
      ],
      "execution_count": 0,
      "outputs": []
    },
    {
      "metadata": {
        "id": "9QLY_rqUfu0X",
        "colab_type": "code",
        "colab": {}
      },
      "cell_type": "code",
      "source": [
        "np.random.seed(1)\n",
        "for i in range(0,len(size_array)):\n",
        "  sample_mean=calc_sample_mean(size=size_array[i],n_trial=100)\n",
        "  sample_mean_std_array[i]=sp.std(sample_mean,ddof=1)"
      ],
      "execution_count": 0,
      "outputs": []
    },
    {
      "metadata": {
        "id": "GMaVHR2wgMd2",
        "colab_type": "code",
        "colab": {
          "base_uri": "https://localhost:8080/",
          "height": 296
        },
        "outputId": "a067ef60-0538-48e2-90ba-c187080e6b7c"
      },
      "cell_type": "code",
      "source": [
        "plt.plot(size_array,sample_mean_std_array,color='green')\n",
        "plt.xlabel(\"sample_size\")\n",
        "plt.ylabel(\"mean_std value\")"
      ],
      "execution_count": 29,
      "outputs": [
        {
          "output_type": "execute_result",
          "data": {
            "text/plain": [
              "Text(0,0.5,'mean_std value')"
            ]
          },
          "metadata": {
            "tags": []
          },
          "execution_count": 29
        },
        {
          "output_type": "display_data",
          "data": {
            "image/png": "[encoded data removed]",
            "text/plain": [
              "<matplotlib.figure.Figure at 0x7f287a45b710>"
            ]
          },
          "metadata": {
            "tags": []
          }
        }
      ]
    },
    {
      "metadata": {
        "id": "6idHnGqfgl7p",
        "colab_type": "code",
        "colab": {
          "base_uri": "https://localhost:8080/",
          "height": 123
        },
        "outputId": "85d9974d-1ed4-4c7d-f4da-c53f89c94060"
      },
      "cell_type": "code",
      "source": [
        "standard_error=0.8/np.sqrt(size_array)\n",
        "standard_error"
      ],
      "execution_count": 27,
      "outputs": [
        {
          "output_type": "execute_result",
          "data": {
            "text/plain": [
              "array([0.566, 0.4  , 0.327, 0.283, 0.253, 0.231, 0.214, 0.2  , 0.189,\n",
              "       0.179, 0.171, 0.163, 0.157, 0.151, 0.146, 0.141, 0.137, 0.133,\n",
              "       0.13 , 0.126, 0.123, 0.121, 0.118, 0.115, 0.113, 0.111, 0.109,\n",
              "       0.107, 0.105, 0.103, 0.102, 0.1  , 0.098, 0.097, 0.096, 0.094,\n",
              "       0.093, 0.092, 0.091, 0.089, 0.088, 0.087, 0.086, 0.085, 0.084,\n",
              "       0.083, 0.083, 0.082, 0.081, 0.08 ])"
            ]
          },
          "metadata": {
            "tags": []
          },
          "execution_count": 27
        }
      ]
    },
    {
      "metadata": {
        "id": "nXqzmGxTgyNO",
        "colab_type": "code",
        "colab": {
          "base_uri": "https://localhost:8080/",
          "height": 296
        },
        "outputId": "69021e18-6698-41c7-a1c7-d1d04c380005"
      },
      "cell_type": "code",
      "source": [
        "plt.plot(size_array,sample_mean_std_array,color='green')\n",
        "plt.plot(size_array,standard_error,color='red',linestyle='dotted')\n",
        "plt.xlabel(\"sample_size\")\n",
        "plt.ylabel(\"mean_std value\")\n",
        "\n"
      ],
      "execution_count": 30,
      "outputs": [
        {
          "output_type": "execute_result",
          "data": {
            "text/plain": [
              "Text(0,0.5,'mean_std value')"
            ]
          },
          "metadata": {
            "tags": []
          },
          "execution_count": 30
        },
        {
          "output_type": "display_data",
          "data": {
            "image/png": "[encoded data removed]",
            "text/plain": [
              "<matplotlib.figure.Figure at 0x7f287a4b17b8>"
            ]
          },
          "metadata": {
            "tags": []
          }
        }
      ]
    },
    {
      "metadata": {
        "id": "J685QPvkq9gg",
        "colab_type": "code",
        "colab": {}
      },
      "cell_type": "code",
      "source": [
        "sample_var_array=np.zeros(10000)\n",
        "np.random.seed(1)\n",
        "for i in range(0,10000):\n",
        "  sample=population.rvs(size=10)\n",
        "  sample_var_array[i]=sp.var(sample,ddof=0)"
      ],
      "execution_count": 0,
      "outputs": []
    },
    {
      "metadata": {
        "id": "kHtayZHMrYco",
        "colab_type": "code",
        "colab": {
          "base_uri": "https://localhost:8080/",
          "height": 34
        },
        "outputId": "a5fef5ee-be2c-4d57-998a-17a5026a729f"
      },
      "cell_type": "code",
      "source": [
        "sp.mean(sample_var_array)"
      ],
      "execution_count": 43,
      "outputs": [
        {
          "output_type": "execute_result",
          "data": {
            "text/plain": [
              "0.575"
            ]
          },
          "metadata": {
            "tags": []
          },
          "execution_count": 43
        }
      ]
    },
    {
      "metadata": {
        "id": "XmVAacpVrh9C",
        "colab_type": "code",
        "colab": {
          "base_uri": "https://localhost:8080/",
          "height": 34
        },
        "outputId": "feed3800-041e-4b83-fab0-a4137f8733bd"
      },
      "cell_type": "code",
      "source": [
        "unbias_var_array=np.zeros(10000)\n",
        "np.random.seed(1)\n",
        "for i in range(0,10000):\n",
        "  sample=population.rvs(size=10)\n",
        "  unbias_var_array[i]=sp.var(sample,ddof=1)\n",
        "sp.mean(unbias_var_array)  "
      ],
      "execution_count": 48,
      "outputs": [
        {
          "output_type": "execute_result",
          "data": {
            "text/plain": [
              "0.639"
            ]
          },
          "metadata": {
            "tags": []
          },
          "execution_count": 48
        }
      ]
    },
    {
      "metadata": {
        "id": "cTagaRBo4eRP",
        "colab_type": "code",
        "colab": {
          "base_uri": "https://localhost:8080/",
          "height": 34
        },
        "outputId": "b84d0bcf-5035-4529-f7d4-36984cad0de2"
      },
      "cell_type": "code",
      "source": [
        "size_array=np.arange(start=10,stop=100100,step=100)\n",
        "size_array"
      ],
      "execution_count": 45,
      "outputs": [
        {
          "output_type": "execute_result",
          "data": {
            "text/plain": [
              "array([    10,    110,    210, ...,  99810,  99910, 100010])"
            ]
          },
          "metadata": {
            "tags": []
          },
          "execution_count": 45
        }
      ]
    },
    {
      "metadata": {
        "id": "ttn551tv5FEQ",
        "colab_type": "code",
        "colab": {}
      },
      "cell_type": "code",
      "source": [
        "unbias_var_array_size=np.zeros(len(size_array))\n",
        "np.random.seed(1)\n",
        "for i in range(0,len(size_array)):\n",
        "  sample=population.rvs(size=size_array[i])\n",
        "  unbias_var_array_size[i]=sp.var(sample,ddof=1)"
      ],
      "execution_count": 0,
      "outputs": []
    },
    {
      "metadata": {
        "id": "jxgstHTN5oPO",
        "colab_type": "code",
        "colab": {
          "base_uri": "https://localhost:8080/",
          "height": 296
        },
        "outputId": "2dd99f76-14a5-4184-d98f-1399040558af"
      },
      "cell_type": "code",
      "source": [
        "plt.plot(size_array,unbias_var_array_size,color='blue')\n",
        "plt.xlabel('sample size')\n",
        "plt.ylabel('unbias var')"
      ],
      "execution_count": 47,
      "outputs": [
        {
          "output_type": "execute_result",
          "data": {
            "text/plain": [
              "Text(0,0.5,'unbias var')"
            ]
          },
          "metadata": {
            "tags": []
          },
          "execution_count": 47
        },
        {
          "output_type": "display_data",
          "data": {
            "image/png": "[encoded data removed]",
            "text/plain": [
              "<matplotlib.figure.Figure at 0x7f2879e1ad30>"
            ]
          },
          "metadata": {
            "tags": []
          }
        }
      ]
    },
    {
      "metadata": {
        "id": "wnvMqcvA_c5R",
        "colab_type": "code",
        "colab": {
          "base_uri": "https://localhost:8080/",
          "height": 364
        },
        "outputId": "92ff8620-5478-4472-f80a-7c1ddee18161"
      },
      "cell_type": "code",
      "source": [
        "import numpy as np\n",
        "import scipy as sp\n",
        "import seaborn as sns\n",
        "sns.set()\n",
        "n_size=10000\n",
        "n_trial=50000\n",
        "coin=np.array([0,1])\n",
        "count_coin=np.zeros(n_trial)\n",
        "np.random.seed(1)\n",
        "for i in range(0, n_trial):\n",
        "  count_coin[i]=sp.sum(np.random.choice(coin,size=n_size,replace=True))\n",
        "sns.distplot(count_coin,color='blue')  "
      ],
      "execution_count": 4,
      "outputs": [
        {
          "output_type": "execute_result",
          "data": {
            "text/plain": [
              "<matplotlib.axes._subplots.AxesSubplot at 0x7f12ebbe2b38>"
            ]
          },
          "metadata": {
            "tags": []
          },
          "execution_count": 4
        },
        {
          "output_type": "display_data",
          "data": {
            "image/png": "[encoded data removed]",
            "text/plain": [
              "<matplotlib.figure.Figure at 0x7f12ebbe24e0>"
            ]
          },
          "metadata": {
            "tags": []
          }
        }
      ]
    }
  ]
}