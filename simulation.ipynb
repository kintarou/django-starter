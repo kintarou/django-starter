{
  "nbformat": 4,
  "nbformat_minor": 0,
  "metadata": {
    "colab": {
      "name": "simulation.ipynb",
      "version": "0.3.2",
      "provenance": [],
      "include_colab_link": true
    },
    "kernelspec": {
      "name": "python3",
      "display_name": "Python 3"
    }
  },
  "cells": [
    {
      "cell_type": "markdown",
      "metadata": {
        "id": "view-in-github",
        "colab_type": "text"
      },
      "source": [
        "[View in Colaboratory](https://colab.research.google.com/github/kintarou/django-starter/blob/master/simulation.ipynb)"
      ]
    },
    {
      "metadata": {
        "id": "nWSvpG9y23LP",
        "colab_type": "code",
        "colab": {}
      },
      "cell_type": "code",
      "source": [
        "import numpy as np\n",
        "import pandas as pd\n",
        "import scipy as sp\n",
        "from scipy import stats\n",
        "from matplotlib import pyplot as plt\n",
        "import seaborn as sns\n",
        "sns.set()\n",
        "%precision 3\n",
        "%matplotlib inline"
      ],
      "execution_count": 0,
      "outputs": []
    },
    {
      "metadata": {
        "id": "WRiw1oHD3N69",
        "colab_type": "code",
        "colab": {}
      },
      "cell_type": "code",
      "source": [
        "population=stats.norm(loc=4,scale=0.8)"
      ],
      "execution_count": 0,
      "outputs": []
    },
    {
      "metadata": {
        "id": "52_nEiHj6V5t",
        "colab_type": "code",
        "colab": {}
      },
      "cell_type": "code",
      "source": [
        "sample_mean_array=np.zeros(10000)"
      ],
      "execution_count": 0,
      "outputs": []
    },
    {
      "metadata": {
        "id": "aKF9pKVz5zT8",
        "colab_type": "code",
        "colab": {
          "base_uri": "https://localhost:8080/",
          "height": 34
        },
        "outputId": "141d5da9-f15b-4fcb-f618-eaf5b2703530"
      },
      "cell_type": "code",
      "source": [
        "np.random.seed(1)\n",
        "for i in range(0,10000):\n",
        "  sample=population.rvs(size=10)\n",
        "  sample_mean_array[i]=sp.mean(sample)\n",
        "sample_mean_array  "
      ],
      "execution_count": 9,
      "outputs": [
        {
          "output_type": "execute_result",
          "data": {
            "text/plain": [
              "array([3.922, 3.864, 4.07 , ..., 4.136, 4.575, 4.099])"
            ]
          },
          "metadata": {
            "tags": []
          },
          "execution_count": 9
        }
      ]
    },
    {
      "metadata": {
        "id": "zMWxZMJ7BPsV",
        "colab_type": "code",
        "colab": {
          "base_uri": "https://localhost:8080/",
          "height": 34
        },
        "outputId": "e9fece55-2cb2-4279-d7a5-72afa9dc0290"
      },
      "cell_type": "code",
      "source": [
        "sp.mean(sample_mean_array)"
      ],
      "execution_count": 10,
      "outputs": [
        {
          "output_type": "execute_result",
          "data": {
            "text/plain": [
              "4.004"
            ]
          },
          "metadata": {
            "tags": []
          },
          "execution_count": 10
        }
      ]
    },
    {
      "metadata": {
        "id": "LU3ypbdBBUr_",
        "colab_type": "code",
        "colab": {
          "base_uri": "https://localhost:8080/",
          "height": 34
        },
        "outputId": "bd8d3b32-8731-4ff3-8ca0-49ee3d561ef6"
      },
      "cell_type": "code",
      "source": [
        "sp.std(sample_mean_array,ddof=1)"
      ],
      "execution_count": 11,
      "outputs": [
        {
          "output_type": "execute_result",
          "data": {
            "text/plain": [
              "0.251"
            ]
          },
          "metadata": {
            "tags": []
          },
          "execution_count": 11
        }
      ]
    },
    {
      "metadata": {
        "id": "o3Q-zKtnBeYk",
        "colab_type": "code",
        "colab": {
          "base_uri": "https://localhost:8080/",
          "height": 282
        },
        "outputId": "214ae554-6f12-49d6-b85a-0032d2e30290"
      },
      "cell_type": "code",
      "source": [
        "sns.distplot(sample_mean_array,color='blue')"
      ],
      "execution_count": 12,
      "outputs": [
        {
          "output_type": "execute_result",
          "data": {
            "text/plain": [
              "<matplotlib.axes._subplots.AxesSubplot at 0x7f7ae975bc18>"
            ]
          },
          "metadata": {
            "tags": []
          },
          "execution_count": 12
        },
        {
          "output_type": "display_data",
          "data": {
            "image/png": "[encoded data removed]",
            "text/plain": [
              "<matplotlib.figure.Figure at 0x7f7ae975bb00>"
            ]
          },
          "metadata": {
            "tags": []
          }
        }
      ]
    },
    {
      "metadata": {
        "id": "jvv9H_XqETXr",
        "colab_type": "code",
        "colab": {
          "base_uri": "https://localhost:8080/",
          "height": 34
        },
        "outputId": "81f29d8c-9fd0-4b8d-cf7f-01605bed4c16"
      },
      "cell_type": "code",
      "source": [
        "size_array=np.arange(start=10,stop=100100,step=100)\n",
        "size_array"
      ],
      "execution_count": 14,
      "outputs": [
        {
          "output_type": "execute_result",
          "data": {
            "text/plain": [
              "array([    10,    110,    210, ...,  99810,  99910, 100010])"
            ]
          },
          "metadata": {
            "tags": []
          },
          "execution_count": 14
        }
      ]
    },
    {
      "metadata": {
        "id": "T-ExIPLEEnWU",
        "colab_type": "code",
        "colab": {}
      },
      "cell_type": "code",
      "source": [
        "sample_mean_array_size=np.zeros(len(size_array))\n",
        "np.random.seed(1)\n",
        "for i in range(0,len(size_array)):\n",
        "  sample=population.rvs(size=size_array[i])\n",
        "  sample_mean_array_size[i]=sp.mean(sample)"
      ],
      "execution_count": 0,
      "outputs": []
    },
    {
      "metadata": {
        "id": "uIBUmeJtFL30",
        "colab_type": "code",
        "colab": {
          "base_uri": "https://localhost:8080/",
          "height": 300
        },
        "outputId": "33a52ca5-f0da-437a-d474-847ab6b5a665"
      },
      "cell_type": "code",
      "source": [
        "plt.plot(size_array,sample_mean_array_size,color='green')\n",
        "plt.xlabel('sample size')\n",
        "plt.ylabel('sample mean')"
      ],
      "execution_count": 17,
      "outputs": [
        {
          "output_type": "execute_result",
          "data": {
            "text/plain": [
              "Text(0,0.5,'sample mean')"
            ]
          },
          "metadata": {
            "tags": []
          },
          "execution_count": 17
        },
        {
          "output_type": "display_data",
          "data": {
            "image/png": "[encoded data removed]",
            "text/plain": [
              "<matplotlib.figure.Figure at 0x7f7ae7617940>"
            ]
          },
          "metadata": {
            "tags": []
          }
        }
      ]
    },
    {
      "metadata": {
        "id": "HpT658edIdyi",
        "colab_type": "code",
        "colab": {}
      },
      "cell_type": "code",
      "source": [
        "def calc_sample_mean(size, n_trial):\n",
        "  sample_mean_array=np.zeros(n_trial)\n",
        "  for i in range(0,n_trial):\n",
        "    sample=population.rvs(size=size)\n",
        "    sample_mean_array[i]=sp.mean(sample)\n",
        "  return(sample_mean_array)  "
      ],
      "execution_count": 0,
      "outputs": []
    },
    {
      "metadata": {
        "id": "EyrGbNjeJDRT",
        "colab_type": "code",
        "colab": {
          "base_uri": "https://localhost:8080/",
          "height": 34
        },
        "outputId": "7804b75b-ee89-4037-878a-00b604fbb648"
      },
      "cell_type": "code",
      "source": [
        "np.random.seed(1)\n",
        "sp.mean(calc_sample_mean(size=10,n_trial=10000))"
      ],
      "execution_count": 20,
      "outputs": [
        {
          "output_type": "execute_result",
          "data": {
            "text/plain": [
              "4.004"
            ]
          },
          "metadata": {
            "tags": []
          },
          "execution_count": 20
        }
      ]
    }
  ]
}