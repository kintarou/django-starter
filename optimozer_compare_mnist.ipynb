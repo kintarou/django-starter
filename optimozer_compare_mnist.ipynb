{
  "nbformat": 4,
  "nbformat_minor": 0,
  "metadata": {
    "colab": {
      "name": "optimozer_compare_mnist.ipynb",
      "version": "0.3.2",
      "provenance": []
    },
    "kernelspec": {
      "name": "python3",
      "display_name": "Python 3"
    }
  },
  "cells": [
    {
      "cell_type": "markdown",
      "metadata": {
        "id": "view-in-github",
        "colab_type": "text"
      },
      "source": [
        "[View in Colaboratory](https://colab.research.google.com/github/kintarou/django-starter/blob/master/optimozer_compare_mnist.ipynb)"
      ]
    },
    {
      "metadata": {
        "id": "QSeMyFHnsxPn",
        "colab_type": "code",
        "colab": {
          "base_uri": "https://localhost:8080/",
          "height": 372
        },
        "outputId": "bcd389ae-dee0-4ffa-9cc6-0db1610119c5"
      },
      "cell_type": "code",
      "source": [
        "# coding: utf-8\n",
        "import sys, os\n",
        "sys.path.append(os.pardir)  # 隕ｪ繝・ぅ繝ｬ繧ｯ繝医Μ縺ｮ繝輔ぃ繧､繝ｫ繧偵う繝ｳ繝昴・繝医☆繧九◆繧√・險ｭ螳・\n",
        "import numpy as np\n",
        "import matplotlib.pyplot as plt\n",
        "from collections import OrderedDict\n",
        "from common.optimizer import *\n",
        "\n",
        "\n",
        "def f(x, y):\n",
        "    return x**2 / 20.0 + y**2\n",
        "\n",
        "\n",
        "def df(x, y):\n",
        "    return x / 10.0, 2.0*y\n",
        "\n",
        "init_pos = (-7.0, 2.0)\n",
        "params = {}\n",
        "params['x'], params['y'] = init_pos[0], init_pos[1]\n",
        "grads = {}\n",
        "grads['x'], grads['y'] = 0, 0\n",
        "\n",
        "\n",
        "optimizers = OrderedDict()\n",
        "optimizers[\"SGD\"] = SGD(lr=0.95)\n",
        "optimizers[\"Momentum\"] = Momentum(lr=0.1)\n",
        "optimizers[\"AdaGrad\"] = AdaGrad(lr=1.5)\n",
        "optimizers[\"Adam\"] = Adam(lr=0.3)\n",
        "\n",
        "idx = 1\n",
        "\n",
        "for key in optimizers:\n",
        "    optimizer = optimizers[key]\n",
        "    x_history = []\n",
        "    y_history = []\n",
        "    params['x'], params['y'] = init_pos[0], init_pos[1]\n",
        "    \n",
        "    for i in range(30):\n",
        "        x_history.append(params['x'])\n",
        "        y_history.append(params['y'])\n",
        "        \n",
        "        grads['x'], grads['y'] = df(params['x'], params['y'])\n",
        "        optimizer.update(params, grads)\n",
        "    \n",
        "\n",
        "    x = np.arange(-10, 10, 0.01)\n",
        "    y = np.arange(-5, 5, 0.01)\n",
        "    \n",
        "    X, Y = np.meshgrid(x, y) \n",
        "    Z = f(X, Y)\n",
        "    \n",
        "    # for simple contour line  \n",
        "    mask = Z > 7\n",
        "    Z[mask] = 0\n",
        "    \n",
        "    # plot \n",
        "    plt.subplot(2, 2, idx)\n",
        "    idx += 1\n",
        "    plt.plot(x_history, y_history, 'o-', color=\"red\")\n",
        "    plt.contour(X, Y, Z)\n",
        "    plt.ylim(-10, 10)\n",
        "    plt.xlim(-10, 10)\n",
        "    plt.plot(0, 0, '+')\n",
        "    #colorbar()\n",
        "    #spring()\n",
        "    plt.title(key)\n",
        "    plt.xlabel(\"x\")\n",
        "    plt.ylabel(\"y\")\n",
        "    \n",
        "plt.show()"
      ],
      "execution_count": 2,
      "outputs": [
        {
          "output_type": "error",
          "ename": "ModuleNotFoundError",
          "evalue": "ignored",
          "traceback": [
            "\u001b[0;31m---------------------------------------------------------------------------\u001b[0m",
            "\u001b[0;31mModuleNotFoundError\u001b[0m                       Traceback (most recent call last)",
            "\u001b[0;32m<ipython-input-2-c221baaa6b62>\u001b[0m in \u001b[0;36m<module>\u001b[0;34m()\u001b[0m\n\u001b[1;32m      4\u001b[0m \u001b[0;32mimport\u001b[0m \u001b[0mmatplotlib\u001b[0m\u001b[0;34m.\u001b[0m\u001b[0mpyplot\u001b[0m \u001b[0;32mas\u001b[0m \u001b[0mplt\u001b[0m\u001b[0;34m\u001b[0m\u001b[0m\n\u001b[1;32m      5\u001b[0m \u001b[0;32mfrom\u001b[0m \u001b[0mcollections\u001b[0m \u001b[0;32mimport\u001b[0m \u001b[0mOrderedDict\u001b[0m\u001b[0;34m\u001b[0m\u001b[0m\n\u001b[0;32m----> 6\u001b[0;31m \u001b[0;32mfrom\u001b[0m \u001b[0mcommon\u001b[0m\u001b[0;34m.\u001b[0m\u001b[0moptimizer\u001b[0m \u001b[0;32mimport\u001b[0m \u001b[0;34m*\u001b[0m\u001b[0;34m\u001b[0m\u001b[0m\n\u001b[0m\u001b[1;32m      7\u001b[0m \u001b[0;34m\u001b[0m\u001b[0m\n\u001b[1;32m      8\u001b[0m \u001b[0;34m\u001b[0m\u001b[0m\n",
            "\u001b[0;31mModuleNotFoundError\u001b[0m: No module named 'common'",
            "",
            "\u001b[0;31m---------------------------------------------------------------------------\u001b[0;32m\nNOTE: If your import is failing due to a missing package, you can\nmanually install dependencies using either !pip or !apt.\n\nTo view examples of installing some common dependencies, click the\n\"Open Examples\" button below.\n\u001b[0;31m---------------------------------------------------------------------------\u001b[0m\n"
          ]
        }
      ]
    }
  ]
}