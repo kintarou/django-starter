{
  "nbformat": 4,
  "nbformat_minor": 0,
  "metadata": {
    "colab": {
      "name": "neural_network_iris.ipynb",
      "version": "0.3.2",
      "provenance": []
    },
    "kernelspec": {
      "name": "python3",
      "display_name": "Python 3"
    },
    "accelerator": "GPU"
  },
  "cells": [
    {
      "cell_type": "markdown",
      "metadata": {
        "id": "view-in-github",
        "colab_type": "text"
      },
      "source": [
        "[View in Colaboratory](https://colab.research.google.com/github/kintarou/django-starter/blob/master/neural_network_iris.ipynb)"
      ]
    },
    {
      "metadata": {
        "id": "pEVDWLAZaXBc",
        "colab_type": "code",
        "colab": {
          "base_uri": "https://localhost:8080/",
          "height": 88
        },
        "outputId": "2b0d4c31-b782-45d8-8fa2-da19305821a4"
      },
      "cell_type": "code",
      "source": [
        "import numpy as np\n",
        "import pandas as pd\n",
        "import scipy as sp\n",
        "import statsmodels.formula.api as smf\n",
        "import statsmodels.api as sm\n",
        "\n",
        "from sklearn.datasets import load_iris\n",
        "from sklearn.model_selection import train_test_split\n",
        "from sklearn.preprocessing import StandardScaler\n",
        "%precision 3"
      ],
      "execution_count": 1,
      "outputs": [
        {
          "output_type": "stream",
          "text": [
            "/usr/local/lib/python3.6/dist-packages/statsmodels/compat/pandas.py:56: FutureWarning: The pandas.core.datetools module is deprecated and will be removed in a future version. Please use the pandas.tseries module instead.\n",
            "  from pandas.core import datetools\n"
          ],
          "name": "stderr"
        },
        {
          "output_type": "execute_result",
          "data": {
            "text/plain": [
              "'%.3f'"
            ]
          },
          "metadata": {
            "tags": []
          },
          "execution_count": 1
        }
      ]
    },
    {
      "metadata": {
        "id": "6RzUhI1zbxw_",
        "colab_type": "code",
        "colab": {}
      },
      "cell_type": "code",
      "source": [
        "from sklearn.neural_network import MLPClassifier"
      ],
      "execution_count": 0,
      "outputs": []
    },
    {
      "metadata": {
        "id": "HjVFTpDdb-c3",
        "colab_type": "code",
        "colab": {}
      },
      "cell_type": "code",
      "source": [
        "iris = load_iris()"
      ],
      "execution_count": 0,
      "outputs": []
    },
    {
      "metadata": {
        "id": "ms7TsGtAcD4R",
        "colab_type": "code",
        "colab": {
          "base_uri": "https://localhost:8080/",
          "height": 85
        },
        "outputId": "5fccfcc5-10fd-4a20-88ca-df21125a022c"
      },
      "cell_type": "code",
      "source": [
        "iris.feature_names"
      ],
      "execution_count": 4,
      "outputs": [
        {
          "output_type": "execute_result",
          "data": {
            "text/plain": [
              "['sepal length (cm)',\n",
              " 'sepal width (cm)',\n",
              " 'petal length (cm)',\n",
              " 'petal width (cm)']"
            ]
          },
          "metadata": {
            "tags": []
          },
          "execution_count": 4
        }
      ]
    },
    {
      "metadata": {
        "id": "gbdtty4NcI8A",
        "colab_type": "code",
        "colab": {
          "base_uri": "https://localhost:8080/",
          "height": 34
        },
        "outputId": "b8a07ee2-11b0-4f5d-ead0-2f06c421648d"
      },
      "cell_type": "code",
      "source": [
        "iris.target_names"
      ],
      "execution_count": 5,
      "outputs": [
        {
          "output_type": "execute_result",
          "data": {
            "text/plain": [
              "array(['setosa', 'versicolor', 'virginica'], dtype='<U10')"
            ]
          },
          "metadata": {
            "tags": []
          },
          "execution_count": 5
        }
      ]
    },
    {
      "metadata": {
        "id": "YfIPpIG4cO6x",
        "colab_type": "code",
        "colab": {
          "base_uri": "https://localhost:8080/",
          "height": 34
        },
        "outputId": "eaa97293-cdc0-42e8-a16b-fcbcbc4cfe89"
      },
      "cell_type": "code",
      "source": [
        "X = iris.data[50:150, 0:2]\n",
        "y = iris.target[50:150]\n",
        "print(\"説明変数の行数・列数:\", X.shape)"
      ],
      "execution_count": 6,
      "outputs": [
        {
          "output_type": "stream",
          "text": [
            "説明変数の行数・列数: (100, 2)\n"
          ],
          "name": "stdout"
        }
      ]
    },
    {
      "metadata": {
        "id": "sZOvcDS_cwoS",
        "colab_type": "code",
        "colab": {
          "base_uri": "https://localhost:8080/",
          "height": 34
        },
        "outputId": "9fb71b46-e003-444a-a5d4-2ff49dd59edf"
      },
      "cell_type": "code",
      "source": [
        "print(\"応答変数の行数・列数:\", y.shape)"
      ],
      "execution_count": 7,
      "outputs": [
        {
          "output_type": "stream",
          "text": [
            "応答変数の行数・列数: (100,)\n"
          ],
          "name": "stdout"
        }
      ]
    },
    {
      "metadata": {
        "id": "9CcgX_DcdPrs",
        "colab_type": "code",
        "colab": {
          "base_uri": "https://localhost:8080/",
          "height": 51
        },
        "outputId": "83b02d98-ebe4-42a7-cdca-a1186c6679f7"
      },
      "cell_type": "code",
      "source": [
        "X_train, X_test, y_train, y_test = train_test_split(X, y, random_state = 2)\n",
        "print(\"説明変数の行数・列数:\", X_train.shape)\n",
        "print(\"応答変数の行数・列数:\", y_train.shape)"
      ],
      "execution_count": 8,
      "outputs": [
        {
          "output_type": "stream",
          "text": [
            "説明変数の行数・列数: (75, 2)\n",
            "応答変数の行数・列数: (75,)\n"
          ],
          "name": "stdout"
        }
      ]
    },
    {
      "metadata": {
        "id": "I2haYdHFdrYT",
        "colab_type": "code",
        "colab": {
          "base_uri": "https://localhost:8080/",
          "height": 34
        },
        "outputId": "b6ec7117-c735-42b6-9547-4ee73d4e18f7"
      },
      "cell_type": "code",
      "source": [
        "y_train[0:10]"
      ],
      "execution_count": 9,
      "outputs": [
        {
          "output_type": "execute_result",
          "data": {
            "text/plain": [
              "array([1, 1, 2, 2, 2, 2, 1, 1, 1, 1])"
            ]
          },
          "metadata": {
            "tags": []
          },
          "execution_count": 9
        }
      ]
    },
    {
      "metadata": {
        "id": "kLfJf5yCdwR-",
        "colab_type": "code",
        "colab": {
          "base_uri": "https://localhost:8080/",
          "height": 85
        },
        "outputId": "e214478f-5a06-40a1-f7c9-923d74073912"
      },
      "cell_type": "code",
      "source": [
        "X_train_df = pd.DataFrame(X_train, columns = [\"sepal_len\",\"sepal_wid\"])\n",
        "y_train_df = pd.DataFrame({\"species\":y_train - 1})\n",
        "iris_train_df = pd.concat([y_train_df,X_train_df], axis=1)\n",
        "print(iris_train_df.head(3))"
      ],
      "execution_count": 10,
      "outputs": [
        {
          "output_type": "stream",
          "text": [
            "   species  sepal_len  sepal_wid\n",
            "0        0        5.7        2.8\n",
            "1        0        6.6        3.0\n",
            "2        1        6.1        3.0\n"
          ],
          "name": "stdout"
        }
      ]
    },
    {
      "metadata": {
        "id": "d_B6sWlbQ8Lf",
        "colab_type": "code",
        "colab": {
          "base_uri": "https://localhost:8080/",
          "height": 85
        },
        "outputId": "1c5b53da-acb5-42de-9917-a2fb19563471"
      },
      "cell_type": "code",
      "source": [
        "logi_mod_full = smf.glm(\"species~sepal_len + sepal_wid\", data = iris_train_df, family = sm.families.Binomial()).fit()\n",
        "logi_mod_len = smf.glm(\"species~sepal_len + sepal_wid\", data = iris_train_df, family = sm.families.Binomial()).fit()\n",
        "logi_mod_wid = smf.glm(\"species~sepal_wid\", data = iris_train_df, family = sm.families.Binomial()).fit()\n",
        "logi_mod_null = smf.glm(\"species~1 + sepal_wid\", data = iris_train_df, family = sm.families.Binomial()).fit()\n",
        "print(\"full\", logi_mod_full.aic.round(3))\n",
        "print(\"len\", logi_mod_len.aic.round(3))\n",
        "print(\"wid\", logi_mod_wid.aic.round(3))\n",
        "print(\"null\", logi_mod_null.aic.round(3))"
      ],
      "execution_count": 12,
      "outputs": [
        {
          "output_type": "stream",
          "text": [
            "full 76.813\n",
            "len 76.813\n",
            "wid 92.768\n",
            "null 92.768\n"
          ],
          "name": "stdout"
        }
      ]
    },
    {
      "metadata": {
        "id": "DTLv601ya9-Y",
        "colab_type": "code",
        "colab": {
          "base_uri": "https://localhost:8080/",
          "height": 103
        },
        "outputId": "b7d485bd-7cd7-4350-8900-9d0b5fb26764"
      },
      "cell_type": "code",
      "source": [
        "logi_mod_len.summary().tables[1]"
      ],
      "execution_count": 13,
      "outputs": [
        {
          "output_type": "execute_result",
          "data": {
            "text/html": [
              "<table class=\"simpletable\">\n",
              "<tr>\n",
              "      <td></td>         <th>coef</th>     <th>std err</th>      <th>z</th>      <th>P>|z|</th>  <th>[0.025</th>    <th>0.975]</th>  \n",
              "</tr>\n",
              "<tr>\n",
              "  <th>Intercept</th> <td>  -17.8358</td> <td>    4.232</td> <td>   -4.215</td> <td> 0.000</td> <td>  -26.130</td> <td>   -9.542</td>\n",
              "</tr>\n",
              "<tr>\n",
              "  <th>sepal_len</th> <td>    2.3211</td> <td>    0.678</td> <td>    3.424</td> <td> 0.001</td> <td>    0.992</td> <td>    3.650</td>\n",
              "</tr>\n",
              "<tr>\n",
              "  <th>sepal_wid</th> <td>    1.2006</td> <td>    1.026</td> <td>    1.170</td> <td> 0.242</td> <td>   -0.810</td> <td>    3.212</td>\n",
              "</tr>\n",
              "</table>"
            ],
            "text/plain": [
              "<class 'statsmodels.iolib.table.SimpleTable'>"
            ]
          },
          "metadata": {
            "tags": []
          },
          "execution_count": 13
        }
      ]
    },
    {
      "metadata": {
        "id": "F2OaHgcybRSH",
        "colab_type": "code",
        "colab": {
          "base_uri": "https://localhost:8080/",
          "height": 51
        },
        "outputId": "960eed15-8489-476a-a02d-367401f2c589"
      },
      "cell_type": "code",
      "source": [
        "X_test_df = pd.DataFrame(X_test, columns = [\"sepal_len\", \"sepal_wid\"])\n",
        "logi_fit = logi_mod_len.fittedvalues.round(0)\n",
        "logi_pred = logi_mod_len.predict(X_test_df).round(0)\n",
        "true_train = sp.sum(logi_fit == (y_train - 1))\n",
        "true_test = sp.sum(logi_pred == (y_test - 1))\n",
        "result_train = true_train / len(y_train)\n",
        "result_test = true_test / len(y_test)\n",
        "print(\"訓練データの的中率    :\", result_train)\n",
        "print(\"テストデータの的中率  :\", result_test)\n",
        "                   "
      ],
      "execution_count": 14,
      "outputs": [
        {
          "output_type": "stream",
          "text": [
            "訓練データの的中率    : 0.7733333333333333\n",
            "テストデータの的中率  : 0.6\n"
          ],
          "name": "stdout"
        }
      ]
    }
  ]
}