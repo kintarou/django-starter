{
  "nbformat": 4,
  "nbformat_minor": 0,
  "metadata": {
    "colab": {
      "name": "tkinter.ipynb",
      "version": "0.3.2",
      "provenance": []
    },
    "kernelspec": {
      "name": "python3",
      "display_name": "Python 3"
    },
    "accelerator": "GPU"
  },
  "cells": [
    {
      "cell_type": "markdown",
      "metadata": {
        "id": "view-in-github",
        "colab_type": "text"
      },
      "source": [
        "[View in Colaboratory](https://colab.research.google.com/github/kintarou/django-starter/blob/master/tkinter.ipynb)"
      ]
    },
    {
      "metadata": {
        "id": "sgrUFyD5Gzmq",
        "colab_type": "code",
        "colab": {}
      },
      "cell_type": "code",
      "source": [
        "import tkinter\n",
        "\n",
        "# ウインドウ作成\n",
        "root = tkinter.Tk()\n",
        "root.title(\"見積もり\")\n",
        "root.minsize(640, 480)\n",
        "\n",
        "#　画面装飾\n",
        "canvas = tkinter.Canvas(bg=\"black\", width=640, height=480)\n",
        "canvas = place(x=0, y=0)\n",
        "\n",
        "#　メインループ\n",
        "root.mainloop()"
      ],
      "execution_count": 0,
      "outputs": []
    }
  ]
}