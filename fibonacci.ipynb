{
  "nbformat": 4,
  "nbformat_minor": 0,
  "metadata": {
    "colab": {
      "name": "fibonacci.ipynb",
      "version": "0.3.2",
      "provenance": []
    },
    "kernelspec": {
      "name": "python3",
      "display_name": "Python 3"
    },
    "accelerator": "GPU"
  },
  "cells": [
    {
      "cell_type": "markdown",
      "metadata": {
        "id": "view-in-github",
        "colab_type": "text"
      },
      "source": [
        "[View in Colaboratory](https://colab.research.google.com/github/kintarou/django-starter/blob/master/fibonacci.ipynb)"
      ]
    },
    {
      "metadata": {
        "id": "mM2Qh8e7iNDr",
        "colab_type": "code",
        "colab": {}
      },
      "cell_type": "code",
      "source": [
        "def fib(n):\n",
        "  if n == 0 or n == 1:\n",
        "    return 1\n",
        "  else:\n",
        "    return fib(n-1)+fib(n-2)"
      ],
      "execution_count": 0,
      "outputs": []
    },
    {
      "metadata": {
        "id": "B_wuOBURikfa",
        "colab_type": "code",
        "colab": {
          "base_uri": "https://localhost:8080/",
          "height": 34
        },
        "outputId": "795f3d2d-833e-4408-aa41-cf6cb1e3c8c6"
      },
      "cell_type": "code",
      "source": [
        "fib(16)\n",
        "# 処理前の時刻\n",
        "\n",
        "import time\n",
        "t1 = time.time() \n",
        " \n",
        "# 計測したい処理\n",
        "for i in range(1000000):\n",
        "  fib(16)  \n",
        " \n",
        "# 処理後の時刻\n",
        "t2 = time.time()\n",
        " \n",
        "# 経過時間を表示\n",
        "elapsed_time = t2-t1\n",
        "print(f\"経過時間：{elapsed_time}\")"
      ],
      "execution_count": 17,
      "outputs": [
        {
          "output_type": "stream",
          "text": [
            "経過時間：501.22558188438416\n"
          ],
          "name": "stdout"
        }
      ]
    },
    {
      "metadata": {
        "id": "83hAzW6BirE-",
        "colab_type": "code",
        "colab": {}
      },
      "cell_type": "code",
      "source": [
        "def fastFib(n, memo={}):\n",
        "  if n == 0 or n == 1:\n",
        "    return 1\n",
        "  try:\n",
        "    return memo[n]\n",
        "  except KeyError:\n",
        "    result = fastFib(n-1, memo)+fastFib(n-2,memo)\n",
        "    memo[n] = result\n",
        "    return result\n",
        "    "
      ],
      "execution_count": 0,
      "outputs": []
    },
    {
      "metadata": {
        "id": "grJwwkeXkeHV",
        "colab_type": "code",
        "colab": {
          "base_uri": "https://localhost:8080/",
          "height": 34
        },
        "outputId": "604d37ba-099c-4101-88ec-5610bcdf14a5"
      },
      "cell_type": "code",
      "source": [
        "fastFib(800)\n",
        "# 処理前の時刻\n",
        "\n",
        "import time\n",
        "t1 = time.time() \n",
        " \n",
        "# 計測したい処理\n",
        "for i in range(1000000):\n",
        "  fastFib(800)  \n",
        " \n",
        "# 処理後の時刻\n",
        "t2 = time.time()\n",
        " \n",
        "# 経過時間を表示\n",
        "elapsed_time = t2-t1\n",
        "print(f\"経過時間：{elapsed_time}\")"
      ],
      "execution_count": 23,
      "outputs": [
        {
          "output_type": "stream",
          "text": [
            "経過時間：0.2739260196685791\n"
          ],
          "name": "stdout"
        }
      ]
    }
  ]
}