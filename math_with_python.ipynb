{
  "nbformat": 4,
  "nbformat_minor": 0,
  "metadata": {
    "colab": {
      "name": "math with python.ipynb",
      "version": "0.3.2",
      "provenance": [],
      "include_colab_link": true
    },
    "kernelspec": {
      "name": "python3",
      "display_name": "Python 3"
    }
  },
  "cells": [
    {
      "cell_type": "markdown",
      "metadata": {
        "id": "view-in-github",
        "colab_type": "text"
      },
      "source": [
        "<a href=\"https://colab.research.google.com/github/kintarou/django-starter/blob/master/math_with_python.ipynb\" target=\"_parent\"><img src=\"https://colab.research.google.com/assets/colab-badge.svg\" alt=\"Open In Colab\"/></a>"
      ]
    },
    {
      "metadata": {
        "id": "5w8kHwHpStWS",
        "colab_type": "code",
        "colab": {
          "base_uri": "https://localhost:8080/",
          "height": 336
        },
        "outputId": "42301d4f-63fb-4208-a238-a25218c8245a"
      },
      "cell_type": "code",
      "source": [
        "print(int(1659//869))\n",
        "print(int(1659%869))\n",
        "print(int(869//790))\n",
        "print(int(869%790))\n",
        "print(int(314//19))\n",
        "print(int(314%19))\n",
        "print(int(113//17))\n",
        "print(int(113%17))\n",
        "print(int(266//17))\n",
        "print(int(266%17))\n",
        "print(int(385//17))\n",
        "print(int(385%17))\n",
        "print(int(101//13))\n",
        "print(int(101%13))\n",
        "print(int(205//13))\n",
        "print(int(205%13))\n",
        "print(int(322//13))\n",
        "print(int(7**3))\n"
      ],
      "execution_count": 30,
      "outputs": [
        {
          "output_type": "stream",
          "text": [
            "1\n",
            "790\n",
            "1\n",
            "79\n",
            "16\n",
            "10\n",
            "6\n",
            "11\n",
            "15\n",
            "11\n",
            "22\n",
            "11\n",
            "7\n",
            "10\n",
            "15\n",
            "10\n",
            "24\n",
            "343\n"
          ],
          "name": "stdout"
        }
      ]
    },
    {
      "metadata": {
        "id": "eHrCXXtjbOrC",
        "colab_type": "code",
        "colab": {
          "base_uri": "https://localhost:8080/",
          "height": 123
        },
        "outputId": "361d515d-909a-48a1-a7e2-e5abe938acfb"
      },
      "cell_type": "code",
      "source": [
        "!pip install rawpy"
      ],
      "execution_count": 31,
      "outputs": [
        {
          "output_type": "stream",
          "text": [
            "Collecting rawpy\n",
            "\u001b[?25l  Downloading https://files.pythonhosted.org/packages/79/1e/63007c7c6efff9ad42832505c6f98866184eb2c55ea66bc79760aa602f8e/rawpy-0.13.0-cp36-cp36m-manylinux1_x86_64.whl (682kB)\n",
            "\u001b[K    100% |████████████████████████████████| 686kB 5.1MB/s \n",
            "\u001b[?25hRequirement already satisfied: numpy in /usr/local/lib/python3.6/dist-packages (from rawpy) (1.14.6)\n",
            "Installing collected packages: rawpy\n",
            "Successfully installed rawpy-0.13.0\n"
          ],
          "name": "stdout"
        }
      ]
    },
    {
      "metadata": {
        "id": "GxBA36e0bU0c",
        "colab_type": "code",
        "colab": {
          "base_uri": "https://localhost:8080/",
          "height": 230
        },
        "outputId": "2b670628-c418-4f34-bd6e-f0774368fb05"
      },
      "cell_type": "code",
      "source": [
        "!pip install imageio"
      ],
      "execution_count": 32,
      "outputs": [
        {
          "output_type": "stream",
          "text": [
            "Collecting imageio\n",
            "\u001b[?25l  Downloading https://files.pythonhosted.org/packages/28/b4/cbb592964dfd71a9de6a5b08f882fd334fb99ae09ddc82081dbb2f718c81/imageio-2.4.1.tar.gz (3.3MB)\n",
            "\u001b[K    100% |████████████████████████████████| 3.3MB 5.8MB/s \n",
            "\u001b[?25hRequirement already satisfied: numpy in /usr/local/lib/python3.6/dist-packages (from imageio) (1.14.6)\n",
            "Requirement already satisfied: pillow in /usr/local/lib/python3.6/dist-packages (from imageio) (4.0.0)\n",
            "Requirement already satisfied: olefile in /usr/local/lib/python3.6/dist-packages (from pillow->imageio) (0.46)\n",
            "Building wheels for collected packages: imageio\n",
            "  Running setup.py bdist_wheel for imageio ... \u001b[?25l-\b \b\\\b \b|\b \b/\b \bdone\n",
            "\u001b[?25h  Stored in directory: /root/.cache/pip/wheels/e0/43/31/605de9372ceaf657f152d3d5e82f42cf265d81db8bbe63cde1\n",
            "Successfully built imageio\n",
            "Installing collected packages: imageio\n",
            "Successfully installed imageio-2.4.1\n"
          ],
          "name": "stdout"
        }
      ]
    },
    {
      "metadata": {
        "id": "mso0h6hZbbJD",
        "colab_type": "code",
        "colab": {
          "base_uri": "https://localhost:8080/",
          "height": 52
        },
        "outputId": "ac33076b-bce1-48f1-8b62-3d28e3f3ca16"
      },
      "cell_type": "code",
      "source": [
        "!pip install scipy"
      ],
      "execution_count": 33,
      "outputs": [
        {
          "output_type": "stream",
          "text": [
            "Requirement already satisfied: scipy in /usr/local/lib/python3.6/dist-packages (0.19.1)\n",
            "Requirement already satisfied: numpy>=1.8.2 in /usr/local/lib/python3.6/dist-packages (from scipy) (1.14.6)\n"
          ],
          "name": "stdout"
        }
      ]
    },
    {
      "metadata": {
        "id": "yXrlYDkS7KPZ",
        "colab_type": "code",
        "colab": {
          "base_uri": "https://localhost:8080/",
          "height": 34
        },
        "outputId": "80a13457-c3df-4ff0-922a-b67a712fa7f8"
      },
      "cell_type": "code",
      "source": [
        "from sympy import *\n",
        "factorint(2010)"
      ],
      "execution_count": 17,
      "outputs": [
        {
          "output_type": "execute_result",
          "data": {
            "text/plain": [
              "{2: 1, 3: 1, 5: 1, 67: 1}"
            ]
          },
          "metadata": {
            "tags": []
          },
          "execution_count": 17
        }
      ]
    },
    {
      "metadata": {
        "id": "wD9blXYy7nKy",
        "colab_type": "code",
        "colab": {
          "base_uri": "https://localhost:8080/",
          "height": 34
        },
        "outputId": "1d3c52a3-3111-4a87-8f6c-f6bcb9f244b2"
      },
      "cell_type": "code",
      "source": [
        "print(29*51)"
      ],
      "execution_count": 9,
      "outputs": [
        {
          "output_type": "stream",
          "text": [
            "1479\n"
          ],
          "name": "stdout"
        }
      ]
    },
    {
      "metadata": {
        "id": "IiVJtVmG70tT",
        "colab_type": "code",
        "colab": {
          "base_uri": "https://localhost:8080/",
          "height": 34
        },
        "outputId": "6b5b0e08-1047-42bb-a191-85b04a396082"
      },
      "cell_type": "code",
      "source": [
        "from math import gcd\n",
        "print(int(gcd(168,432)))"
      ],
      "execution_count": 25,
      "outputs": [
        {
          "output_type": "stream",
          "text": [
            "24\n"
          ],
          "name": "stdout"
        }
      ]
    },
    {
      "metadata": {
        "id": "FxF--tHx8Fw7",
        "colab_type": "code",
        "colab": {
          "base_uri": "https://localhost:8080/",
          "height": 70
        },
        "outputId": "1411f4a9-45c3-4532-a29b-77efed34971f"
      },
      "cell_type": "code",
      "source": [
        "import math\n",
        "from functools import reduce\n",
        "\n",
        "def gcd(*numbers):\n",
        "    return reduce(math.gcd, numbers)\n",
        "\n",
        "def gcd_list(numbers):\n",
        "    return reduce(math.gcd, numbers)\n",
        "\n",
        "print(gcd(24,40,72))\n",
        "print(gcd(32,54,92))\n",
        "print(gcd(136,238,306))"
      ],
      "execution_count": 24,
      "outputs": [
        {
          "output_type": "stream",
          "text": [
            "8\n",
            "2\n",
            "34\n"
          ],
          "name": "stdout"
        }
      ]
    },
    {
      "metadata": {
        "id": "RwLHcRXIVNB5",
        "colab_type": "code",
        "colab": {
          "base_uri": "https://localhost:8080/",
          "height": 34
        },
        "outputId": "924c8e58-7e09-4101-a535-e8dc76e8a8ee"
      },
      "cell_type": "code",
      "source": [
        "print(615//246)\n"
      ],
      "execution_count": 6,
      "outputs": [
        {
          "output_type": "stream",
          "text": [
            "2\n"
          ],
          "name": "stdout"
        }
      ]
    }
  ]
}