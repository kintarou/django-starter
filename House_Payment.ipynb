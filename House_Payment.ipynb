{
  "nbformat": 4,
  "nbformat_minor": 0,
  "metadata": {
    "colab": {
      "name": "House Payment.ipynb",
      "version": "0.3.2",
      "provenance": []
    },
    "kernelspec": {
      "name": "python3",
      "display_name": "Python 3"
    },
    "accelerator": "GPU"
  },
  "cells": [
    {
      "cell_type": "markdown",
      "metadata": {
        "id": "view-in-github",
        "colab_type": "text"
      },
      "source": [
        "[View in Colaboratory](https://colab.research.google.com/github/kintarou/django-starter/blob/master/House_Payment.ipynb)"
      ]
    },
    {
      "metadata": {
        "id": "lrVw-F_2GQrl",
        "colab_type": "code",
        "colab": {}
      },
      "cell_type": "code",
      "source": [
        "def findPayment(loan, r, m):\n",
        "  return loan*((r*(1+r)**m)/((1+r)**m-1))\n",
        "\n",
        "class Mortgage(object):\n",
        "  def __init__(self, loan, annRate, months):\n",
        "    self.loan = loan\n",
        "    self.rate = annRate/12\n",
        "    self.months = months\n",
        "    self.paid = [0.0]\n",
        "    self.outstanding = [loan]\n",
        "    self.payment = findPayment(loan, self.rate, months)\n",
        "    self.legend = None\n",
        "  def makePayment(self):\n",
        "    self.paid.append(self.payment)\n",
        "    reduction = self.payment - self.outstanding[-1]*self.rate\n",
        "    self.outstanding.append(self.outstanding[-1] - reduction)\n",
        "  def getTotalPaid(self):\n",
        "    return sum(self.paid)\n",
        "  def __str__(self):\n",
        "    return self.legend\n",
        "    "
      ],
      "execution_count": 0,
      "outputs": []
    },
    {
      "metadata": {
        "id": "eiMIUmKihz8x",
        "colab_type": "code",
        "colab": {}
      },
      "cell_type": "code",
      "source": [
        "class Fixed(Mortgage):\n",
        "  def __init__(self, loan, r, months):\n",
        "    Mortage.__init__(self, loan, r, months)\n",
        "    self.legend = 'Fixed, ' + str(round(r*100, 2)) + '%'\n",
        "class FixedWithPts(Mortgage):\n",
        "  def __init__(self, loan, r, months, pts):\n",
        "    Mortgage.__init__(self, loan, r, months)\n",
        "    self.pts = pts\n",
        "    self.paid = [loan*(pts/100)]\n",
        "    self.legend = 'Fixed, ' + str(round(r*100, 2)) + '%, ' + str(pts) + ' points '\n",
        "class TwoRate(Mortgage):\n",
        "  def __init__(self, loan, r, months, teaserRate, teaserMonths):\n",
        "    Mortgage.__init__(self, loan, teaserRate, months)\n",
        "    self.teaserMonths = teaserMonths\n",
        "    self.teaserRate = teaserRate\n",
        "    self.nextRate = r/12\n",
        "    self.legend = str(teaserRate*100)+'% for' + str(self.teaserMonths) + ' months, then ' + str(round(r*100, 2)) + '%'\n",
        "  def makePayment(self):\n",
        "    if len(self.paid)==self.teaserMonths + 1:\n",
        "      self.rate = self.nextRate\n",
        "      self.payment = findPayment(self.outstanding[-1], self.rate, self.months - self.teaserMonths)\n",
        "    Mortgage.makePayment(self)  \n",
        " "
      ],
      "execution_count": 0,
      "outputs": []
    },
    {
      "metadata": {
        "id": "FzD-F5tFoR1W",
        "colab_type": "code",
        "colab": {}
      },
      "cell_type": "code",
      "source": [
        "def compareMortgages(amt, years, fixedRate, pts, ptsRate, varRate1, varRate2, varMonths):\n",
        "  totMonths = years*12\n",
        "  fixed1 = Fixed(amt, fixedRate, totMonths)\n",
        "  fixed2 = FixedWithPtd(amt, ptsRate, totMonths, pts)\n",
        "  twoRate = TwoRate(amt, varRate2, totMonths, varRate1, varMonths)\n",
        "  morts = [fixed1, fixed2, twoRate]\n",
        "  for m in range(totMonths):\n",
        "    for mort in morts:\n",
        "      mort.makePayment()\n",
        "  for m in morts:\n",
        "    print(m)\n",
        "    print(' Total payments = $' + str(int(m.getTotalpaid())))\n",
        "    \n"
      ],
      "execution_count": 0,
      "outputs": []
    },
    {
      "metadata": {
        "id": "6Kijklactq2i",
        "colab_type": "code",
        "colab": {
          "base_uri": "https://localhost:8080/",
          "height": 406
        },
        "outputId": "7c772cc2-1678-4823-d3a5-83ac098a7c63"
      },
      "cell_type": "code",
      "source": [
        "compareMortgages(amt=200000, years=30, fixedRate=0.07, pts=3.25, ptsRate=0.05, varRate1=0.045, varRate2=0.095, varMonths=48)    "
      ],
      "execution_count": 18,
      "outputs": [
        {
          "output_type": "error",
          "ename": "NameError",
          "evalue": "ignored",
          "traceback": [
            "\u001b[0;31m---------------------------------------------------------------------------\u001b[0m",
            "\u001b[0;31mNameError\u001b[0m                                 Traceback (most recent call last)",
            "\u001b[0;32m<ipython-input-18-91df0e30e40f>\u001b[0m in \u001b[0;36m<module>\u001b[0;34m()\u001b[0m\n\u001b[0;32m----> 1\u001b[0;31m \u001b[0mcompareMortgages\u001b[0m\u001b[0;34m(\u001b[0m\u001b[0mamt\u001b[0m\u001b[0;34m=\u001b[0m\u001b[0;36m200000\u001b[0m\u001b[0;34m,\u001b[0m \u001b[0myears\u001b[0m\u001b[0;34m=\u001b[0m\u001b[0;36m30\u001b[0m\u001b[0;34m,\u001b[0m \u001b[0mfixedRate\u001b[0m\u001b[0;34m=\u001b[0m\u001b[0;36m0.07\u001b[0m\u001b[0;34m,\u001b[0m \u001b[0mpts\u001b[0m\u001b[0;34m=\u001b[0m\u001b[0;36m3.25\u001b[0m\u001b[0;34m,\u001b[0m \u001b[0mptsRate\u001b[0m\u001b[0;34m=\u001b[0m\u001b[0;36m0.05\u001b[0m\u001b[0;34m,\u001b[0m \u001b[0mvarRate1\u001b[0m\u001b[0;34m=\u001b[0m\u001b[0;36m0.045\u001b[0m\u001b[0;34m,\u001b[0m \u001b[0mvarRate2\u001b[0m\u001b[0;34m=\u001b[0m\u001b[0;36m0.095\u001b[0m\u001b[0;34m,\u001b[0m \u001b[0mvarMonths\u001b[0m\u001b[0;34m=\u001b[0m\u001b[0;36m48\u001b[0m\u001b[0;34m)\u001b[0m\u001b[0;34m\u001b[0m\u001b[0m\n\u001b[0m",
            "\u001b[0;32m<ipython-input-17-eb2e093f055d>\u001b[0m in \u001b[0;36mcompareMortgages\u001b[0;34m(amt, years, fixedRate, pts, ptsRate, varRate1, varRate2, varMonths)\u001b[0m\n\u001b[1;32m      1\u001b[0m \u001b[0;32mdef\u001b[0m \u001b[0mcompareMortgages\u001b[0m\u001b[0;34m(\u001b[0m\u001b[0mamt\u001b[0m\u001b[0;34m,\u001b[0m \u001b[0myears\u001b[0m\u001b[0;34m,\u001b[0m \u001b[0mfixedRate\u001b[0m\u001b[0;34m,\u001b[0m \u001b[0mpts\u001b[0m\u001b[0;34m,\u001b[0m \u001b[0mptsRate\u001b[0m\u001b[0;34m,\u001b[0m \u001b[0mvarRate1\u001b[0m\u001b[0;34m,\u001b[0m \u001b[0mvarRate2\u001b[0m\u001b[0;34m,\u001b[0m \u001b[0mvarMonths\u001b[0m\u001b[0;34m)\u001b[0m\u001b[0;34m:\u001b[0m\u001b[0;34m\u001b[0m\u001b[0m\n\u001b[1;32m      2\u001b[0m   \u001b[0mtotMonths\u001b[0m \u001b[0;34m=\u001b[0m \u001b[0myears\u001b[0m\u001b[0;34m*\u001b[0m\u001b[0;36m12\u001b[0m\u001b[0;34m\u001b[0m\u001b[0m\n\u001b[0;32m----> 3\u001b[0;31m   \u001b[0mfixed1\u001b[0m \u001b[0;34m=\u001b[0m \u001b[0mFixed\u001b[0m\u001b[0;34m(\u001b[0m\u001b[0mamt\u001b[0m\u001b[0;34m,\u001b[0m \u001b[0mfixedRate\u001b[0m\u001b[0;34m,\u001b[0m \u001b[0mtotMonths\u001b[0m\u001b[0;34m)\u001b[0m\u001b[0;34m\u001b[0m\u001b[0m\n\u001b[0m\u001b[1;32m      4\u001b[0m   \u001b[0mfixed2\u001b[0m \u001b[0;34m=\u001b[0m \u001b[0mFixedWithPtd\u001b[0m\u001b[0;34m(\u001b[0m\u001b[0mamt\u001b[0m\u001b[0;34m,\u001b[0m \u001b[0mptsRate\u001b[0m\u001b[0;34m,\u001b[0m \u001b[0mtotMonths\u001b[0m\u001b[0;34m,\u001b[0m \u001b[0mpts\u001b[0m\u001b[0;34m)\u001b[0m\u001b[0;34m\u001b[0m\u001b[0m\n\u001b[1;32m      5\u001b[0m   \u001b[0mtwoRate\u001b[0m \u001b[0;34m=\u001b[0m \u001b[0mTwoRate\u001b[0m\u001b[0;34m(\u001b[0m\u001b[0mamt\u001b[0m\u001b[0;34m,\u001b[0m \u001b[0mvarRate2\u001b[0m\u001b[0;34m,\u001b[0m \u001b[0mtotMonths\u001b[0m\u001b[0;34m,\u001b[0m \u001b[0mvarRate1\u001b[0m\u001b[0;34m,\u001b[0m \u001b[0mvarMonths\u001b[0m\u001b[0;34m)\u001b[0m\u001b[0;34m\u001b[0m\u001b[0m\n",
            "\u001b[0;32m<ipython-input-14-5ed9ea58c19c>\u001b[0m in \u001b[0;36m__init__\u001b[0;34m(self, loan, r, months)\u001b[0m\n\u001b[1;32m      1\u001b[0m \u001b[0;32mclass\u001b[0m \u001b[0mFixed\u001b[0m\u001b[0;34m(\u001b[0m\u001b[0mMortgage\u001b[0m\u001b[0;34m)\u001b[0m\u001b[0;34m:\u001b[0m\u001b[0;34m\u001b[0m\u001b[0m\n\u001b[1;32m      2\u001b[0m   \u001b[0;32mdef\u001b[0m \u001b[0m__init__\u001b[0m\u001b[0;34m(\u001b[0m\u001b[0mself\u001b[0m\u001b[0;34m,\u001b[0m \u001b[0mloan\u001b[0m\u001b[0;34m,\u001b[0m \u001b[0mr\u001b[0m\u001b[0;34m,\u001b[0m \u001b[0mmonths\u001b[0m\u001b[0;34m)\u001b[0m\u001b[0;34m:\u001b[0m\u001b[0;34m\u001b[0m\u001b[0m\n\u001b[0;32m----> 3\u001b[0;31m     \u001b[0mMortage\u001b[0m\u001b[0;34m.\u001b[0m\u001b[0m__init__\u001b[0m\u001b[0;34m(\u001b[0m\u001b[0mself\u001b[0m\u001b[0;34m,\u001b[0m \u001b[0mloan\u001b[0m\u001b[0;34m,\u001b[0m \u001b[0mr\u001b[0m\u001b[0;34m,\u001b[0m \u001b[0mmonths\u001b[0m\u001b[0;34m)\u001b[0m\u001b[0;34m\u001b[0m\u001b[0m\n\u001b[0m\u001b[1;32m      4\u001b[0m     \u001b[0mself\u001b[0m\u001b[0;34m.\u001b[0m\u001b[0mlegend\u001b[0m \u001b[0;34m=\u001b[0m \u001b[0;34m'Fixed, '\u001b[0m \u001b[0;34m+\u001b[0m \u001b[0mstr\u001b[0m\u001b[0;34m(\u001b[0m\u001b[0mround\u001b[0m\u001b[0;34m(\u001b[0m\u001b[0mr\u001b[0m\u001b[0;34m*\u001b[0m\u001b[0;36m100\u001b[0m\u001b[0;34m,\u001b[0m \u001b[0;36m2\u001b[0m\u001b[0;34m)\u001b[0m\u001b[0;34m)\u001b[0m \u001b[0;34m+\u001b[0m \u001b[0;34m'%'\u001b[0m\u001b[0;34m\u001b[0m\u001b[0m\n\u001b[1;32m      5\u001b[0m \u001b[0;32mclass\u001b[0m \u001b[0mFixedWithPts\u001b[0m\u001b[0;34m(\u001b[0m\u001b[0mMortgage\u001b[0m\u001b[0;34m)\u001b[0m\u001b[0;34m:\u001b[0m\u001b[0;34m\u001b[0m\u001b[0m\n",
            "\u001b[0;31mNameError\u001b[0m: name 'Mortage' is not defined"
          ]
        }
      ]
    }
  ]
}