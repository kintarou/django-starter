{
  "nbformat": 4,
  "nbformat_minor": 0,
  "metadata": {
    "colab": {
      "name": "RandomWalk.ipynb",
      "version": "0.3.2",
      "provenance": []
    },
    "kernelspec": {
      "name": "python3",
      "display_name": "Python 3"
    },
    "accelerator": "GPU"
  },
  "cells": [
    {
      "cell_type": "markdown",
      "metadata": {
        "id": "view-in-github",
        "colab_type": "text"
      },
      "source": [
        "[View in Colaboratory](https://colab.research.google.com/github/kintarou/django-starter/blob/master/RandomWalk.ipynb)"
      ]
    },
    {
      "metadata": {
        "id": "oGIbWNoAYxnB",
        "colab_type": "code",
        "colab": {}
      },
      "cell_type": "code",
      "source": [
        "class Location(object):\n",
        "  def __init__(self, x, y):\n",
        "    self.x, self.y = x, y\n",
        "  def move(self, deltaX, deltaY):\n",
        "    return Location(self.x + deltaX, self.y + deltaY)\n",
        "  def getX(self):\n",
        "    return self.x\n",
        "  def getY(self):\n",
        "    return self.y\n",
        "  def distFrom(self, other):\n",
        "    ox, oy = other.x, other.y\n",
        "    xDist, yDist = self.x - ox, self.y - oy\n",
        "    return(xDist**2 + yDist**2)**0.5\n",
        "  def __str__(self):\n",
        "    return '<' + str(self.x) + ', ' + str(self.y) + '>'\n",
        "  \n",
        "class Field(object):\n",
        "  def __init__(self):\n",
        "    self.drunks = {}\n",
        "  def addDrunk(self, drunk, loc):\n",
        "    if drunk in self.drunks:\n",
        "      raise ValueError('Duplicate drunk')\n",
        "    else:\n",
        "      self.drunks[drunk] = loc\n",
        "  def moveDrunk(self, drunk):\n",
        "    if drunk not in self.drunks:\n",
        "      raise ValueError('Drunk not in field')\n",
        "    xDist, yDist = drunk.takeStep()\n",
        "    currentLocation = self.drunks[drunk]\n",
        "    self.drunks[drunk] = currentLocation.move(xDist, yDist)\n",
        "  def getLoc(self, drunk):\n",
        "    if drunk not in self.drunks:\n",
        "      raise ValueError('Drunk not in field')\n",
        "    return self.drunks[drunk]  "
      ],
      "execution_count": 0,
      "outputs": []
    },
    {
      "metadata": {
        "id": "KE7MTZEhb_Fg",
        "colab_type": "code",
        "colab": {}
      },
      "cell_type": "code",
      "source": [
        "import random\n",
        "\n",
        "class Drunk(object):\n",
        "  def __init__(self, name = None):\n",
        "    self.name = name\n",
        "  def __str__(self):\n",
        "    if self != None:\n",
        "      return self.name\n",
        "    return 'Anonymous'\n",
        "  \n",
        "class UsualDrunk(Drunk):\n",
        "  def takeStep(self):\n",
        "    stepChoices = [(0,1),(0,-1),(1,0),(-1,0)]\n",
        "    return random.choice(stepChoices)\n",
        "    return random.choice(stepChoices)"
      ],
      "execution_count": 0,
      "outputs": []
    },
    {
      "metadata": {
        "id": "gb9p9MNtdGmK",
        "colab_type": "code",
        "colab": {}
      },
      "cell_type": "code",
      "source": [
        "def walk(f, d, numSteps):\n",
        "  start = f.getLoc(d)\n",
        "  for i in range(numSteps):\n",
        "    f.moveDrunk(d)\n",
        "  return start.distFrom(f.getLoc(d))\n",
        "\n",
        "def simWalks(numSteps, numTrials, dClass):\n",
        "  Homer = dClass()\n",
        "  origin = Location(0,0)\n",
        "  distances = []\n",
        "  for t in range(numTrials):\n",
        "    f = Field()\n",
        "    f.addDrunk(Homer, origin)\n",
        "    distances.append(round(walk(f, Homer, numSteps), 1))\n",
        "  return distances\n",
        "\n",
        "def drunkTest(walkLengths, numTrials, dClass):\n",
        "  for numSteps in walkLengths:\n",
        "    distances = simWalks(numSteps, numTrials, dClass)\n",
        "    print(dClass.__name__, 'random of', numSteps, 'steps')\n",
        "    print(' Mean =', round(sum(distances)/len(distances), 4))\n",
        "    print(' Max =', max(distances), 'Min =', min(distances))"
      ],
      "execution_count": 0,
      "outputs": []
    },
    {
      "metadata": {
        "id": "rxJfCuTAfM33",
        "colab_type": "code",
        "colab": {
          "base_uri": "https://localhost:8080/",
          "height": 221
        },
        "outputId": "753ffff6-1bdf-43e1-ea60-1c88d3e1193c"
      },
      "cell_type": "code",
      "source": [
        "drunkTest((10, 100, 1000, 10000), 100, UsualDrunk)"
      ],
      "execution_count": 7,
      "outputs": [
        {
          "output_type": "stream",
          "text": [
            "UsualDrunk random of 10 steps\n",
            " Mean = 2.814\n",
            " Max = 7.1 Min = 0.0\n",
            "UsualDrunk random of 100 steps\n",
            " Mean = 8.389\n",
            " Max = 20.2 Min = 1.4\n",
            "UsualDrunk random of 1000 steps\n",
            " Mean = 27.015\n",
            " Max = 73.7 Min = 0.0\n",
            "UsualDrunk random of 10000 steps\n",
            " Mean = 91.018\n",
            " Max = 226.0 Min = 11.4\n"
          ],
          "name": "stdout"
        }
      ]
    }
  ]
}