{
  "nbformat": 4,
  "nbformat_minor": 0,
  "metadata": {
    "colab": {
      "name": "LogisticRegression_on_iris_dataset.ipynb",
      "version": "0.3.2",
      "provenance": [],
      "include_colab_link": true
    },
    "kernelspec": {
      "name": "python3",
      "display_name": "Python 3"
    }
  },
  "cells": [
    {
      "cell_type": "markdown",
      "metadata": {
        "id": "view-in-github",
        "colab_type": "text"
      },
      "source": [
        "[View in Colaboratory](https://colab.research.google.com/github/kintarou/django-starter/blob/master/LogisticRegression_on_iris_dataset.ipynb)"
      ]
    },
    {
      "metadata": {
        "id": "73b0j7AojvmE",
        "colab_type": "code",
        "colab": {
          "base_uri": "https://localhost:8080/",
          "height": 34
        },
        "outputId": "a873fee9-2dbf-43dd-8e11-402415e9500b"
      },
      "cell_type": "code",
      "source": [
        "import numpy as np\n",
        "import cv2\n",
        "\n",
        "from sklearn import datasets\n",
        "from sklearn import model_selection\n",
        "from sklearn import metrics\n",
        "\n",
        "import matplotlib.pyplot as plt\n",
        "%matplotlib inline\n",
        "plt.style.use('ggplot')\n",
        "iris = datasets.load_iris()\n",
        "\n",
        "dir(iris)"
      ],
      "execution_count": 16,
      "outputs": [
        {
          "output_type": "execute_result",
          "data": {
            "text/plain": [
              "['DESCR', 'data', 'feature_names', 'target', 'target_names']"
            ]
          },
          "metadata": {
            "tags": []
          },
          "execution_count": 16
        }
      ]
    },
    {
      "metadata": {
        "id": "86_YaiyooFxf",
        "colab_type": "code",
        "colab": {
          "base_uri": "https://localhost:8080/",
          "height": 87
        },
        "outputId": "e26fd5cd-a3a2-47b2-ed1c-b4bc3a689f38"
      },
      "cell_type": "code",
      "source": [
        "\n",
        "iris.feature_names"
      ],
      "execution_count": 17,
      "outputs": [
        {
          "output_type": "execute_result",
          "data": {
            "text/plain": [
              "['sepal length (cm)',\n",
              " 'sepal width (cm)',\n",
              " 'petal length (cm)',\n",
              " 'petal width (cm)']"
            ]
          },
          "metadata": {
            "tags": []
          },
          "execution_count": 17
        }
      ]
    },
    {
      "metadata": {
        "id": "LCGotFHeoHRW",
        "colab_type": "code",
        "colab": {
          "base_uri": "https://localhost:8080/",
          "height": 34
        },
        "outputId": "1b06a2df-e30f-40bd-aa72-4d8bb173e566"
      },
      "cell_type": "code",
      "source": [
        "np.unique(iris.target)"
      ],
      "execution_count": 18,
      "outputs": [
        {
          "output_type": "execute_result",
          "data": {
            "text/plain": [
              "array([0, 1, 2])"
            ]
          },
          "metadata": {
            "tags": []
          },
          "execution_count": 18
        }
      ]
    },
    {
      "metadata": {
        "id": "4tkwOVSioUQ3",
        "colab_type": "code",
        "colab": {}
      },
      "cell_type": "code",
      "source": [
        "idx = iris.target != 2\n",
        "data = iris.data[idx].astype(np.float32)\n",
        "target = iris.target[idx].astype(np.float32)"
      ],
      "execution_count": 0,
      "outputs": []
    },
    {
      "metadata": {
        "id": "GSQcf-lGobwR",
        "colab_type": "code",
        "colab": {
          "base_uri": "https://localhost:8080/",
          "height": 390
        },
        "outputId": "781b6cf4-8b7c-45dc-bef6-afe84b1236bf"
      },
      "cell_type": "code",
      "source": [
        "plt.figure(figsize=(10, 6))\n",
        "plt.scatter(data[:, 0], data[:, 1], c=target, cmap=plt.cm.Paired, s=100)\n",
        "plt.xlabel(iris.feature_names[0])\n",
        "plt.ylabel(iris.feature_names[1]);"
      ],
      "execution_count": 20,
      "outputs": [
        {
          "output_type": "display_data",
          "data": {
            "image/png": "[encoded data removed]",
            "text/plain": [
              "<matplotlib.figure.Figure at 0x7fa95ae0af98>"
            ]
          },
          "metadata": {
            "tags": []
          }
        }
      ]
    },
    {
      "metadata": {
        "id": "TjBfNVCUyECE",
        "colab_type": "code",
        "colab": {}
      },
      "cell_type": "code",
      "source": [
        "X_train, X_test, y_train, y_test = model_selection.train_test_split(\n",
        "    data, target, test_size=0.1, random_state=42\n",
        ")"
      ],
      "execution_count": 0,
      "outputs": []
    },
    {
      "metadata": {
        "id": "hCnh7OUwyHpK",
        "colab_type": "code",
        "colab": {
          "base_uri": "https://localhost:8080/",
          "height": 34
        },
        "outputId": "b97e2997-56ed-4d58-becf-1d25c5fbfeec"
      },
      "cell_type": "code",
      "source": [
        "lr = cv2.ml.LogisticRegression_create()\n",
        "lr.setTrainMethod(cv2.ml.LogisticRegression_MINI_BATCH)\n",
        "lr.setMiniBatchSize(1)\n",
        "\n",
        "lr.setIterations(100)\n",
        "\n",
        "lr.train(X_train, cv2.ml.ROW_SAMPLE, y_train)"
      ],
      "execution_count": 22,
      "outputs": [
        {
          "output_type": "execute_result",
          "data": {
            "text/plain": [
              "True"
            ]
          },
          "metadata": {
            "tags": []
          },
          "execution_count": 22
        }
      ]
    },
    {
      "metadata": {
        "id": "rpuZesXRylCx",
        "colab_type": "code",
        "colab": {
          "base_uri": "https://localhost:8080/",
          "height": 52
        },
        "outputId": "af1f5e00-dbdd-421b-df4a-5e0f3e9f7a31"
      },
      "cell_type": "code",
      "source": [
        "\n",
        "lr.get_learnt_thetas()"
      ],
      "execution_count": 23,
      "outputs": [
        {
          "output_type": "execute_result",
          "data": {
            "text/plain": [
              "array([[-0.04109113, -0.01968079, -0.16216496,  0.2870491 ,  0.1194552 ]],\n",
              "      dtype=float32)"
            ]
          },
          "metadata": {
            "tags": []
          },
          "execution_count": 23
        }
      ]
    },
    {
      "metadata": {
        "id": "heYuScucymwC",
        "colab_type": "code",
        "colab": {
          "base_uri": "https://localhost:8080/",
          "height": 34
        },
        "outputId": "8af5f8d5-ce31-4b7e-eb10-4a906194c2b2"
      },
      "cell_type": "code",
      "source": [
        "ret, y_pred = lr.predict(X_train)\n",
        "metrics.accuracy_score(y_train, y_pred)"
      ],
      "execution_count": 24,
      "outputs": [
        {
          "output_type": "execute_result",
          "data": {
            "text/plain": [
              "1.0"
            ]
          },
          "metadata": {
            "tags": []
          },
          "execution_count": 24
        }
      ]
    },
    {
      "metadata": {
        "id": "bpJEqo3KyvFc",
        "colab_type": "code",
        "colab": {
          "base_uri": "https://localhost:8080/",
          "height": 34
        },
        "outputId": "3b1ff1b6-d921-47fe-b291-1619e915f5bf"
      },
      "cell_type": "code",
      "source": [
        "ret, y_pred = lr.predict(X_test)\n",
        "metrics.accuracy_score(y_test, y_pred)"
      ],
      "execution_count": 25,
      "outputs": [
        {
          "output_type": "execute_result",
          "data": {
            "text/plain": [
              "1.0"
            ]
          },
          "metadata": {
            "tags": []
          },
          "execution_count": 25
        }
      ]
    },
    {
      "metadata": {
        "id": "EvPlIrtM9SnY",
        "colab_type": "code",
        "colab": {
          "base_uri": "https://localhost:8080/",
          "height": 70
        },
        "outputId": "38bada5f-76db-4c64-f69b-4c8c10dc79ae"
      },
      "cell_type": "code",
      "source": [
        "from sklearn import preprocessing\n",
        "import numpy as np\n",
        "X = np.array([[ 1., -2.,  2.],\n",
        "              [ 3.,  0.,  0.],\n",
        "              [ 0.,  1., -1.]])\n",
        "X_scaled = preprocessing.scale(X)\n",
        "X_scaled"
      ],
      "execution_count": 26,
      "outputs": [
        {
          "output_type": "execute_result",
          "data": {
            "text/plain": [
              "array([[-0.26726124, -1.33630621,  1.33630621],\n",
              "       [ 1.33630621,  0.26726124, -0.26726124],\n",
              "       [-1.06904497,  1.06904497, -1.06904497]])"
            ]
          },
          "metadata": {
            "tags": []
          },
          "execution_count": 26
        }
      ]
    },
    {
      "metadata": {
        "id": "fumrc3Vb9ejM",
        "colab_type": "code",
        "colab": {
          "base_uri": "https://localhost:8080/",
          "height": 34
        },
        "outputId": "57ae5ee1-af4d-40fd-d01f-2ba8b9d79bc9"
      },
      "cell_type": "code",
      "source": [
        "X_scaled.mean(axis=0)"
      ],
      "execution_count": 27,
      "outputs": [
        {
          "output_type": "execute_result",
          "data": {
            "text/plain": [
              "array([7.40148683e-17, 0.00000000e+00, 0.00000000e+00])"
            ]
          },
          "metadata": {
            "tags": []
          },
          "execution_count": 27
        }
      ]
    },
    {
      "metadata": {
        "id": "eYlQi9vz9k7G",
        "colab_type": "code",
        "colab": {
          "base_uri": "https://localhost:8080/",
          "height": 34
        },
        "outputId": "14a59fcd-08bb-4a7f-8ccb-32b1caaff32b"
      },
      "cell_type": "code",
      "source": [
        "X_scaled.std(axis=0)"
      ],
      "execution_count": 28,
      "outputs": [
        {
          "output_type": "execute_result",
          "data": {
            "text/plain": [
              "array([1., 1., 1.])"
            ]
          },
          "metadata": {
            "tags": []
          },
          "execution_count": 28
        }
      ]
    },
    {
      "metadata": {
        "id": "lizNMNKyAf3Z",
        "colab_type": "code",
        "colab": {
          "base_uri": "https://localhost:8080/",
          "height": 70
        },
        "outputId": "8b56d58c-9f51-4483-d45e-9e77a2bc0fa7"
      },
      "cell_type": "code",
      "source": [
        "X_normalized_l1 = preprocessing.normalize(X, norm='l1')\n",
        "X_normalized_l1"
      ],
      "execution_count": 29,
      "outputs": [
        {
          "output_type": "execute_result",
          "data": {
            "text/plain": [
              "array([[ 0.2, -0.4,  0.4],\n",
              "       [ 1. ,  0. ,  0. ],\n",
              "       [ 0. ,  0.5, -0.5]])"
            ]
          },
          "metadata": {
            "tags": []
          },
          "execution_count": 29
        }
      ]
    },
    {
      "metadata": {
        "id": "yNPtQlpoAitw",
        "colab_type": "code",
        "colab": {
          "base_uri": "https://localhost:8080/",
          "height": 70
        },
        "outputId": "089ca832-5123-4b5f-994f-34bbcd2f625b"
      },
      "cell_type": "code",
      "source": [
        "X_normalized_l2 = preprocessing.normalize(X, norm='l2')\n",
        "X_normalized_l2"
      ],
      "execution_count": 30,
      "outputs": [
        {
          "output_type": "execute_result",
          "data": {
            "text/plain": [
              "array([[ 0.33333333, -0.66666667,  0.66666667],\n",
              "       [ 1.        ,  0.        ,  0.        ],\n",
              "       [ 0.        ,  0.70710678, -0.70710678]])"
            ]
          },
          "metadata": {
            "tags": []
          },
          "execution_count": 30
        }
      ]
    },
    {
      "metadata": {
        "id": "xy_BAlV_h8Bg",
        "colab_type": "code",
        "colab": {
          "base_uri": "https://localhost:8080/",
          "height": 70
        },
        "outputId": "6203320f-7f50-4261-fe91-1ffd1717cbd2"
      },
      "cell_type": "code",
      "source": [
        "min_max_scaler = preprocessing.MinMaxScaler(feature_range=(-10, 10))\n",
        "X_min_max2 = min_max_scaler.fit_transform(X)\n",
        "X_min_max2"
      ],
      "execution_count": 31,
      "outputs": [
        {
          "output_type": "execute_result",
          "data": {
            "text/plain": [
              "array([[ -3.33333333, -10.        ,  10.        ],\n",
              "       [ 10.        ,   3.33333333,  -3.33333333],\n",
              "       [-10.        ,  10.        , -10.        ]])"
            ]
          },
          "metadata": {
            "tags": []
          },
          "execution_count": 31
        }
      ]
    },
    {
      "metadata": {
        "id": "zWuILfZCiCGU",
        "colab_type": "code",
        "colab": {
          "base_uri": "https://localhost:8080/",
          "height": 70
        },
        "outputId": "83fd1045-a1ab-4ddd-89c0-b92f0c88e81a"
      },
      "cell_type": "code",
      "source": [
        "X"
      ],
      "execution_count": 32,
      "outputs": [
        {
          "output_type": "execute_result",
          "data": {
            "text/plain": [
              "array([[ 1., -2.,  2.],\n",
              "       [ 3.,  0.,  0.],\n",
              "       [ 0.,  1., -1.]])"
            ]
          },
          "metadata": {
            "tags": []
          },
          "execution_count": 32
        }
      ]
    },
    {
      "metadata": {
        "id": "oaqE8IZ2i8MA",
        "colab_type": "code",
        "colab": {
          "base_uri": "https://localhost:8080/",
          "height": 70
        },
        "outputId": "0e1cccd2-da1d-4e69-ded8-a9519e62388e"
      },
      "cell_type": "code",
      "source": [
        "binarizer = preprocessing.Binarizer(threshold=0.5)\n",
        "X_binarized = binarizer.transform(X)\n",
        "X_binarized"
      ],
      "execution_count": 33,
      "outputs": [
        {
          "output_type": "execute_result",
          "data": {
            "text/plain": [
              "array([[1., 0., 1.],\n",
              "       [1., 0., 0.],\n",
              "       [0., 1., 0.]])"
            ]
          },
          "metadata": {
            "tags": []
          },
          "execution_count": 33
        }
      ]
    },
    {
      "metadata": {
        "id": "xWB5WWTJi96I",
        "colab_type": "code",
        "colab": {}
      },
      "cell_type": "code",
      "source": [
        "from numpy import nan\n",
        "X = np.array([[ nan, 0,   3  ],\n",
        "              [ 2,   9,  -8  ],\n",
        "              [ 1,   nan, 1  ],\n",
        "              [ 5,   2,   4  ],\n",
        "              [ 7,   6,  -3  ]])"
      ],
      "execution_count": 0,
      "outputs": []
    },
    {
      "metadata": {
        "id": "pjEhhTJDjJBr",
        "colab_type": "code",
        "colab": {
          "base_uri": "https://localhost:8080/",
          "height": 105
        },
        "outputId": "745bae9d-f8c5-4eb4-f231-d58f58d9e55b"
      },
      "cell_type": "code",
      "source": [
        "from sklearn.preprocessing import Imputer\n",
        "imp = Imputer(strategy='mean')\n",
        "X2 = imp.fit_transform(X)\n",
        "X2"
      ],
      "execution_count": 35,
      "outputs": [
        {
          "output_type": "execute_result",
          "data": {
            "text/plain": [
              "array([[ 3.75,  0.  ,  3.  ],\n",
              "       [ 2.  ,  9.  , -8.  ],\n",
              "       [ 1.  ,  4.25,  1.  ],\n",
              "       [ 5.  ,  2.  ,  4.  ],\n",
              "       [ 7.  ,  6.  , -3.  ]])"
            ]
          },
          "metadata": {
            "tags": []
          },
          "execution_count": 35
        }
      ]
    },
    {
      "metadata": {
        "id": "ZoTHaoSTjQvP",
        "colab_type": "code",
        "colab": {
          "base_uri": "https://localhost:8080/",
          "height": 34
        },
        "outputId": "3c4a55ae-0dde-4003-f075-5b08f4a80fe2"
      },
      "cell_type": "code",
      "source": [
        "np.mean(X[1:, 0]), X2[0, 0]"
      ],
      "execution_count": 37,
      "outputs": [
        {
          "output_type": "execute_result",
          "data": {
            "text/plain": [
              "(3.75, 3.75)"
            ]
          },
          "metadata": {
            "tags": []
          },
          "execution_count": 37
        }
      ]
    },
    {
      "metadata": {
        "id": "_aliNQqEjWHm",
        "colab_type": "code",
        "colab": {
          "base_uri": "https://localhost:8080/",
          "height": 105
        },
        "outputId": "fdd68885-1b21-4fa1-cbb3-3e566e76e276"
      },
      "cell_type": "code",
      "source": [
        "imp = Imputer(strategy='median')\n",
        "X3 = imp.fit_transform(X)\n",
        "X3"
      ],
      "execution_count": 38,
      "outputs": [
        {
          "output_type": "execute_result",
          "data": {
            "text/plain": [
              "array([[ 3.5,  0. ,  3. ],\n",
              "       [ 2. ,  9. , -8. ],\n",
              "       [ 1. ,  4. ,  1. ],\n",
              "       [ 5. ,  2. ,  4. ],\n",
              "       [ 7. ,  6. , -3. ]])"
            ]
          },
          "metadata": {
            "tags": []
          },
          "execution_count": 38
        }
      ]
    },
    {
      "metadata": {
        "id": "3DQPCouUjZ5g",
        "colab_type": "code",
        "colab": {
          "base_uri": "https://localhost:8080/",
          "height": 34
        },
        "outputId": "c38131f8-dd51-4d56-aab0-b3672828300b"
      },
      "cell_type": "code",
      "source": [
        "\n",
        "np.median(X[1:, 0]), X3[0, 0]"
      ],
      "execution_count": 39,
      "outputs": [
        {
          "output_type": "execute_result",
          "data": {
            "text/plain": [
              "(3.5, 3.5)"
            ]
          },
          "metadata": {
            "tags": []
          },
          "execution_count": 39
        }
      ]
    }
  ]
}