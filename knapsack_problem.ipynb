{
  "nbformat": 4,
  "nbformat_minor": 0,
  "metadata": {
    "colab": {
      "name": "knapsack problem.ipynb",
      "version": "0.3.2",
      "provenance": []
    },
    "kernelspec": {
      "name": "python3",
      "display_name": "Python 3"
    }
  },
  "cells": [
    {
      "cell_type": "markdown",
      "metadata": {
        "id": "view-in-github",
        "colab_type": "text"
      },
      "source": [
        "[View in Colaboratory](https://colab.research.google.com/github/kintarou/django-starter/blob/master/knapsack_problem.ipynb)"
      ]
    },
    {
      "metadata": {
        "id": "VFF4AuKh_85U",
        "colab_type": "code",
        "colab": {}
      },
      "cell_type": "code",
      "source": [
        "class Item(object):\n",
        "  def __init__(self, n, v, w):\n",
        "    self.name = n\n",
        "    self.value = v\n",
        "    self.weight = w\n",
        "  def getName(self):\n",
        "    return self.name\n",
        "  def getValue(self):\n",
        "    return self.value\n",
        "  def getWeight(self):\n",
        "    return self.weight\n",
        "  def __str__(self):\n",
        "    result = '<' + self.name + ', ' + str(self.value) + ', ' + str(self.weight) + '>'\n",
        "    return result\n",
        "  \n",
        "def value(item):\n",
        "  return item.getValue()\n",
        "def weightInverse(item):\n",
        "  return 1.0/item.getWeight()\n",
        "def density(item):\n",
        "  return item.getValue()/item.getWeight()"
      ],
      "execution_count": 0,
      "outputs": []
    },
    {
      "metadata": {
        "id": "oEADtVJ_Pg9M",
        "colab_type": "code",
        "colab": {}
      },
      "cell_type": "code",
      "source": [
        "def greedy(item, maxWeight, keyFunction):\n",
        "  itemsCopy = sorted(items, key=keyFunction, reverse=True)\n",
        "  result = []\n",
        "  totalValue = 0.0\n",
        "  totalWeight = 0.0\n",
        "  for i in range(len(itemsCopy)):\n",
        "    if (totalWeight + itemsCopy[i].getWeight()) <= maxWeight:\n",
        "      result.append(itemsCopy[i])\n",
        "      totalWeight += itemsCopy[i].getWeight()\n",
        "      totalValue += itemsCopy[i].getValue()\n",
        "  return (result, totalValue)    "
      ],
      "execution_count": 0,
      "outputs": []
    },
    {
      "metadata": {
        "id": "fnrxvLccWndL",
        "colab_type": "code",
        "colab": {}
      },
      "cell_type": "code",
      "source": [
        "def buildItems():\n",
        "  names = ['clock','painting','radio','vase','book','computer']\n",
        "  values = [175,90,20,50,10,200]\n",
        "  weights = [10,9,4,2,1,20]\n",
        "  Items = []\n",
        "  for i in range(len(values)):\n",
        "    Items.append(Item(names[i], values[i], weights[i]))\n",
        "  return Items\n",
        "\n",
        "def testGreedy(items, maxWeight, keyFunction):\n",
        "  taken, val = greedy(items, maxWeight, keyFunction)\n",
        "  print('Total value of items taken is', val)\n",
        "  for item in taken:\n",
        "    print(' ', item)\n",
        "    \n",
        "def testGreedys(maxWeight = 20):\n",
        "  items = buildItems()\n",
        "  print('Use greedy by weight to fill knapsack of size', maxWeight)\n",
        "  testGreedy(items, maxWeight, weightInverse)\n",
        "  print('Use greedy by density to fill knapsack of size', maxWeight)\n",
        "  testGreedy(items, maxWeight, density)"
      ],
      "execution_count": 0,
      "outputs": []
    }
  ]
}