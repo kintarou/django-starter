{
  "nbformat": 4,
  "nbformat_minor": 0,
  "metadata": {
    "colab": {
      "name": "180131-logistic-regression.ipynb",
      "version": "0.3.2",
      "provenance": [],
      "collapsed_sections": [],
      "include_colab_link": true
    },
    "kernelspec": {
      "name": "python3",
      "display_name": "Python 3"
    },
    "accelerator": "GPU"
  },
  "cells": [
    {
      "cell_type": "markdown",
      "metadata": {
        "id": "view-in-github",
        "colab_type": "text"
      },
      "source": [
        "[View in Colaboratory](https://colab.research.google.com/github/kintarou/django-starter/blob/master/180131_logistic_regression.ipynb)"
      ]
    },
    {
      "metadata": {
        "id": "kyABS9jU7TZV",
        "colab_type": "text"
      },
      "cell_type": "markdown",
      "source": [
        "# Logistic Regression"
      ]
    },
    {
      "metadata": {
        "id": "CaZfp10V6_5R",
        "colab_type": "code",
        "colab": {
          "base_uri": "https://localhost:8080/",
          "height": 123
        },
        "outputId": "21feb834-71d2-45e5-b422-5f1861caef50"
      },
      "cell_type": "code",
      "source": [
        "!pip install torch torchvision"
      ],
      "execution_count": 1,
      "outputs": [
        {
          "output_type": "stream",
          "text": [
            "Requirement already satisfied: torch in /usr/local/lib/python3.6/dist-packages (0.4.0)\r\n",
            "Requirement already satisfied: torchvision in /usr/local/lib/python3.6/dist-packages (0.2.1)\r\n",
            "Requirement already satisfied: pillow>=4.1.1 in /usr/local/lib/python3.6/dist-packages (from torchvision) (4.1.1)\r\n",
            "Requirement already satisfied: numpy in /usr/local/lib/python3.6/dist-packages (from torchvision) (1.14.5)\r\n",
            "Requirement already satisfied: six in /usr/local/lib/python3.6/dist-packages (from torchvision) (1.11.0)\r\n",
            "Requirement already satisfied: olefile in /usr/local/lib/python3.6/dist-packages (from pillow>=4.1.1->torchvision) (0.45.1)\r\n"
          ],
          "name": "stdout"
        }
      ]
    },
    {
      "metadata": {
        "id": "GeWC_UqQ7azS",
        "colab_type": "text"
      },
      "cell_type": "markdown",
      "source": [
        "## Iris Dataset"
      ]
    },
    {
      "metadata": {
        "id": "HvLM4RsK7byB",
        "colab_type": "code",
        "colab": {
          "base_uri": "https://localhost:8080/",
          "height": 16
        },
        "outputId": "cbe0169e-8624-4bd8-f139-318ae3596696"
      },
      "cell_type": "code",
      "source": [
        "import torch\n",
        "import torch.nn as nn\n",
        "import numpy as np\n",
        "import matplotlib.pyplot as plt\n",
        "from sklearn.datasets import load_iris\n",
        "from sklearn.model_selection import train_test_split\n",
        "from sklearn.preprocessing import StandardScaler"
      ],
      "execution_count": 2,
      "outputs": []
    },
    {
      "metadata": {
        "id": "PP2Ng7l37pWI",
        "colab_type": "text"
      },
      "cell_type": "markdown",
      "source": [
        "* LogisticRegressionはlogitsを返してsoftmaxを通さないので注意\n",
        "* loss関数のほうにsoftmaxが入る\n",
        "* なので見た目はLinearRegressionとまったく同じ\n",
        "* 入力は FloatTensor ラベルは LongTensor である必要がある\n",
        "* TODO: DataSetとDataLoaderを使って書き直す\n",
        "* Validで精度を求める"
      ]
    },
    {
      "metadata": {
        "id": "ILEnpSVc7dCj",
        "colab_type": "code",
        "colab": {
          "base_uri": "https://localhost:8080/",
          "height": 16
        },
        "outputId": "c68a9f5e-909b-440f-a283-cbd4f20eb9ae"
      },
      "cell_type": "code",
      "source": [
        "# hyperparameters\n",
        "input_size = 4\n",
        "num_classes = 3\n",
        "num_epochs = 10000\n",
        "learning_rate = 0.01\n",
        "\n",
        "iris = load_iris()\n",
        "X = iris.data\n",
        "y = iris.target\n",
        "\n",
        "X_train, X_test, y_train, y_test = train_test_split(X, y, test_size=0.33, random_state=5)\n",
        "\n",
        "# データの標準化\n",
        "scaler = StandardScaler()\n",
        "X_train = scaler.fit_transform(X_train)\n",
        "X_test = scaler.transform(X_test)"
      ],
      "execution_count": 3,
      "outputs": []
    },
    {
      "metadata": {
        "id": "svbioszu8P1e",
        "colab_type": "code",
        "colab": {
          "base_uri": "https://localhost:8080/",
          "height": 16
        },
        "outputId": "0f40bca3-7ca5-4e88-d6cd-3d5bd01a8cb4"
      },
      "cell_type": "code",
      "source": [
        "class LogisticRegression(nn.Module):\n",
        "    def __init__(self, input_size, num_classes):\n",
        "        super(LogisticRegression, self).__init__()\n",
        "        self.linear = nn.Linear(input_size, num_classes)\n",
        "    \n",
        "    def forward(self, x):\n",
        "        out = self.linear(x)\n",
        "        return out\n",
        "\n",
        "model = LogisticRegression(input_size, num_classes)\n",
        "\n",
        "criterion = nn.CrossEntropyLoss()\n",
        "optimizer = torch.optim.SGD(model.parameters(), lr=learning_rate)"
      ],
      "execution_count": 4,
      "outputs": []
    },
    {
      "metadata": {
        "id": "Bw1PS_Xy8S8u",
        "colab_type": "code",
        "colab": {
          "base_uri": "https://localhost:8080/",
          "height": 70
        },
        "outputId": "8e88b640-5392-4a43-bd47-8301f53cb716"
      },
      "cell_type": "code",
      "source": [
        "model"
      ],
      "execution_count": 5,
      "outputs": [
        {
          "output_type": "execute_result",
          "data": {
            "text/plain": [
              "LogisticRegression(\n",
              "  (linear): Linear(in_features=4, out_features=3, bias=True)\n",
              ")"
            ]
          },
          "metadata": {
            "tags": []
          },
          "execution_count": 5
        }
      ]
    },
    {
      "metadata": {
        "id": "F3zdcIkp8Tdt",
        "colab_type": "code",
        "colab": {
          "base_uri": "https://localhost:8080/",
          "height": 16
        },
        "outputId": "9b81dce7-2a60-46ac-cea8-af964210b37c"
      },
      "cell_type": "code",
      "source": [
        "def train(X_train, y_train):\n",
        "    inputs = torch.from_numpy(X_train).float()\n",
        "    targets = torch.from_numpy(y_train).long()\n",
        "\n",
        "    optimizer.zero_grad()\n",
        "    outputs = model(inputs)\n",
        "\n",
        "    loss = criterion(outputs, targets)\n",
        "    loss.backward()\n",
        "    optimizer.step()\n",
        "\n",
        "    return loss.item()\n",
        "\n",
        "def valid(X_test, y_test):\n",
        "    inputs = torch.from_numpy(X_test).float()\n",
        "    targets = torch.from_numpy(y_test).long()\n",
        "\n",
        "    outputs = model(inputs)\n",
        "    val_loss = criterion(outputs, targets)\n",
        "    \n",
        "    # 精度を求める\n",
        "    _, predicted = torch.max(outputs.data, 1)\n",
        "    correct = (predicted == targets.data).float().sum()\n",
        "    val_acc = correct / targets.size(0)\n",
        "\n",
        "    return val_loss.item(), val_acc"
      ],
      "execution_count": 6,
      "outputs": []
    },
    {
      "metadata": {
        "id": "miN8wKS08V4s",
        "colab_type": "code",
        "colab": {
          "base_uri": "https://localhost:8080/",
          "height": 194
        },
        "outputId": "811b6790-b2c3-4351-fe73-b37c22135e49"
      },
      "cell_type": "code",
      "source": [
        "loss_list = []\n",
        "val_loss_list = []\n",
        "val_acc_list = []\n",
        "for epoch in range(num_epochs):\n",
        "    perm = np.arange(X_train.shape[0])\n",
        "    np.random.shuffle(perm)\n",
        "    X_train = X_train[perm]\n",
        "    y_train = y_train[perm]\n",
        "    \n",
        "    loss = train(X_train, y_train)\n",
        "    val_loss, val_acc = valid(X_test, y_test)\n",
        "    \n",
        "    if epoch % 1000 == 0:\n",
        "        print('epoch %d, loss: %.4f val_loss: %.4f val_acc: %.4f' % (epoch, loss, val_loss, val_acc))\n",
        "    \n",
        "    # logging\n",
        "    loss_list.append(loss)\n",
        "    val_loss_list.append(val_loss)\n",
        "    val_acc_list.append(val_acc)"
      ],
      "execution_count": 7,
      "outputs": [
        {
          "output_type": "stream",
          "text": [
            "epoch 0, loss: 1.4626 val_loss: 1.4435 val_acc: 0.0200\n",
            "epoch 1000, loss: 0.3262 val_loss: 0.3419 val_acc: 0.9200\n",
            "epoch 2000, loss: 0.2556 val_loss: 0.2740 val_acc: 0.9400\n",
            "epoch 3000, loss: 0.2151 val_loss: 0.2380 val_acc: 0.9400\n",
            "epoch 4000, loss: 0.1877 val_loss: 0.2137 val_acc: 0.9400\n",
            "epoch 5000, loss: 0.1677 val_loss: 0.1960 val_acc: 0.9400\n",
            "epoch 6000, loss: 0.1525 val_loss: 0.1824 val_acc: 0.9400\n",
            "epoch 7000, loss: 0.1406 val_loss: 0.1717 val_acc: 0.9400\n",
            "epoch 8000, loss: 0.1309 val_loss: 0.1630 val_acc: 0.9400\n",
            "epoch 9000, loss: 0.1229 val_loss: 0.1558 val_acc: 0.9400\n"
          ],
          "name": "stdout"
        }
      ]
    },
    {
      "metadata": {
        "id": "KW71EBNL8Z-8",
        "colab_type": "code",
        "colab": {
          "base_uri": "https://localhost:8080/",
          "height": 694
        },
        "outputId": "6930e05b-b590-4bb5-bd3f-b9f95d900c78"
      },
      "cell_type": "code",
      "source": [
        "# plot learning curve\n",
        "plt.figure()\n",
        "plt.plot(range(num_epochs), loss_list, 'r-', label='train_loss')\n",
        "plt.plot(range(num_epochs), val_loss_list, 'b-', label='val_loss')\n",
        "plt.legend()\n",
        "\n",
        "plt.figure()\n",
        "plt.plot(range(num_epochs), val_acc_list, 'g-', label='val_acc')\n",
        "plt.legend()"
      ],
      "execution_count": 8,
      "outputs": [
        {
          "output_type": "execute_result",
          "data": {
            "text/plain": [
              "<matplotlib.legend.Legend at 0x7fd6e3674c88>"
            ]
          },
          "metadata": {
            "tags": []
          },
          "execution_count": 8
        },
        {
          "output_type": "display_data",
          "data": {
            "image/png": "[encoded data removed]",
            "text/plain": [
              "<matplotlib.figure.Figure at 0x7fd7194d2668>"
            ]
          },
          "metadata": {
            "tags": []
          }
        },
        {
          "output_type": "display_data",
          "data": {
            "image/png": "[encoded data removed]",
            "text/plain": [
              "<matplotlib.figure.Figure at 0x7fd6e3660400>"
            ]
          },
          "metadata": {
            "tags": []
          }
        }
      ]
    },
    {
      "metadata": {
        "id": "1WtzUGGp8_jv",
        "colab_type": "text"
      },
      "cell_type": "markdown",
      "source": [
        "## MNIST\n",
        "\n",
        "* MNISTはPyTorchの標準機能でデータセットをダウンロードできる\n",
        "* バッチ単位で読み込めるDataLoaderも簡単に使える"
      ]
    },
    {
      "metadata": {
        "id": "dKOH0dMO88rI",
        "colab_type": "code",
        "colab": {
          "base_uri": "https://localhost:8080/",
          "height": 16
        },
        "outputId": "8d0f6e17-7e34-41f7-a811-9b20b656c8c0"
      },
      "cell_type": "code",
      "source": [
        "import torch\n",
        "import torch.nn as nn\n",
        "import torchvision.datasets as dsets\n",
        "import torchvision.transforms as transforms\n",
        "\n",
        "# Hyper Parameters \n",
        "input_size = 784\n",
        "num_classes = 10\n",
        "num_epochs = 20\n",
        "batch_size = 100\n",
        "learning_rate = 0.001"
      ],
      "execution_count": 9,
      "outputs": []
    },
    {
      "metadata": {
        "id": "70lug9Q49GMp",
        "colab_type": "code",
        "colab": {
          "base_uri": "https://localhost:8080/",
          "height": 123
        },
        "outputId": "99c15137-43eb-43da-be8e-c89e80cf5169"
      },
      "cell_type": "code",
      "source": [
        "# MNIST Dataset (Images and Labels)\n",
        "train_dataset = dsets.MNIST(root='./data', \n",
        "                            train=True, \n",
        "                            transform=transforms.ToTensor(),\n",
        "                            download=True)\n",
        "\n",
        "test_dataset = dsets.MNIST(root='./data', \n",
        "                           train=False, \n",
        "                           transform=transforms.ToTensor())\n",
        "\n",
        "# Dataset Loader (Input Pipline)\n",
        "train_loader = torch.utils.data.DataLoader(dataset=train_dataset, \n",
        "                                           batch_size=batch_size, \n",
        "                                           shuffle=True)\n",
        "\n",
        "test_loader = torch.utils.data.DataLoader(dataset=test_dataset, \n",
        "                                          batch_size=batch_size, \n",
        "                                          shuffle=False)"
      ],
      "execution_count": 10,
      "outputs": [
        {
          "output_type": "stream",
          "text": [
            "Downloading http://yann.lecun.com/exdb/mnist/train-images-idx3-ubyte.gz\n",
            "Downloading http://yann.lecun.com/exdb/mnist/train-labels-idx1-ubyte.gz\n",
            "Downloading http://yann.lecun.com/exdb/mnist/t10k-images-idx3-ubyte.gz\n",
            "Downloading http://yann.lecun.com/exdb/mnist/t10k-labels-idx1-ubyte.gz\n",
            "Processing...\n",
            "Done!\n"
          ],
          "name": "stdout"
        }
      ]
    },
    {
      "metadata": {
        "id": "fa--XFRG9NLy",
        "colab_type": "code",
        "colab": {
          "base_uri": "https://localhost:8080/",
          "height": 87
        },
        "outputId": "df07a81c-860a-4516-9c12-f4cd0c3890e5"
      },
      "cell_type": "code",
      "source": [
        "print(len(train_dataset))\n",
        "print(len(test_dataset))\n",
        "\n",
        "# 1データだけ取得\n",
        "image, label = iter(train_loader).next()\n",
        "print(image.type(), label.type())\n",
        "print(image.size(), label.size())"
      ],
      "execution_count": 11,
      "outputs": [
        {
          "output_type": "stream",
          "text": [
            "60000\n",
            "10000\n",
            "torch.FloatTensor torch.LongTensor\n",
            "torch.Size([100, 1, 28, 28]) torch.Size([100])\n"
          ],
          "name": "stdout"
        }
      ]
    },
    {
      "metadata": {
        "id": "DMK7QblT9VAT",
        "colab_type": "code",
        "colab": {
          "base_uri": "https://localhost:8080/",
          "height": 16
        },
        "outputId": "24708e93-7f49-488b-e3f6-6b0f251aebcb"
      },
      "cell_type": "code",
      "source": [
        "class LogisticRegression(nn.Module):\n",
        "    def __init__(self, input_size, num_classes):\n",
        "        super(LogisticRegression, self).__init__()\n",
        "        self.linear = nn.Linear(input_size, num_classes)\n",
        "    \n",
        "    def forward(self, x):\n",
        "        out = self.linear(x)\n",
        "        return out\n",
        "\n",
        "model = LogisticRegression(input_size, num_classes)\n",
        "\n",
        "criterion = nn.CrossEntropyLoss()\n",
        "optimizer = torch.optim.SGD(model.parameters(), lr=learning_rate)"
      ],
      "execution_count": 12,
      "outputs": []
    },
    {
      "metadata": {
        "id": "NlTCHH3Z9XLb",
        "colab_type": "code",
        "colab": {
          "base_uri": "https://localhost:8080/",
          "height": 16
        },
        "outputId": "8af28b60-f4fc-40d9-f0d6-b1921fbe2c96"
      },
      "cell_type": "code",
      "source": [
        "def train(train_loader):\n",
        "    model.train()\n",
        "    running_loss = 0\n",
        "    for batch_idx, (images, labels) in enumerate(train_loader):\n",
        "        images = images.view(-1, 28 * 28)\n",
        "        \n",
        "        optimizer.zero_grad()\n",
        "        outputs = model(images)\n",
        "\n",
        "        loss = criterion(outputs, labels)\n",
        "        running_loss += loss.item()\n",
        "\n",
        "        loss.backward()\n",
        "        optimizer.step()\n",
        "\n",
        "    train_loss = running_loss / len(train_loader)\n",
        "    \n",
        "    return train_loss\n",
        "\n",
        "\n",
        "def valid(test_loader):\n",
        "    model.eval()\n",
        "    running_loss = 0\n",
        "    correct = 0\n",
        "    total = 0\n",
        "    for batch_idx, (images, labels) in enumerate(test_loader):\n",
        "        images = images.view(-1, 28 * 28)\n",
        "\n",
        "        outputs = model(images)\n",
        "\n",
        "        loss = criterion(outputs, labels)\n",
        "        running_loss += loss.item()\n",
        "\n",
        "        _, predicted = outputs.max(1, keepdim=True)\n",
        "        correct += predicted.eq(labels.view_as(predicted)).sum().item()\n",
        "        total += labels.size(0)\n",
        "\n",
        "    val_loss = running_loss / len(test_loader)\n",
        "    val_acc = correct / total\n",
        "    \n",
        "    return val_loss, val_acc"
      ],
      "execution_count": 13,
      "outputs": []
    },
    {
      "metadata": {
        "id": "MLvNQPyv9Z46",
        "colab_type": "code",
        "colab": {
          "base_uri": "https://localhost:8080/",
          "height": 372
        },
        "outputId": "11146c2f-53d9-4a2b-8e60-7b94295160a3"
      },
      "cell_type": "code",
      "source": [
        "loss_list = []\n",
        "val_loss_list = []\n",
        "val_acc_list = []\n",
        "for epoch in range(num_epochs):\n",
        "    loss = train(train_loader)\n",
        "    val_loss, val_acc = valid(test_loader)\n",
        "\n",
        "    print('epoch %d, loss: %.4f val_loss: %.4f val_acc: %.4f' % (epoch, loss, val_loss, val_acc))\n",
        "    \n",
        "    # logging\n",
        "    loss_list.append(loss)\n",
        "    val_loss_list.append(val_loss)\n",
        "    val_acc_list.append(val_acc)"
      ],
      "execution_count": 14,
      "outputs": [
        {
          "output_type": "stream",
          "text": [
            "epoch 0, loss: 2.0364 val_loss: 1.7857 val_acc: 0.7109\n",
            "epoch 1, loss: 1.6188 val_loss: 1.4498 val_acc: 0.7844\n",
            "epoch 2, loss: 1.3514 val_loss: 1.2316 val_acc: 0.8097\n",
            "epoch 3, loss: 1.1741 val_loss: 1.0837 val_acc: 0.8232\n",
            "epoch 4, loss: 1.0506 val_loss: 0.9779 val_acc: 0.8320\n",
            "epoch 5, loss: 0.9603 val_loss: 0.8991 val_acc: 0.8382\n",
            "epoch 6, loss: 0.8916 val_loss: 0.8383 val_acc: 0.8423\n",
            "epoch 7, loss: 0.8376 val_loss: 0.7897 val_acc: 0.8482\n",
            "epoch 8, loss: 0.7940 val_loss: 0.7502 val_acc: 0.8528\n",
            "epoch 9, loss: 0.7579 val_loss: 0.7171 val_acc: 0.8570\n",
            "epoch 10, loss: 0.7275 val_loss: 0.6891 val_acc: 0.8595\n",
            "epoch 11, loss: 0.7016 val_loss: 0.6651 val_acc: 0.8618\n",
            "epoch 12, loss: 0.6791 val_loss: 0.6442 val_acc: 0.8649\n",
            "epoch 13, loss: 0.6595 val_loss: 0.6258 val_acc: 0.8669\n",
            "epoch 14, loss: 0.6421 val_loss: 0.6095 val_acc: 0.8685\n",
            "epoch 15, loss: 0.6266 val_loss: 0.5949 val_acc: 0.8705\n",
            "epoch 16, loss: 0.6127 val_loss: 0.5818 val_acc: 0.8716\n",
            "epoch 17, loss: 0.6001 val_loss: 0.5699 val_acc: 0.8730\n",
            "epoch 18, loss: 0.5887 val_loss: 0.5591 val_acc: 0.8740\n",
            "epoch 19, loss: 0.5782 val_loss: 0.5492 val_acc: 0.8755\n"
          ],
          "name": "stdout"
        }
      ]
    },
    {
      "metadata": {
        "id": "ndny2yqT9bjL",
        "colab_type": "code",
        "colab": {
          "base_uri": "https://localhost:8080/",
          "height": 694
        },
        "outputId": "2e284441-cd51-405e-8bbc-2e53e2f45c55"
      },
      "cell_type": "code",
      "source": [
        "import matplotlib.pyplot as plt\n",
        "\n",
        "# plot learning curve\n",
        "plt.figure()\n",
        "plt.plot(range(num_epochs), loss_list, 'r-', label='train_loss')\n",
        "plt.plot(range(num_epochs), val_loss_list, 'b-', label='val_loss')\n",
        "plt.legend()\n",
        "\n",
        "plt.figure()\n",
        "plt.plot(range(num_epochs), val_acc_list, 'g-', label='val_acc')\n",
        "plt.legend()"
      ],
      "execution_count": 15,
      "outputs": [
        {
          "output_type": "execute_result",
          "data": {
            "text/plain": [
              "<matplotlib.legend.Legend at 0x7fd6e47e7518>"
            ]
          },
          "metadata": {
            "tags": []
          },
          "execution_count": 15
        },
        {
          "output_type": "display_data",
          "data": {
            "image/png": "[encoded data removed]",
            "text/plain": [
              "<matplotlib.figure.Figure at 0x7fd6e08d2048>"
            ]
          },
          "metadata": {
            "tags": []
          }
        },
        {
          "output_type": "display_data",
          "data": {
            "image/png": "[encoded data removed]",
            "text/plain": [
              "<matplotlib.figure.Figure at 0x7fd6e47fca90>"
            ]
          },
          "metadata": {
            "tags": []
          }
        }
      ]
    }
  ]
}