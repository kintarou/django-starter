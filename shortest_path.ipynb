{
  "nbformat": 4,
  "nbformat_minor": 0,
  "metadata": {
    "colab": {
      "name": "shortest path.ipynb",
      "version": "0.3.2",
      "provenance": []
    },
    "kernelspec": {
      "name": "python3",
      "display_name": "Python 3"
    }
  },
  "cells": [
    {
      "cell_type": "markdown",
      "metadata": {
        "id": "view-in-github",
        "colab_type": "text"
      },
      "source": [
        "[View in Colaboratory](https://colab.research.google.com/github/kintarou/django-starter/blob/master/shortest_path.ipynb)"
      ]
    },
    {
      "metadata": {
        "id": "u3BK2c0p8oxt",
        "colab_type": "code",
        "colab": {}
      },
      "cell_type": "code",
      "source": [
        "class Node(object):\n",
        "  def __init__(self, name):\n",
        "    self.name = name\n",
        "  def getName(self):\n",
        "    return self.name\n",
        "  def __str__(self):\n",
        "    return self.name\n",
        "  \n",
        "class Edge(object):\n",
        "  def __init__(self, src, dest):\n",
        "    self.src = src\n",
        "    self.dest = dest\n",
        "  def getSource(self):\n",
        "    return self.src\n",
        "  def getDestination(self):\n",
        "    return self.dest\n",
        "  def __str__(self):\n",
        "    return self.src.getName() + '->' + self.dest.getName()\n",
        "  \n",
        "class WeightedEdge(Edge):\n",
        "  def __init__(self, src, dest, weight = 1.0):\n",
        "    self.src = src\n",
        "    self.dest = dest\n",
        "    self.weight = weight\n",
        "  def getWeight(self):\n",
        "    return self.weight\n",
        "  def __str__(self):\n",
        "    return self.src.getName() + '->(' + str(self.weight) + ')' + self.dest.getName() "
      ],
      "execution_count": 0,
      "outputs": []
    },
    {
      "metadata": {
        "id": "DMgKVrejBdvr",
        "colab_type": "code",
        "colab": {}
      },
      "cell_type": "code",
      "source": [
        "class Digraph(object):\n",
        "  def __init__(self):\n",
        "    self.nodes = []\n",
        "    self.edges = []\n",
        "  def addNode(self, node):\n",
        "    if node in self.nodes:\n",
        "      raise ValueError('Duplicate node')\n",
        "    else:\n",
        "      self.nodes.append(node)\n",
        "      self.edges[node] = []\n",
        "  def addEdge(self, edge):\n",
        "    src = edge.getSource()\n",
        "    dest = edge.getDestination()\n",
        "    if not (src in self.nodes and dest in self.nodes):\n",
        "      raise ValueError('Node not in graph')\n",
        "    self.edges[src].append(dest)\n",
        "  def childrenOf(self, node):\n",
        "    return self.edges[node]\n",
        "  def hasNode(self, node):\n",
        "    return node in self.nodes\n",
        "  def __str__(self):\n",
        "    result = ' '\n",
        "    for src in self.nodes:\n",
        "      for dest in self.edges[src]:\n",
        "        result = result + src.getName() + '->' + dest.getName()\n",
        "    return result[:-1]\n",
        "  \n",
        "class Graph(Digraph):\n",
        "  def addEdge(self, edge):\n",
        "    Digraph.addEdge(self, edge)\n",
        "    rev = Edge(edge.getDestination(), edge.getSource())\n",
        "    Digraph.addEdge(self, rev)\n",
        "    "
      ],
      "execution_count": 0,
      "outputs": []
    },
    {
      "metadata": {
        "id": "SzuMBQv0jo7H",
        "colab_type": "code",
        "colab": {}
      },
      "cell_type": "code",
      "source": [
        "def printPath(path):\n",
        "  result = ' '\n",
        "  for i in range(len(path)):\n",
        "    result = result + str(path[i])\n",
        "    if i != len(path) - 1:\n",
        "      result = result + '->'\n",
        "  return result\n",
        "\n",
        "def DFS(graph, start, end, path, shortest, toPrint = False):\n",
        "  path = path + [start]\n",
        "  if toPrint:\n",
        "    print('Current DFS path:',printPath(path))\n",
        "  if start == end:\n",
        "    return path\n",
        "  for node in graph.childrenOf(start):\n",
        "    if node not in path:\n",
        "      if shortest == None or len(path) < len(shortest):\n",
        "        newPath = DFS(graph, node, end, path, shortest, toPrint)\n",
        "        if newPath != None:\n",
        "          shortest = newPath\n",
        "  return shortest\n",
        "\n",
        "def shortestPath(graph, start, end, toPrint = False):\n",
        "  return DFS(graph, start, end, [], None, toPrint)\n",
        "    "
      ],
      "execution_count": 0,
      "outputs": []
    },
    {
      "metadata": {
        "id": "KXhcxS1SmU2k",
        "colab_type": "code",
        "colab": {}
      },
      "cell_type": "code",
      "source": [
        "def testSP():\n",
        "  nodes = []\n",
        "  for name in range(6):\n",
        "    nodes.append(Node(str(name)))\n",
        "    g = Digraph()\n",
        "    for n in nodes:\n",
        "      g.addNode(n)\n",
        "    g.addEdge(edge[0].nodes[1])\n",
        "    g.addEdge(edge[1].nodes[2])\n",
        "    g.addEdge(edge[2].nodes[3])\n",
        "    g.addEdge(edge[2].nodes[4])\n",
        "    g.addEdge(edge[3].nodes[4])\n",
        "    g.addEdge(edge[3].nodes[5])\n",
        "    g.addEdge(edge[0].nodes[2])\n",
        "    g.addEdge(edge[1].nodes[0])\n",
        "    g.addEdge(edge[3].nodes[1])\n",
        "    g.addEdge(edge[4].nodes[0])\n",
        "    sp = shortestPath(g, nodes[0], nodes[5], toPrint = True)\n",
        "    print('Shortest path found by DFS', printPath(sp))"
      ],
      "execution_count": 0,
      "outputs": []
    },
    {
      "metadata": {
        "id": "rqAz3NveLu-5",
        "colab_type": "code",
        "colab": {}
      },
      "cell_type": "code",
      "source": [
        "def BFS(graph, start, end, toPrint = False):\n",
        "  initPath = [start]\n",
        "  pathQueue = [initPath]\n",
        "  while len(pathQueue) != 0:\n",
        "    tmpPath = pathQueue.pop(0)\n",
        "    if toPrint:\n",
        "      print('Current BFS path:', printPath(tmpPath))\n",
        "    lastNode = tmpPath[-1]\n",
        "    if lastNode == end:\n",
        "      return tmpPath\n",
        "    for nextNode in graph.childrenOf(lastNode):\n",
        "      if nextNode not in tmpPath:\n",
        "        newPath = tmpPath + [nextNode]\n",
        "        pathQueue.append(newPath)\n",
        "  return None      "
      ],
      "execution_count": 0,
      "outputs": []
    }
  ]
}