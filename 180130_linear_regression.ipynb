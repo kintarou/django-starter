{
  "nbformat": 4,
  "nbformat_minor": 0,
  "metadata": {
    "colab": {
      "name": "180130-linear-regression.ipynb",
      "version": "0.3.2",
      "provenance": [],
      "collapsed_sections": [],
      "include_colab_link": true
    },
    "kernelspec": {
      "name": "python3",
      "display_name": "Python 3"
    },
    "accelerator": "GPU"
  },
  "cells": [
    {
      "cell_type": "markdown",
      "metadata": {
        "id": "view-in-github",
        "colab_type": "text"
      },
      "source": [
        "[View in Colaboratory](https://colab.research.google.com/github/kintarou/django-starter/blob/master/180130_linear_regression.ipynb)"
      ]
    },
    {
      "metadata": {
        "id": "QMpFqy2a4J3l",
        "colab_type": "code",
        "colab": {
          "base_uri": "https://localhost:8080/",
          "height": 51
        },
        "outputId": "187bd6af-e863-427d-8edc-96f435ca8df8"
      },
      "cell_type": "code",
      "source": [
        "!pip install torch"
      ],
      "execution_count": 0,
      "outputs": [
        {
          "output_type": "stream",
          "text": [
            "Looking in indexes: https://pypi.org/simple, https://legacy.pypi.org/simple\r\n",
            "Requirement already satisfied: torch in /usr/local/lib/python3.6/dist-packages (0.4.0)\r\n"
          ],
          "name": "stdout"
        }
      ]
    },
    {
      "metadata": {
        "id": "ToIcGbH8466L",
        "colab_type": "text"
      },
      "cell_type": "markdown",
      "source": [
        "# Linear Regression"
      ]
    },
    {
      "metadata": {
        "id": "zsPm6r9A41zK",
        "colab_type": "text"
      },
      "cell_type": "markdown",
      "source": [
        "## Artificial dataset"
      ]
    },
    {
      "metadata": {
        "id": "wlSFgAeL4QHJ",
        "colab_type": "code",
        "colab": {}
      },
      "cell_type": "code",
      "source": [
        "import torch\n",
        "import torch.nn as nn\n",
        "import numpy as np\n",
        "import matplotlib.pyplot as plt"
      ],
      "execution_count": 0,
      "outputs": []
    },
    {
      "metadata": {
        "id": "K2fS_AOu4f3V",
        "colab_type": "code",
        "colab": {}
      },
      "cell_type": "code",
      "source": [
        "# hyper parameters\n",
        "input_size = 1\n",
        "output_size = 1\n",
        "num_epochs = 100\n",
        "learning_rate = 0.001"
      ],
      "execution_count": 0,
      "outputs": []
    },
    {
      "metadata": {
        "id": "iWfIcs7e4hEu",
        "colab_type": "code",
        "colab": {}
      },
      "cell_type": "code",
      "source": [
        "# toy dataset\n",
        "# 15 samples, 1 features\n",
        "x_train = np.array([3.3, 4.4, 5.5, 6.71, 6.93, 4.168, 9.779, 6.182, 7.59, 2.167,\n",
        "                    7.042, 10.791, 5.313, 7.997, 3.1], dtype=np.float32)\n",
        "\n",
        "y_train = np.array([1.7, 2.76, 2.09, 3.19, 1.694, 1.573, 3.366, 2.596, 2.53, 1.221,\n",
        "                    2.827, 3.465, 1.65, 2.904, 1.3], dtype=np.float32)\n",
        "\n",
        "x_train = x_train.reshape(15, 1)\n",
        "y_train = y_train.reshape(15, 1)"
      ],
      "execution_count": 0,
      "outputs": []
    },
    {
      "metadata": {
        "id": "F5tZ7bPC4ipG",
        "colab_type": "code",
        "colab": {}
      },
      "cell_type": "code",
      "source": [
        "# linear regression model\n",
        "class LinearRegression(nn.Module):\n",
        "    def __init__(self, input_size, output_size):\n",
        "        super(LinearRegression, self).__init__()\n",
        "        self.linear = nn.Linear(input_size, output_size)\n",
        "    \n",
        "    def forward(self, x):\n",
        "        out = self.linear(x)\n",
        "        return out\n",
        "\n",
        "model = LinearRegression(input_size, output_size)"
      ],
      "execution_count": 0,
      "outputs": []
    },
    {
      "metadata": {
        "id": "5G_t5l5z4mUO",
        "colab_type": "code",
        "colab": {
          "base_uri": "https://localhost:8080/",
          "height": 68
        },
        "outputId": "f1f1e1ef-cf07-46b8-d392-196d4c3d643e"
      },
      "cell_type": "code",
      "source": [
        "model"
      ],
      "execution_count": 0,
      "outputs": [
        {
          "output_type": "execute_result",
          "data": {
            "text/plain": [
              "LinearRegression(\n",
              "  (linear): Linear(in_features=1, out_features=1, bias=True)\n",
              ")"
            ]
          },
          "metadata": {
            "tags": []
          },
          "execution_count": 6
        }
      ]
    },
    {
      "metadata": {
        "id": "PCpNkhSb4mye",
        "colab_type": "code",
        "colab": {}
      },
      "cell_type": "code",
      "source": [
        "# loss and optimizer\n",
        "criterion = nn.MSELoss()\n",
        "optimizer = torch.optim.SGD(model.parameters(), lr=learning_rate)"
      ],
      "execution_count": 0,
      "outputs": []
    },
    {
      "metadata": {
        "id": "O_1QivPD4osu",
        "colab_type": "code",
        "colab": {
          "base_uri": "https://localhost:8080/",
          "height": 187
        },
        "outputId": "d7a7833d-6aea-47aa-a40e-8858c143d739"
      },
      "cell_type": "code",
      "source": [
        "# train the model\n",
        "for epoch in range(num_epochs):\n",
        "    inputs = torch.from_numpy(x_train)\n",
        "    targets = torch.from_numpy(y_train)\n",
        "\n",
        "    optimizer.zero_grad()\n",
        "    outputs = model(inputs)\n",
        "    loss = criterion(outputs, targets)\n",
        "    loss.backward()\n",
        "    optimizer.step()\n",
        "    \n",
        "    if (epoch + 1) % 10 == 0:\n",
        "        print('Epoch [%d/%d], Loss: %.4f' % (epoch + 1, num_epochs, loss.item()))"
      ],
      "execution_count": 0,
      "outputs": [
        {
          "output_type": "stream",
          "text": [
            "Epoch [10/100], Loss: 0.5004\n",
            "Epoch [20/100], Loss: 0.4987\n",
            "Epoch [30/100], Loss: 0.4970\n",
            "Epoch [40/100], Loss: 0.4953\n",
            "Epoch [50/100], Loss: 0.4937\n",
            "Epoch [60/100], Loss: 0.4920\n",
            "Epoch [70/100], Loss: 0.4903\n",
            "Epoch [80/100], Loss: 0.4887\n",
            "Epoch [90/100], Loss: 0.4871\n",
            "Epoch [100/100], Loss: 0.4854\n"
          ],
          "name": "stdout"
        }
      ]
    },
    {
      "metadata": {
        "id": "Uy8ufxdJ4rGP",
        "colab_type": "code",
        "colab": {
          "base_uri": "https://localhost:8080/",
          "height": 347
        },
        "outputId": "a8f869e7-7ca2-4a6f-8d7b-277f6b8bbf9e"
      },
      "cell_type": "code",
      "source": [
        "# plot the graph\n",
        "with torch.no_grad():\n",
        "    predicted = model(torch.from_numpy(x_train)).numpy()\n",
        "\n",
        "plt.plot(x_train, y_train, 'ro', label='Original data')\n",
        "plt.plot(x_train, predicted, label='Fitted line')\n",
        "plt.legend()\n",
        "plt.show()"
      ],
      "execution_count": 0,
      "outputs": [
        {
          "output_type": "display_data",
          "data": {
            "image/png": "[encoded data removed]",
            "text/plain": [
              "<matplotlib.figure.Figure at 0x7fedf7eb11d0>"
            ]
          },
          "metadata": {
            "tags": []
          }
        }
      ]
    },
    {
      "metadata": {
        "id": "7ROdBCmF5AVx",
        "colab_type": "text"
      },
      "cell_type": "markdown",
      "source": [
        "## Boston house price dataset"
      ]
    },
    {
      "metadata": {
        "id": "gG69vXx45Czu",
        "colab_type": "code",
        "colab": {}
      },
      "cell_type": "code",
      "source": [
        "import torch\n",
        "import torch.nn as nn\n",
        "import numpy as np\n",
        "import matplotlib.pyplot as plt\n",
        "\n",
        "from sklearn.datasets import load_boston\n",
        "from sklearn.model_selection import train_test_split\n",
        "from sklearn.preprocessing import StandardScaler\n",
        "\n",
        "import matplotlib.pyplot as plt"
      ],
      "execution_count": 0,
      "outputs": []
    },
    {
      "metadata": {
        "id": "ZEbr_yBE5Epy",
        "colab_type": "code",
        "colab": {}
      },
      "cell_type": "code",
      "source": [
        "# hyper parameters\n",
        "input_size = 13\n",
        "output_size = 1\n",
        "num_epochs = 5000\n",
        "learning_rate = 0.01"
      ],
      "execution_count": 0,
      "outputs": []
    },
    {
      "metadata": {
        "id": "9eyYE8G15HWv",
        "colab_type": "code",
        "colab": {}
      },
      "cell_type": "code",
      "source": [
        "boston = load_boston()\n",
        "X = boston.data\n",
        "y = boston.target\n",
        "\n",
        "X_train, X_test, y_train, y_test = train_test_split(X, y, test_size = 0.33, random_state = 5)\n",
        "\n",
        "# データの標準化\n",
        "scaler = StandardScaler()\n",
        "X_train = scaler.fit_transform(X_train)\n",
        "X_test = scaler.transform(X_test)"
      ],
      "execution_count": 0,
      "outputs": []
    },
    {
      "metadata": {
        "id": "-41BOysg5L5w",
        "colab_type": "code",
        "colab": {}
      },
      "cell_type": "code",
      "source": [
        "# linear regression model\n",
        "class LinearRegression(nn.Module):\n",
        "    def __init__(self, input_size, output_size):\n",
        "        super(LinearRegression, self).__init__()\n",
        "        self.linear = nn.Linear(input_size, output_size)\n",
        "\n",
        "    def forward(self, x):\n",
        "        out = self.linear(x)\n",
        "        return out\n",
        "\n",
        "model = LinearRegression(input_size, output_size)\n",
        "\n",
        "# loss and optimizer\n",
        "criterion = nn.MSELoss()\n",
        "optimizer = torch.optim.Adam(model.parameters(), lr=learning_rate)"
      ],
      "execution_count": 0,
      "outputs": []
    },
    {
      "metadata": {
        "id": "wcYWGlah5Nmg",
        "colab_type": "code",
        "colab": {
          "base_uri": "https://localhost:8080/",
          "height": 68
        },
        "outputId": "3e6680ab-0110-4117-88e3-bf9e42c0866d"
      },
      "cell_type": "code",
      "source": [
        "model"
      ],
      "execution_count": 0,
      "outputs": [
        {
          "output_type": "execute_result",
          "data": {
            "text/plain": [
              "LinearRegression(\n",
              "  (linear): Linear(in_features=13, out_features=1, bias=True)\n",
              ")"
            ]
          },
          "metadata": {
            "tags": []
          },
          "execution_count": 23
        }
      ]
    },
    {
      "metadata": {
        "id": "KWS-c9CY5OXQ",
        "colab_type": "code",
        "colab": {}
      },
      "cell_type": "code",
      "source": [
        "def train(X_train, y_train):\n",
        "    inputs = torch.from_numpy(X_train).float()\n",
        "    targets = torch.from_numpy(y_train).float().view(-1, 1)\n",
        "    \n",
        "    optimizer.zero_grad()\n",
        "    outputs = model(inputs)\n",
        "\n",
        "    loss = criterion(outputs, targets)\n",
        "    loss.backward()\n",
        "    optimizer.step()\n",
        "\n",
        "    return loss.item()\n",
        "\n",
        "def valid(X_test, y_test):\n",
        "    inputs = torch.from_numpy(X_test).float()\n",
        "    targets = torch.from_numpy(y_test).float().view(-1, 1)\n",
        "    \n",
        "    outputs = model(inputs)\n",
        "    val_loss = criterion(outputs, targets)\n",
        "    \n",
        "    return val_loss.item()"
      ],
      "execution_count": 0,
      "outputs": []
    },
    {
      "metadata": {
        "id": "7x8xvgfo5Tyq",
        "colab_type": "code",
        "colab": {
          "base_uri": "https://localhost:8080/",
          "height": 442
        },
        "outputId": "b196e4c0-b33b-43f0-fd39-3bfc80fbdc4d"
      },
      "cell_type": "code",
      "source": [
        "# train the model\n",
        "loss_list = []\n",
        "val_loss_list = []\n",
        "for epoch in range(num_epochs):\n",
        "    # data shuffle\n",
        "    perm = np.arange(X_train.shape[0])\n",
        "    np.random.shuffle(perm)\n",
        "    X_train = X_train[perm]\n",
        "    y_train = y_train[perm]\n",
        "    \n",
        "    loss = train(X_train, y_train)\n",
        "    val_loss = valid(X_test, y_test)\n",
        "\n",
        "    if epoch % 200 == 0:\n",
        "        print('epoch %d, loss: %.4f val_loss: %.4f' % (epoch, loss, val_loss))\n",
        "\n",
        "    loss_list.append(loss)\n",
        "    val_loss_list.append(val_loss)"
      ],
      "execution_count": 0,
      "outputs": [
        {
          "output_type": "stream",
          "text": [
            "epoch 0, loss: 582.3618 val_loss: 594.8526\n",
            "epoch 200, loss: 444.7294 val_loss: 469.4695\n",
            "epoch 400, loss: 363.5700 val_loss: 391.2282\n",
            "epoch 600, loss: 298.8455 val_loss: 326.9878\n",
            "epoch 800, loss: 244.5678 val_loss: 271.6202\n",
            "epoch 1000, loss: 198.6342 val_loss: 224.0062\n",
            "epoch 1200, loss: 160.0290 val_loss: 183.6686\n",
            "epoch 1400, loss: 127.9497 val_loss: 149.9395\n",
            "epoch 1600, loss: 101.6536 val_loss: 122.0816\n",
            "epoch 1800, loss: 80.4387 val_loss: 99.3845\n",
            "epoch 2000, loss: 63.6372 val_loss: 81.1815\n",
            "epoch 2200, loss: 50.6156 val_loss: 66.8461\n",
            "epoch 2400, loss: 40.7738 val_loss: 55.7890\n",
            "epoch 2600, loss: 33.5496 val_loss: 47.4592\n",
            "epoch 2800, loss: 28.4233 val_loss: 41.3460\n",
            "epoch 3000, loss: 24.9255 val_loss: 36.9861\n",
            "epoch 3200, loss: 22.6440 val_loss: 33.9697\n",
            "epoch 3400, loss: 21.2306 val_loss: 31.9464\n",
            "epoch 3600, loss: 20.4050 val_loss: 30.6295\n",
            "epoch 3800, loss: 19.9537 val_loss: 29.7958\n",
            "epoch 4000, loss: 19.7247 val_loss: 29.2800\n",
            "epoch 4200, loss: 19.6179 val_loss: 28.9671\n",
            "epoch 4400, loss: 19.5725 val_loss: 28.7804\n",
            "epoch 4600, loss: 19.5551 val_loss: 28.6710\n",
            "epoch 4800, loss: 19.5491 val_loss: 28.6086\n"
          ],
          "name": "stdout"
        }
      ]
    },
    {
      "metadata": {
        "id": "QkCe0r545Wxh",
        "colab_type": "code",
        "colab": {
          "base_uri": "https://localhost:8080/",
          "height": 364
        },
        "outputId": "8ce6ffee-170e-4ce9-fcf7-3bd8b209f9e4"
      },
      "cell_type": "code",
      "source": [
        "# plot learning curve\n",
        "plt.plot(range(num_epochs), loss_list, 'r-', label='train_loss')\n",
        "plt.plot(range(num_epochs), val_loss_list, 'b-', label='val_loss')\n",
        "plt.legend()"
      ],
      "execution_count": 0,
      "outputs": [
        {
          "output_type": "execute_result",
          "data": {
            "text/plain": [
              "<matplotlib.legend.Legend at 0x7fedf5ee9a20>"
            ]
          },
          "metadata": {
            "tags": []
          },
          "execution_count": 45
        },
        {
          "output_type": "display_data",
          "data": {
            "image/png": "[encoded data removed]",
            "text/plain": [
              "<matplotlib.figure.Figure at 0x7fedf5f7fb70>"
            ]
          },
          "metadata": {
            "tags": []
          }
        }
      ]
    }
  ]
}