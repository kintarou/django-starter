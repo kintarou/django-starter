{
  "nbformat": 4,
  "nbformat_minor": 0,
  "metadata": {
    "colab": {
      "name": "openpyxl.ipynb",
      "version": "0.3.2",
      "provenance": [],
      "include_colab_link": true
    },
    "kernelspec": {
      "name": "python3",
      "display_name": "Python 3"
    }
  },
  "cells": [
    {
      "cell_type": "markdown",
      "metadata": {
        "id": "view-in-github",
        "colab_type": "text"
      },
      "source": [
        "[View in Colaboratory](https://colab.research.google.com/github/kintarou/django-starter/blob/master/openpyxl.ipynb)"
      ]
    },
    {
      "metadata": {
        "id": "U8JpDgkpSRIK",
        "colab_type": "code",
        "colab": {
          "base_uri": "https://localhost:8080/",
          "height": 283
        },
        "outputId": "6b777a08-6b2f-4da8-9e03-e3b622b76202"
      },
      "cell_type": "code",
      "source": [
        "!pip install openpyxl"
      ],
      "execution_count": 1,
      "outputs": [
        {
          "output_type": "stream",
          "text": [
            "Collecting openpyxl\n",
            "\u001b[?25l  Downloading https://files.pythonhosted.org/packages/d9/dd/5952829956827de7ff36eb70877fdffd6dbfacb670fae05eb7ccba52ace7/openpyxl-2.5.5.tar.gz (171kB)\n",
            "\u001b[K    100% |████████████████████████████████| 174kB 3.7MB/s \n",
            "\u001b[?25hCollecting jdcal (from openpyxl)\n",
            "  Downloading https://files.pythonhosted.org/packages/a0/38/dcf83532480f25284f3ef13f8ed63e03c58a65c9d3ba2a6a894ed9497207/jdcal-1.4-py2.py3-none-any.whl\n",
            "Collecting et_xmlfile (from openpyxl)\n",
            "  Downloading https://files.pythonhosted.org/packages/22/28/a99c42aea746e18382ad9fb36f64c1c1f04216f41797f2f0fa567da11388/et_xmlfile-1.0.1.tar.gz\n",
            "Building wheels for collected packages: openpyxl, et-xmlfile\n",
            "  Running setup.py bdist_wheel for openpyxl ... \u001b[?25l-\b \b\\\b \b|\b \bdone\n",
            "\u001b[?25h  Stored in directory: /root/.cache/pip/wheels/b8/20/5b/d260e131180f4394eba48d97e238016f4bde050727fce79283\n",
            "  Running setup.py bdist_wheel for et-xmlfile ... \u001b[?25l-\b \bdone\n",
            "\u001b[?25h  Stored in directory: /root/.cache/pip/wheels/2a/77/35/0da0965a057698121fc7d8c5a7a9955cdbfb3cc4e2423cad39\n",
            "Successfully built openpyxl et-xmlfile\n",
            "Installing collected packages: jdcal, et-xmlfile, openpyxl\n",
            "Successfully installed et-xmlfile-1.0.1 jdcal-1.4 openpyxl-2.5.5\n"
          ],
          "name": "stdout"
        }
      ]
    },
    {
      "metadata": {
        "id": "EY9OiokHShmK",
        "colab_type": "code",
        "colab": {}
      },
      "cell_type": "code",
      "source": [
        "# ライブラリを取り込む --- (*1)\n",
        "import openpyxl as excel\n",
        "\n",
        "# 新規ワークブックを作る --- (*2)\n",
        "wb = excel.Workbook()\n",
        "# アクティブなワークシートを得る --- (*3)\n",
        "ws = wb.active\n",
        "# A1のセルに値を設定 --- (*4)\n",
        "ws[\"A1\"] = \"こんにちは\"\n",
        "# ファイルを保存 --- (*5)\n",
        "wb.save(\"hello.xlsx\")\n"
      ],
      "execution_count": 0,
      "outputs": []
    },
    {
      "metadata": {
        "id": "FVfvzjnES3yp",
        "colab_type": "code",
        "colab": {}
      },
      "cell_type": "code",
      "source": [
        "import openpyxl as excel\n",
        "\n",
        "# 新規ワークブックを作る\n",
        "wb = excel.Workbook()\n",
        "ws = wb.active\n",
        "\n",
        "# 九九の表を作る\n",
        "for i in range(1, 10):\n",
        "    for j in range(1, 10):\n",
        "        v = i * j\n",
        "        ws.cell(column=j, row=i, value=v) # --- (*1)\n",
        "\n",
        "wb.save(\"kuku.xlsx\")"
      ],
      "execution_count": 0,
      "outputs": []
    }
  ]
}