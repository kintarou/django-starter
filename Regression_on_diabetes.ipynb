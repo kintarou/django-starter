{
  "nbformat": 4,
  "nbformat_minor": 0,
  "metadata": {
    "colab": {
      "name": "Regression_on_diabetes.ipynb",
      "version": "0.3.2",
      "provenance": [],
      "include_colab_link": true
    },
    "kernelspec": {
      "name": "python3",
      "display_name": "Python 3"
    }
  },
  "cells": [
    {
      "cell_type": "markdown",
      "metadata": {
        "id": "view-in-github",
        "colab_type": "text"
      },
      "source": [
        "[View in Colaboratory](https://colab.research.google.com/github/kintarou/django-starter/blob/master/Regression_on_diabetes.ipynb)"
      ]
    },
    {
      "metadata": {
        "id": "0LrNbQrSFw0I",
        "colab_type": "code",
        "colab": {}
      },
      "cell_type": "code",
      "source": [
        "#Linear_regression\n",
        "\n",
        "from matplotlib import pyplot as plt\n",
        "import numpy as np\n",
        "from sklearn import datasets, linear_model\n",
        "from sklearn.metrics import mean_squared_error, r2_score"
      ],
      "execution_count": 0,
      "outputs": []
    },
    {
      "metadata": {
        "id": "mlw6jJQQHGyX",
        "colab_type": "code",
        "colab": {}
      },
      "cell_type": "code",
      "source": [
        "diabetes=datasets.load_diabetes()"
      ],
      "execution_count": 0,
      "outputs": []
    },
    {
      "metadata": {
        "id": "ea5yGd7QHOOK",
        "colab_type": "code",
        "colab": {}
      },
      "cell_type": "code",
      "source": [
        "diabetes_X=diabetes.data[:, np.newaxis, 2]"
      ],
      "execution_count": 0,
      "outputs": []
    },
    {
      "metadata": {
        "id": "5ByouJBuHasV",
        "colab_type": "code",
        "colab": {}
      },
      "cell_type": "code",
      "source": [
        "diabetes_X_train=diabetes_X[:-20]\n",
        "diabetes_X_test=diabetes_X[-20:]"
      ],
      "execution_count": 0,
      "outputs": []
    },
    {
      "metadata": {
        "id": "33xy7H48HvD8",
        "colab_type": "code",
        "colab": {}
      },
      "cell_type": "code",
      "source": [
        "diabetes_y_train=diabetes.target[:-20]\n",
        "diabetes_y_test=diabetes.target[-20:]"
      ],
      "execution_count": 0,
      "outputs": []
    },
    {
      "metadata": {
        "id": "VuPSV9EcH82N",
        "colab_type": "code",
        "colab": {}
      },
      "cell_type": "code",
      "source": [
        "regr=linear_model.LinearRegression()"
      ],
      "execution_count": 0,
      "outputs": []
    },
    {
      "metadata": {
        "id": "anvBiFduIDtN",
        "colab_type": "code",
        "colab": {
          "base_uri": "https://localhost:8080/",
          "height": 34
        },
        "outputId": "6ef9bd1b-e2a6-40bd-f21b-5a2c9e1880ea"
      },
      "cell_type": "code",
      "source": [
        "regr.fit(diabetes_X_train, diabetes_y_train)"
      ],
      "execution_count": 8,
      "outputs": [
        {
          "output_type": "execute_result",
          "data": {
            "text/plain": [
              "LinearRegression(copy_X=True, fit_intercept=True, n_jobs=1, normalize=False)"
            ]
          },
          "metadata": {
            "tags": []
          },
          "execution_count": 8
        }
      ]
    },
    {
      "metadata": {
        "id": "3j2bh8OqIOd_",
        "colab_type": "code",
        "colab": {}
      },
      "cell_type": "code",
      "source": [
        "diabetes_y_pred=regr.predict(diabetes_X_test)"
      ],
      "execution_count": 0,
      "outputs": []
    },
    {
      "metadata": {
        "id": "ROQy58XfIWLj",
        "colab_type": "code",
        "colab": {
          "base_uri": "https://localhost:8080/",
          "height": 52
        },
        "outputId": "44bc0522-7876-4ad9-f570-e5734768adcd"
      },
      "cell_type": "code",
      "source": [
        "print('Coefficients:\\n', regr.coef_)"
      ],
      "execution_count": 10,
      "outputs": [
        {
          "output_type": "stream",
          "text": [
            "Coefficients:\n",
            " [938.23786125]\n"
          ],
          "name": "stdout"
        }
      ]
    },
    {
      "metadata": {
        "id": "9wRorKyeIhNQ",
        "colab_type": "code",
        "colab": {
          "base_uri": "https://localhost:8080/",
          "height": 34
        },
        "outputId": "3ca42354-a6d5-43a2-be6b-4c5f926ed672"
      },
      "cell_type": "code",
      "source": [
        "print(\"Mean squared error: %.2f\" %mean_squared_error(diabetes_y_test, diabetes_y_pred))"
      ],
      "execution_count": 11,
      "outputs": [
        {
          "output_type": "stream",
          "text": [
            "Mean squared error: 2548.07\n"
          ],
          "name": "stdout"
        }
      ]
    },
    {
      "metadata": {
        "id": "8gCta9ALI21X",
        "colab_type": "code",
        "colab": {
          "base_uri": "https://localhost:8080/",
          "height": 34
        },
        "outputId": "75bba629-c184-4dac-a92f-fab4faa41caf"
      },
      "cell_type": "code",
      "source": [
        "print('Variance score: %.2f' % r2_score(diabetes_y_test, diabetes_y_pred))"
      ],
      "execution_count": 12,
      "outputs": [
        {
          "output_type": "stream",
          "text": [
            "Variance score: 0.47\n"
          ],
          "name": "stdout"
        }
      ]
    },
    {
      "metadata": {
        "id": "VUk6wd5EJUXW",
        "colab_type": "code",
        "colab": {
          "base_uri": "https://localhost:8080/",
          "height": 330
        },
        "outputId": "591563da-45fe-43fc-e8df-b4b10d0d0517"
      },
      "cell_type": "code",
      "source": [
        "plt.scatter(diabetes_X_test, diabetes_y_test, color='red')\n",
        "plt.plot(diabetes_X_test, diabetes_y_pred, color='blue', linewidth=3)\n",
        "plt.xticks(())\n",
        "plt.yticks(())\n",
        "plt.show()"
      ],
      "execution_count": 13,
      "outputs": [
        {
          "output_type": "display_data",
          "data": {
            "image/png": "[encoded data removed]",
            "text/plain": [
              "<matplotlib.figure.Figure at 0x7fa85e73ddd8>"
            ]
          },
          "metadata": {
            "tags": []
          }
        }
      ]
    },
    {
      "metadata": {
        "id": "8arq2VnjUUVx",
        "colab_type": "code",
        "colab": {}
      },
      "cell_type": "code",
      "source": [
        "#Ridge Regression\n",
        "\n",
        "import numpy as np\n",
        "from matplotlib import pyplot as plt\n",
        "from sklearn import linear_model"
      ],
      "execution_count": 0,
      "outputs": []
    },
    {
      "metadata": {
        "id": "iOmt4n7IKA86",
        "colab_type": "code",
        "colab": {}
      },
      "cell_type": "code",
      "source": [
        "X=1./(np.arange(1,11)+np.arange(0,10)[:, np.newaxis])\n",
        "y=np.ones(10)"
      ],
      "execution_count": 0,
      "outputs": []
    },
    {
      "metadata": {
        "id": "fVxQkOjUU_XE",
        "colab_type": "code",
        "colab": {}
      },
      "cell_type": "code",
      "source": [
        "n_alphas=200\n",
        "alphas=np.logspace(-10,-2,n_alphas)\n",
        "coefs=[]\n",
        "for a in alphas:\n",
        "  ridge=linear_model.Ridge(alpha=a,fit_intercept=False)\n",
        "  ridge.fit(X,y)\n",
        "  coefs.append(ridge.coef_)"
      ],
      "execution_count": 0,
      "outputs": []
    },
    {
      "metadata": {
        "id": "58EDTOL8WCUI",
        "colab_type": "code",
        "colab": {
          "base_uri": "https://localhost:8080/",
          "height": 375
        },
        "outputId": "3e438b4f-9bdf-4f93-9504-b6d8bdf251e5"
      },
      "cell_type": "code",
      "source": [
        "ax=plt.gca()\n",
        "ax.plot(alphas, coefs)\n",
        "ax.set_xlim(ax.get_xlim()[::-1])\n",
        "plt.xlabel('alpha')\n",
        "plt.ylabel('weights')\n",
        "plt.title('Ridge coefficients as a function of the regularization')\n",
        "plt.axis('tight')\n",
        "plt.show()"
      ],
      "execution_count": 26,
      "outputs": [
        {
          "output_type": "display_data",
          "data": {
            "image/png": "[encoded data removed]",
            "text/plain": [
              "<matplotlib.figure.Figure at 0x7fa85c68b908>"
            ]
          },
          "metadata": {
            "tags": []
          }
        }
      ]
    },
    {
      "metadata": {
        "id": "p6wFjinuDKKE",
        "colab_type": "code",
        "colab": {
          "base_uri": "https://localhost:8080/",
          "height": 4796
        },
        "outputId": "670bd82e-e671-4f77-bd37-46965a5a5c1f"
      },
      "cell_type": "code",
      "source": [
        "from __future__ import print_function\n",
        "\n",
        "import logging\n",
        "import numpy as np\n",
        "from optparse import OptionParser\n",
        "import sys\n",
        "from time import time\n",
        "import matplotlib.pyplot as plt\n",
        "\n",
        "from sklearn.datasets import fetch_20newsgroups\n",
        "from sklearn.feature_extraction.text import TfidfVectorizer\n",
        "from sklearn.feature_extraction.text import HashingVectorizer\n",
        "from sklearn.feature_selection import SelectFromModel\n",
        "from sklearn.feature_selection import SelectKBest, chi2\n",
        "from sklearn.linear_model import RidgeClassifier\n",
        "from sklearn.pipeline import Pipeline\n",
        "from sklearn.svm import LinearSVC\n",
        "from sklearn.linear_model import SGDClassifier\n",
        "from sklearn.linear_model import Perceptron\n",
        "from sklearn.linear_model import PassiveAggressiveClassifier\n",
        "from sklearn.naive_bayes import BernoulliNB, MultinomialNB\n",
        "from sklearn.neighbors import KNeighborsClassifier\n",
        "from sklearn.neighbors import NearestCentroid\n",
        "from sklearn.ensemble import RandomForestClassifier\n",
        "from sklearn.utils.extmath import density\n",
        "from sklearn import metrics\n",
        "\n",
        "\n",
        "# Display progress logs on stdout\n",
        "logging.basicConfig(level=logging.INFO,\n",
        "                    format='%(asctime)s %(levelname)s %(message)s')\n",
        "\n",
        "\n",
        "# parse commandline arguments\n",
        "op = OptionParser()\n",
        "op.add_option(\"--report\",\n",
        "              action=\"store_true\", dest=\"print_report\",\n",
        "              help=\"Print a detailed classification report.\")\n",
        "op.add_option(\"--chi2_select\",\n",
        "              action=\"store\", type=\"int\", dest=\"select_chi2\",\n",
        "              help=\"Select some number of features using a chi-squared test\")\n",
        "op.add_option(\"--confusion_matrix\",\n",
        "              action=\"store_true\", dest=\"print_cm\",\n",
        "              help=\"Print the confusion matrix.\")\n",
        "op.add_option(\"--top10\",\n",
        "              action=\"store_true\", dest=\"print_top10\",\n",
        "              help=\"Print ten most discriminative terms per class\"\n",
        "                   \" for every classifier.\")\n",
        "op.add_option(\"--all_categories\",\n",
        "              action=\"store_true\", dest=\"all_categories\",\n",
        "              help=\"Whether to use all categories or not.\")\n",
        "op.add_option(\"--use_hashing\",\n",
        "              action=\"store_true\",\n",
        "              help=\"Use a hashing vectorizer.\")\n",
        "op.add_option(\"--n_features\",\n",
        "              action=\"store\", type=int, default=2 ** 16,\n",
        "              help=\"n_features when using the hashing vectorizer.\")\n",
        "op.add_option(\"--filtered\",\n",
        "              action=\"store_true\",\n",
        "              help=\"Remove newsgroup information that is easily overfit: \"\n",
        "                   \"headers, signatures, and quoting.\")\n",
        "\n",
        "\n",
        "def is_interactive():\n",
        "    return not hasattr(sys.modules['__main__'], '__file__')\n",
        "\n",
        "# work-around for Jupyter notebook and IPython console\n",
        "argv = [] if is_interactive() else sys.argv[1:]\n",
        "(opts, args) = op.parse_args(argv)\n",
        "if len(args) > 0:\n",
        "    op.error(\"this script takes no arguments.\")\n",
        "    sys.exit(1)\n",
        "\n",
        "print(__doc__)\n",
        "op.print_help()\n",
        "print()\n",
        "\n",
        "\n",
        "# #############################################################################\n",
        "# Load some categories from the training set\n",
        "if opts.all_categories:\n",
        "    categories = None\n",
        "else:\n",
        "    categories = [\n",
        "        'alt.atheism',\n",
        "        'talk.religion.misc',\n",
        "        'comp.graphics',\n",
        "        'sci.space',\n",
        "    ]\n",
        "\n",
        "if opts.filtered:\n",
        "    remove = ('headers', 'footers', 'quotes')\n",
        "else:\n",
        "    remove = ()\n",
        "\n",
        "print(\"Loading 20 newsgroups dataset for categories:\")\n",
        "print(categories if categories else \"all\")\n",
        "\n",
        "data_train = fetch_20newsgroups(subset='train', categories=categories,\n",
        "                                shuffle=True, random_state=42,\n",
        "                                remove=remove)\n",
        "\n",
        "data_test = fetch_20newsgroups(subset='test', categories=categories,\n",
        "                               shuffle=True, random_state=42,\n",
        "                               remove=remove)\n",
        "print('data loaded')\n",
        "\n",
        "# order of labels in `target_names` can be different from `categories`\n",
        "target_names = data_train.target_names\n",
        "\n",
        "\n",
        "def size_mb(docs):\n",
        "    return sum(len(s.encode('utf-8')) for s in docs) / 1e6\n",
        "\n",
        "data_train_size_mb = size_mb(data_train.data)\n",
        "data_test_size_mb = size_mb(data_test.data)\n",
        "\n",
        "print(\"%d documents - %0.3fMB (training set)\" % (\n",
        "    len(data_train.data), data_train_size_mb))\n",
        "print(\"%d documents - %0.3fMB (test set)\" % (\n",
        "    len(data_test.data), data_test_size_mb))\n",
        "print(\"%d categories\" % len(categories))\n",
        "print()\n",
        "\n",
        "# split a training set and a test set\n",
        "y_train, y_test = data_train.target, data_test.target\n",
        "\n",
        "print(\"Extracting features from the training data using a sparse vectorizer\")\n",
        "t0 = time()\n",
        "if opts.use_hashing:\n",
        "    vectorizer = HashingVectorizer(stop_words='english', alternate_sign=False,\n",
        "                                   n_features=opts.n_features)\n",
        "    X_train = vectorizer.transform(data_train.data)\n",
        "else:\n",
        "    vectorizer = TfidfVectorizer(sublinear_tf=True, max_df=0.5,\n",
        "                                 stop_words='english')\n",
        "    X_train = vectorizer.fit_transform(data_train.data)\n",
        "duration = time() - t0\n",
        "print(\"done in %fs at %0.3fMB/s\" % (duration, data_train_size_mb / duration))\n",
        "print(\"n_samples: %d, n_features: %d\" % X_train.shape)\n",
        "print()\n",
        "\n",
        "print(\"Extracting features from the test data using the same vectorizer\")\n",
        "t0 = time()\n",
        "X_test = vectorizer.transform(data_test.data)\n",
        "duration = time() - t0\n",
        "print(\"done in %fs at %0.3fMB/s\" % (duration, data_test_size_mb / duration))\n",
        "print(\"n_samples: %d, n_features: %d\" % X_test.shape)\n",
        "print()\n",
        "\n",
        "# mapping from integer feature name to original token string\n",
        "if opts.use_hashing:\n",
        "    feature_names = None\n",
        "else:\n",
        "    feature_names = vectorizer.get_feature_names()\n",
        "\n",
        "if opts.select_chi2:\n",
        "    print(\"Extracting %d best features by a chi-squared test\" %\n",
        "          opts.select_chi2)\n",
        "    t0 = time()\n",
        "    ch2 = SelectKBest(chi2, k=opts.select_chi2)\n",
        "    X_train = ch2.fit_transform(X_train, y_train)\n",
        "    X_test = ch2.transform(X_test)\n",
        "    if feature_names:\n",
        "        # keep selected feature names\n",
        "        feature_names = [feature_names[i] for i\n",
        "                         in ch2.get_support(indices=True)]\n",
        "    print(\"done in %fs\" % (time() - t0))\n",
        "    print()\n",
        "\n",
        "if feature_names:\n",
        "    feature_names = np.asarray(feature_names)\n",
        "\n",
        "\n",
        "def trim(s):\n",
        "    \"\"\"Trim string to fit on terminal (assuming 80-column display)\"\"\"\n",
        "    return s if len(s) <= 80 else s[:77] + \"...\"\n",
        "\n",
        "\n",
        "# #############################################################################\n",
        "# Benchmark classifiers\n",
        "def benchmark(clf):\n",
        "    print('_' * 80)\n",
        "    print(\"Training: \")\n",
        "    print(clf)\n",
        "    t0 = time()\n",
        "    clf.fit(X_train, y_train)\n",
        "    train_time = time() - t0\n",
        "    print(\"train time: %0.3fs\" % train_time)\n",
        "\n",
        "    t0 = time()\n",
        "    pred = clf.predict(X_test)\n",
        "    test_time = time() - t0\n",
        "    print(\"test time:  %0.3fs\" % test_time)\n",
        "\n",
        "    score = metrics.accuracy_score(y_test, pred)\n",
        "    print(\"accuracy:   %0.3f\" % score)\n",
        "\n",
        "    if hasattr(clf, 'coef_'):\n",
        "        print(\"dimensionality: %d\" % clf.coef_.shape[1])\n",
        "        print(\"density: %f\" % density(clf.coef_))\n",
        "\n",
        "        if opts.print_top10 and feature_names is not None:\n",
        "            print(\"top 10 keywords per class:\")\n",
        "            for i, label in enumerate(target_names):\n",
        "                top10 = np.argsort(clf.coef_[i])[-10:]\n",
        "                print(trim(\"%s: %s\" % (label, \" \".join(feature_names[top10]))))\n",
        "        print()\n",
        "\n",
        "    if opts.print_report:\n",
        "        print(\"classification report:\")\n",
        "        print(metrics.classification_report(y_test, pred,\n",
        "                                            target_names=target_names))\n",
        "\n",
        "    if opts.print_cm:\n",
        "        print(\"confusion matrix:\")\n",
        "        print(metrics.confusion_matrix(y_test, pred))\n",
        "\n",
        "    print()\n",
        "    clf_descr = str(clf).split('(')[0]\n",
        "    return clf_descr, score, train_time, test_time\n",
        "\n",
        "\n",
        "results = []\n",
        "for clf, name in (\n",
        "        (RidgeClassifier(tol=1e-2, solver=\"lsqr\"), \"Ridge Classifier\"),\n",
        "        (Perceptron(n_iter=50), \"Perceptron\"),\n",
        "        (PassiveAggressiveClassifier(n_iter=50), \"Passive-Aggressive\"),\n",
        "        (KNeighborsClassifier(n_neighbors=10), \"kNN\"),\n",
        "        (RandomForestClassifier(n_estimators=100), \"Random forest\")):\n",
        "    print('=' * 80)\n",
        "    print(name)\n",
        "    results.append(benchmark(clf))\n",
        "\n",
        "for penalty in [\"l2\", \"l1\"]:\n",
        "    print('=' * 80)\n",
        "    print(\"%s penalty\" % penalty.upper())\n",
        "    # Train Liblinear model\n",
        "    results.append(benchmark(LinearSVC(penalty=penalty, dual=False,\n",
        "                                       tol=1e-3)))\n",
        "\n",
        "    # Train SGD model\n",
        "    results.append(benchmark(SGDClassifier(alpha=.0001, n_iter=50,\n",
        "                                           penalty=penalty)))\n",
        "\n",
        "# Train SGD with Elastic Net penalty\n",
        "print('=' * 80)\n",
        "print(\"Elastic-Net penalty\")\n",
        "results.append(benchmark(SGDClassifier(alpha=.0001, n_iter=50,\n",
        "                                       penalty=\"elasticnet\")))\n",
        "\n",
        "# Train NearestCentroid without threshold\n",
        "print('=' * 80)\n",
        "print(\"NearestCentroid (aka Rocchio classifier)\")\n",
        "results.append(benchmark(NearestCentroid()))\n",
        "\n",
        "# Train sparse Naive Bayes classifiers\n",
        "print('=' * 80)\n",
        "print(\"Naive Bayes\")\n",
        "results.append(benchmark(MultinomialNB(alpha=.01)))\n",
        "results.append(benchmark(BernoulliNB(alpha=.01)))\n",
        "\n",
        "print('=' * 80)\n",
        "print(\"LinearSVC with L1-based feature selection\")\n",
        "# The smaller C, the stronger the regularization.\n",
        "# The more regularization, the more sparsity.\n",
        "results.append(benchmark(Pipeline([\n",
        "  ('feature_selection', SelectFromModel(LinearSVC(penalty=\"l1\", dual=False,\n",
        "                                                  tol=1e-3))),\n",
        "  ('classification', LinearSVC(penalty=\"l2\"))])))\n",
        "\n",
        "# make some plots\n",
        "\n",
        "indices = np.arange(len(results))\n",
        "\n",
        "results = [[x[i] for x in results] for i in range(4)]\n",
        "\n",
        "clf_names, score, training_time, test_time = results\n",
        "training_time = np.array(training_time) / np.max(training_time)\n",
        "test_time = np.array(test_time) / np.max(test_time)\n",
        "\n",
        "plt.figure(figsize=(12, 8))\n",
        "plt.title(\"Score\")\n",
        "plt.barh(indices, score, .2, label=\"score\", color='navy')\n",
        "plt.barh(indices + .3, training_time, .2, label=\"training time\",\n",
        "         color='c')\n",
        "plt.barh(indices + .6, test_time, .2, label=\"test time\", color='darkorange')\n",
        "plt.yticks(())\n",
        "plt.legend(loc='best')\n",
        "plt.subplots_adjust(left=.25)\n",
        "plt.subplots_adjust(top=.95)\n",
        "plt.subplots_adjust(bottom=.05)\n",
        "\n",
        "for i, c in zip(indices, clf_names):\n",
        "    plt.text(-.3, i, c)\n",
        "\n",
        "plt.show()"
      ],
      "execution_count": 54,
      "outputs": [
        {
          "output_type": "stream",
          "text": [
            "Automatically created module for IPython interactive environment\n",
            "Usage: ipykernel_launcher.py [options]\n",
            "\n",
            "Options:\n",
            "  -h, --help            show this help message and exit\n",
            "  --report              Print a detailed classification report.\n",
            "  --chi2_select=SELECT_CHI2\n",
            "                        Select some number of features using a chi-squared\n",
            "                        test\n",
            "  --confusion_matrix    Print the confusion matrix.\n",
            "  --top10               Print ten most discriminative terms per class for\n",
            "                        every classifier.\n",
            "  --all_categories      Whether to use all categories or not.\n",
            "  --use_hashing         Use a hashing vectorizer.\n",
            "  --n_features=N_FEATURES\n",
            "                        n_features when using the hashing vectorizer.\n",
            "  --filtered            Remove newsgroup information that is easily overfit:\n",
            "                        headers, signatures, and quoting.\n",
            "\n",
            "Loading 20 newsgroups dataset for categories:\n",
            "['alt.atheism', 'talk.religion.misc', 'comp.graphics', 'sci.space']\n",
            "data loaded\n",
            "2034 documents - 3.980MB (training set)\n",
            "1353 documents - 2.867MB (test set)\n",
            "4 categories\n",
            "\n",
            "Extracting features from the training data using a sparse vectorizer\n",
            "done in 0.596306s at 6.674MB/s\n",
            "n_samples: 2034, n_features: 33809\n",
            "\n",
            "Extracting features from the test data using the same vectorizer\n",
            "done in 0.339169s at 8.454MB/s\n",
            "n_samples: 1353, n_features: 33809\n",
            "\n",
            "================================================================================\n",
            "Ridge Classifier\n",
            "________________________________________________________________________________\n",
            "Training: \n",
            "RidgeClassifier(alpha=1.0, class_weight=None, copy_X=True, fit_intercept=True,\n",
            "        max_iter=None, normalize=False, random_state=None, solver='lsqr',\n",
            "        tol=0.01)\n"
          ],
          "name": "stdout"
        },
        {
          "output_type": "stream",
          "text": [
            "/usr/local/lib/python3.6/dist-packages/sklearn/linear_model/ridge.py:319: UserWarning: In Ridge, only 'sag' solver can currently fit the intercept when X is sparse. Solver has been automatically changed into 'sag'.\n",
            "  warnings.warn(\"In Ridge, only 'sag' solver can currently fit the \"\n"
          ],
          "name": "stderr"
        },
        {
          "output_type": "stream",
          "text": [
            "train time: 0.226s\n",
            "test time:  0.003s\n",
            "accuracy:   0.897\n",
            "dimensionality: 33809\n",
            "density: 1.000000\n",
            "\n",
            "\n",
            "================================================================================\n",
            "Perceptron\n",
            "________________________________________________________________________________\n",
            "Training: \n",
            "Perceptron(alpha=0.0001, class_weight=None, eta0=1.0, fit_intercept=True,\n",
            "      max_iter=None, n_iter=50, n_jobs=1, penalty=None, random_state=0,\n",
            "      shuffle=True, tol=None, verbose=0, warm_start=False)\n",
            "train time: 0.119s\n",
            "test time:  0.004s\n",
            "accuracy:   0.885\n",
            "dimensionality: 33809\n",
            "density: 0.240165\n",
            "\n",
            "\n",
            "================================================================================\n",
            "Passive-Aggressive\n",
            "________________________________________________________________________________\n",
            "Training: \n",
            "PassiveAggressiveClassifier(C=1.0, average=False, class_weight=None,\n",
            "              fit_intercept=True, loss='hinge', max_iter=None, n_iter=50,\n",
            "              n_jobs=1, random_state=None, shuffle=True, tol=None,\n",
            "              verbose=0, warm_start=False)\n"
          ],
          "name": "stdout"
        },
        {
          "output_type": "stream",
          "text": [
            "/usr/local/lib/python3.6/dist-packages/sklearn/linear_model/stochastic_gradient.py:117: DeprecationWarning: n_iter parameter is deprecated in 0.19 and will be removed in 0.21. Use max_iter and tol instead.\n",
            "  DeprecationWarning)\n",
            "/usr/local/lib/python3.6/dist-packages/sklearn/linear_model/stochastic_gradient.py:117: DeprecationWarning: n_iter parameter is deprecated in 0.19 and will be removed in 0.21. Use max_iter and tol instead.\n",
            "  DeprecationWarning)\n"
          ],
          "name": "stderr"
        },
        {
          "output_type": "stream",
          "text": [
            "train time: 0.183s\n",
            "test time:  0.003s\n",
            "accuracy:   0.903\n",
            "dimensionality: 33809\n",
            "density: 0.690282\n",
            "\n",
            "\n",
            "================================================================================\n",
            "kNN\n",
            "________________________________________________________________________________\n",
            "Training: \n",
            "KNeighborsClassifier(algorithm='auto', leaf_size=30, metric='minkowski',\n",
            "           metric_params=None, n_jobs=1, n_neighbors=10, p=2,\n",
            "           weights='uniform')\n",
            "train time: 0.002s\n",
            "test time:  0.208s\n",
            "accuracy:   0.858\n",
            "\n",
            "================================================================================\n",
            "Random forest\n",
            "________________________________________________________________________________\n",
            "Training: \n",
            "RandomForestClassifier(bootstrap=True, class_weight=None, criterion='gini',\n",
            "            max_depth=None, max_features='auto', max_leaf_nodes=None,\n",
            "            min_impurity_decrease=0.0, min_impurity_split=None,\n",
            "            min_samples_leaf=1, min_samples_split=2,\n",
            "            min_weight_fraction_leaf=0.0, n_estimators=100, n_jobs=1,\n",
            "            oob_score=False, random_state=None, verbose=0,\n",
            "            warm_start=False)\n",
            "train time: 2.159s\n",
            "test time:  0.096s\n",
            "accuracy:   0.840\n",
            "\n",
            "================================================================================\n",
            "L2 penalty\n",
            "________________________________________________________________________________\n",
            "Training: \n",
            "LinearSVC(C=1.0, class_weight=None, dual=False, fit_intercept=True,\n",
            "     intercept_scaling=1, loss='squared_hinge', max_iter=1000,\n",
            "     multi_class='ovr', penalty='l2', random_state=None, tol=0.001,\n",
            "     verbose=0)\n",
            "train time: 0.168s\n",
            "test time:  0.002s\n",
            "accuracy:   0.900\n",
            "dimensionality: 33809\n",
            "density: 1.000000\n",
            "\n",
            "\n",
            "________________________________________________________________________________\n",
            "Training: \n",
            "SGDClassifier(alpha=0.0001, average=False, class_weight=None, epsilon=0.1,\n",
            "       eta0=0.0, fit_intercept=True, l1_ratio=0.15,\n",
            "       learning_rate='optimal', loss='hinge', max_iter=None, n_iter=50,\n",
            "       n_jobs=1, penalty='l2', power_t=0.5, random_state=None,\n",
            "       shuffle=True, tol=None, verbose=0, warm_start=False)\n",
            "train time: 0.124s\n",
            "test time:  0.002s\n",
            "accuracy:   0.901\n",
            "dimensionality: 33809\n",
            "density: 0.670561\n",
            "\n",
            "\n",
            "================================================================================\n",
            "L1 penalty\n",
            "________________________________________________________________________________\n",
            "Training: \n",
            "LinearSVC(C=1.0, class_weight=None, dual=False, fit_intercept=True,\n",
            "     intercept_scaling=1, loss='squared_hinge', max_iter=1000,\n",
            "     multi_class='ovr', penalty='l1', random_state=None, tol=0.001,\n",
            "     verbose=0)\n"
          ],
          "name": "stdout"
        },
        {
          "output_type": "stream",
          "text": [
            "/usr/local/lib/python3.6/dist-packages/sklearn/linear_model/stochastic_gradient.py:117: DeprecationWarning: n_iter parameter is deprecated in 0.19 and will be removed in 0.21. Use max_iter and tol instead.\n",
            "  DeprecationWarning)\n"
          ],
          "name": "stderr"
        },
        {
          "output_type": "stream",
          "text": [
            "train time: 0.286s\n",
            "test time:  0.002s\n",
            "accuracy:   0.873\n",
            "dimensionality: 33809\n",
            "density: 0.005538\n",
            "\n",
            "\n",
            "________________________________________________________________________________\n",
            "Training: \n",
            "SGDClassifier(alpha=0.0001, average=False, class_weight=None, epsilon=0.1,\n",
            "       eta0=0.0, fit_intercept=True, l1_ratio=0.15,\n",
            "       learning_rate='optimal', loss='hinge', max_iter=None, n_iter=50,\n",
            "       n_jobs=1, penalty='l1', power_t=0.5, random_state=None,\n",
            "       shuffle=True, tol=None, verbose=0, warm_start=False)\n"
          ],
          "name": "stdout"
        },
        {
          "output_type": "stream",
          "text": [
            "/usr/local/lib/python3.6/dist-packages/sklearn/linear_model/stochastic_gradient.py:117: DeprecationWarning: n_iter parameter is deprecated in 0.19 and will be removed in 0.21. Use max_iter and tol instead.\n",
            "  DeprecationWarning)\n"
          ],
          "name": "stderr"
        },
        {
          "output_type": "stream",
          "text": [
            "train time: 0.405s\n",
            "test time:  0.002s\n",
            "accuracy:   0.890\n",
            "dimensionality: 33809\n",
            "density: 0.019965\n",
            "\n",
            "\n",
            "================================================================================\n",
            "Elastic-Net penalty\n",
            "________________________________________________________________________________\n",
            "Training: \n",
            "SGDClassifier(alpha=0.0001, average=False, class_weight=None, epsilon=0.1,\n",
            "       eta0=0.0, fit_intercept=True, l1_ratio=0.15,\n",
            "       learning_rate='optimal', loss='hinge', max_iter=None, n_iter=50,\n",
            "       n_jobs=1, penalty='elasticnet', power_t=0.5, random_state=None,\n",
            "       shuffle=True, tol=None, verbose=0, warm_start=False)\n"
          ],
          "name": "stdout"
        },
        {
          "output_type": "stream",
          "text": [
            "/usr/local/lib/python3.6/dist-packages/sklearn/linear_model/stochastic_gradient.py:117: DeprecationWarning: n_iter parameter is deprecated in 0.19 and will be removed in 0.21. Use max_iter and tol instead.\n",
            "  DeprecationWarning)\n"
          ],
          "name": "stderr"
        },
        {
          "output_type": "stream",
          "text": [
            "train time: 0.609s\n",
            "test time:  0.002s\n",
            "accuracy:   0.900\n",
            "dimensionality: 33809\n",
            "density: 0.187125\n",
            "\n",
            "\n",
            "================================================================================\n",
            "NearestCentroid (aka Rocchio classifier)\n",
            "________________________________________________________________________________\n",
            "Training: \n",
            "NearestCentroid(metric='euclidean', shrink_threshold=None)\n",
            "train time: 0.023s\n",
            "test time:  0.003s\n",
            "accuracy:   0.855\n",
            "\n",
            "================================================================================\n",
            "Naive Bayes\n",
            "________________________________________________________________________________\n",
            "Training: \n",
            "MultinomialNB(alpha=0.01, class_prior=None, fit_prior=True)\n",
            "train time: 0.010s\n",
            "test time:  0.002s\n",
            "accuracy:   0.899\n",
            "dimensionality: 33809\n",
            "density: 1.000000\n",
            "\n",
            "\n",
            "________________________________________________________________________________\n",
            "Training: \n",
            "BernoulliNB(alpha=0.01, binarize=0.0, class_prior=None, fit_prior=True)\n",
            "train time: 0.012s\n",
            "test time:  0.012s\n",
            "accuracy:   0.884\n",
            "dimensionality: 33809\n",
            "density: 1.000000\n",
            "\n",
            "\n",
            "================================================================================\n",
            "LinearSVC with L1-based feature selection\n",
            "________________________________________________________________________________\n",
            "Training: \n",
            "Pipeline(memory=None,\n",
            "     steps=[('feature_selection', SelectFromModel(estimator=LinearSVC(C=1.0, class_weight=None, dual=False, fit_intercept=True,\n",
            "     intercept_scaling=1, loss='squared_hinge', max_iter=1000,\n",
            "     multi_class='ovr', penalty='l1', random_state=None, tol=0.001,\n",
            "     verbose=0),\n",
            "        norm_order=1, prefit=...ax_iter=1000,\n",
            "     multi_class='ovr', penalty='l2', random_state=None, tol=0.0001,\n",
            "     verbose=0))])\n",
            "train time: 0.305s\n",
            "test time:  0.005s\n",
            "accuracy:   0.880\n",
            "\n"
          ],
          "name": "stdout"
        },
        {
          "output_type": "display_data",
          "data": {
            "image/png": "[encoded data removed]",
            "text/plain": [
              "<matplotlib.figure.Figure at 0x7fa85b9b9438>"
            ]
          },
          "metadata": {
            "tags": []
          }
        }
      ]
    }
  ]
}