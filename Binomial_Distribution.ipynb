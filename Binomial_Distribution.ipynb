{
  "nbformat": 4,
  "nbformat_minor": 0,
  "metadata": {
    "colab": {
      "name": "Binomial_Distribution.ipynb",
      "version": "0.3.2",
      "provenance": []
    },
    "kernelspec": {
      "name": "python3",
      "display_name": "Python 3"
    },
    "accelerator": "GPU"
  },
  "cells": [
    {
      "cell_type": "markdown",
      "metadata": {
        "id": "view-in-github",
        "colab_type": "text"
      },
      "source": [
        "[View in Colaboratory](https://colab.research.google.com/github/kintarou/django-starter/blob/master/Binomial_Distribution.ipynb)"
      ]
    },
    {
      "metadata": {
        "id": "LP6IwDvW0SER",
        "colab_type": "code",
        "colab": {}
      },
      "cell_type": "code",
      "source": [
        "import numpy as np\n",
        "import pandas as pd\n",
        "import scipy as sp\n",
        "from scipy import stats\n",
        "from matplotlib import pyplot as plt\n",
        "import seaborn as sns\n",
        "sns.set()\n",
        "%precision 3\n",
        "%matplotlib inline"
      ],
      "execution_count": 0,
      "outputs": []
    },
    {
      "metadata": {
        "id": "ysb8R-vo1Ot4",
        "colab_type": "code",
        "colab": {
          "base_uri": "https://localhost:8080/",
          "height": 34
        },
        "outputId": "d9110381-29be-43c0-81de-9f04fe4bf76c"
      },
      "cell_type": "code",
      "source": [
        "sp.stats.binom.pmf(k=1, n=2, p=0.5)"
      ],
      "execution_count": 2,
      "outputs": [
        {
          "output_type": "execute_result",
          "data": {
            "text/plain": [
              "0.500"
            ]
          },
          "metadata": {
            "tags": []
          },
          "execution_count": 2
        }
      ]
    },
    {
      "metadata": {
        "id": "jdt2xHaw1a4y",
        "colab_type": "code",
        "colab": {
          "base_uri": "https://localhost:8080/",
          "height": 34
        },
        "outputId": "e74e7bed-e33b-44f1-a95c-f91b1692c0d6"
      },
      "cell_type": "code",
      "source": [
        "np.random.seed(1)\n",
        "sp.stats.binom.rvs(n=10, p=0.2, size=5)"
      ],
      "execution_count": 4,
      "outputs": [
        {
          "output_type": "execute_result",
          "data": {
            "text/plain": [
              "array([2, 3, 0, 1, 1])"
            ]
          },
          "metadata": {
            "tags": []
          },
          "execution_count": 4
        }
      ]
    },
    {
      "metadata": {
        "id": "jpSZyG0m1s-d",
        "colab_type": "code",
        "colab": {
          "base_uri": "https://localhost:8080/",
          "height": 282
        },
        "outputId": "368b1279-b3c5-435f-e47b-db4ac0a28139"
      },
      "cell_type": "code",
      "source": [
        "binomial = sp.stats.binom(n=10, p=0.32)\n",
        "np.random.seed(1)\n",
        "rvs_binomial=binomial.rvs(size=10000)\n",
        "m = np.arange(0, 10, 1)\n",
        "pmf_binomial=binomial.pmf(k=m)\n",
        "sns.distplot(rvs_binomial, bins=m, kde=False, norm_hist=True, color='red')\n",
        "plt.plot(m, pmf_binomial, color='blue')"
      ],
      "execution_count": 8,
      "outputs": [
        {
          "output_type": "execute_result",
          "data": {
            "text/plain": [
              "[<matplotlib.lines.Line2D at 0x7f40d37eef60>]"
            ]
          },
          "metadata": {
            "tags": []
          },
          "execution_count": 8
        },
        {
          "output_type": "display_data",
          "data": {
            "image/png": "[encoded data removed]",
            "text/plain": [
              "<matplotlib.figure.Figure at 0x7f40d16c0400>"
            ]
          },
          "metadata": {
            "tags": []
          }
        }
      ]
    },
    {
      "metadata": {
        "id": "XwkLE9eQIUj3",
        "colab_type": "code",
        "colab": {
          "base_uri": "https://localhost:8080/",
          "height": 34
        },
        "outputId": "81b797fe-765e-4d86-c528-b16212784c4a"
      },
      "cell_type": "code",
      "source": [
        "sp.stats.poisson.pmf(k=2, mu=5)"
      ],
      "execution_count": 10,
      "outputs": [
        {
          "output_type": "execute_result",
          "data": {
            "text/plain": [
              "0.084"
            ]
          },
          "metadata": {
            "tags": []
          },
          "execution_count": 10
        }
      ]
    },
    {
      "metadata": {
        "id": "S-y66_2LIjWt",
        "colab_type": "code",
        "colab": {
          "base_uri": "https://localhost:8080/",
          "height": 34
        },
        "outputId": "5788a035-2f0f-425f-a7c4-09497b41bfa9"
      },
      "cell_type": "code",
      "source": [
        "np.random.seed(1)\n",
        "sp.stats.poisson.rvs(mu=2, size=5)"
      ],
      "execution_count": 11,
      "outputs": [
        {
          "output_type": "execute_result",
          "data": {
            "text/plain": [
              "array([2, 1, 0, 1, 2])"
            ]
          },
          "metadata": {
            "tags": []
          },
          "execution_count": 11
        }
      ]
    },
    {
      "metadata": {
        "id": "9rYQN1isIt1P",
        "colab_type": "code",
        "colab": {
          "base_uri": "https://localhost:8080/",
          "height": 282
        },
        "outputId": "029daf1a-cb24-4782-af49-a05b4d7a378a"
      },
      "cell_type": "code",
      "source": [
        "poisson = sp.stats.poisson(mu=2)\n",
        "np.random.seed(1)\n",
        "rvs_poisson=poisson.rvs(size=10000)\n",
        "pmf_poisson=poisson.pmf(k=m)\n",
        "sns.distplot(rvs_poisson, bins=m, kde=False, norm_hist=True,color='red')\n",
        "plt.plot(m, pmf_poisson, color='blue')"
      ],
      "execution_count": 14,
      "outputs": [
        {
          "output_type": "execute_result",
          "data": {
            "text/plain": [
              "[<matplotlib.lines.Line2D at 0x7f40d160e710>]"
            ]
          },
          "metadata": {
            "tags": []
          },
          "execution_count": 14
        },
        {
          "output_type": "display_data",
          "data": {
            "image/png": "[encoded data removed]",
            "text/plain": [
              "<matplotlib.figure.Figure at 0x7f40d1657358>"
            ]
          },
          "metadata": {
            "tags": []
          }
        }
      ]
    },
    {
      "metadata": {
        "id": "wODF4FGiJpZl",
        "colab_type": "code",
        "colab": {
          "base_uri": "https://localhost:8080/",
          "height": 282
        },
        "outputId": "bb1b6c4e-043c-4268-e05b-ada9a4be7de6"
      },
      "cell_type": "code",
      "source": [
        "N=100000000\n",
        "p=0.0000002\n",
        "binomial_2=sp.stats.binom(n=N, p=p)\n",
        "pmf_binomial_2=binomial_2.pmf(k=m)\n",
        "plt.plot(m, pmf_poisson, color='red')\n",
        "plt.plot(m, pmf_binomial_2, color='blue',linestyle='dotted')"
      ],
      "execution_count": 15,
      "outputs": [
        {
          "output_type": "execute_result",
          "data": {
            "text/plain": [
              "[<matplotlib.lines.Line2D at 0x7f40d15985c0>]"
            ]
          },
          "metadata": {
            "tags": []
          },
          "execution_count": 15
        },
        {
          "output_type": "display_data",
          "data": {
            "image/png": "[encoded data removed]",
            "text/plain": [
              "<matplotlib.figure.Figure at 0x7f40d1598860>"
            ]
          },
          "metadata": {
            "tags": []
          }
        }
      ]
    }
  ]
}